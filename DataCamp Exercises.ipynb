{
 "cells": [
  {
   "cell_type": "code",
   "execution_count": 1,
   "metadata": {
    "collapsed": true
   },
   "outputs": [],
   "source": [
    "import numpy as np\n",
    "import pandas as pd\n"
   ]
  },
  {
   "cell_type": "code",
   "execution_count": null,
   "metadata": {
    "collapsed": true
   },
   "outputs": [],
   "source": []
  },
  {
   "cell_type": "code",
   "execution_count": 3,
   "metadata": {
    "collapsed": true
   },
   "outputs": [],
   "source": [
    "dataset=pd.read_csv('example.csv')"
   ]
  },
  {
   "cell_type": "code",
   "execution_count": 4,
   "metadata": {},
   "outputs": [
    {
     "data": {
      "text/html": [
       "<div>\n",
       "<style scoped>\n",
       "    .dataframe tbody tr th:only-of-type {\n",
       "        vertical-align: middle;\n",
       "    }\n",
       "\n",
       "    .dataframe tbody tr th {\n",
       "        vertical-align: top;\n",
       "    }\n",
       "\n",
       "    .dataframe thead th {\n",
       "        text-align: right;\n",
       "    }\n",
       "</style>\n",
       "<table border=\"1\" class=\"dataframe\">\n",
       "  <thead>\n",
       "    <tr style=\"text-align: right;\">\n",
       "      <th></th>\n",
       "      <th>Unnamed: 0</th>\n",
       "      <th>MONTH</th>\n",
       "      <th>day</th>\n",
       "      <th>year</th>\n",
       "      <th>session_id</th>\n",
       "    </tr>\n",
       "  </thead>\n",
       "  <tbody>\n",
       "    <tr>\n",
       "      <th>0</th>\n",
       "      <td>a</td>\n",
       "      <td>JAN</td>\n",
       "      <td>7</td>\n",
       "      <td>2015</td>\n",
       "      <td>17357</td>\n",
       "    </tr>\n",
       "    <tr>\n",
       "      <th>1</th>\n",
       "      <td>b</td>\n",
       "      <td>FEB</td>\n",
       "      <td>8</td>\n",
       "      <td>2015</td>\n",
       "      <td>10011</td>\n",
       "    </tr>\n",
       "  </tbody>\n",
       "</table>\n",
       "</div>"
      ],
      "text/plain": [
       "  Unnamed: 0 MONTH  day  year  session_id\n",
       "0          a   JAN    7  2015       17357\n",
       "1          b   FEB    8  2015       10011"
      ]
     },
     "execution_count": 4,
     "metadata": {},
     "output_type": "execute_result"
    }
   ],
   "source": [
    "dataset.head()"
   ]
  },
  {
   "cell_type": "code",
   "execution_count": 7,
   "metadata": {},
   "outputs": [
    {
     "name": "stdout",
     "output_type": "stream",
     "text": [
      "  Unnamed: 0 MONTH  day  year  session_id month\n",
      "0          a   JAN    7  2015       17357   jan\n",
      "1          b   FEB    8  2015       10011   feb\n"
     ]
    }
   ],
   "source": [
    "for i, q in dataset.iterrows():\n",
    "    dataset.loc[i, 'month'] = q['MONTH'].lower()\n",
    "    \n",
    "print(dataset)\n",
    "\n"
   ]
  },
  {
   "cell_type": "code",
   "execution_count": 8,
   "metadata": {},
   "outputs": [
    {
     "name": "stdout",
     "output_type": "stream",
     "text": [
      "Element 0 - 14.09\n",
      "Element 1 - 7.19\n",
      "Element 2 - 19.76\n",
      "Element 3 - 14.5\n"
     ]
    }
   ],
   "source": [
    "p = [14.09, 7.19, 19.76, 14.5]\n",
    "for j, x in enumerate(p):\n",
    "    print('Element ' + str(j) + ' -', str(x))"
   ]
  },
  {
   "cell_type": "code",
   "execution_count": 9,
   "metadata": {},
   "outputs": [
    {
     "name": "stdout",
     "output_type": "stream",
     "text": [
      "Unnamed: 0    a\n",
      "Name: 0, dtype: object\n"
     ]
    }
   ],
   "source": [
    "print(dataset.iloc[0,[0]])"
   ]
  },
  {
   "cell_type": "code",
   "execution_count": 14,
   "metadata": {},
   "outputs": [
    {
     "name": "stdout",
     "output_type": "stream",
     "text": [
      "day    7\n",
      "Name: 0, dtype: object\n"
     ]
    }
   ],
   "source": [
    "print(dataset.iloc[0,[2]])"
   ]
  },
  {
   "cell_type": "code",
   "execution_count": 24,
   "metadata": {},
   "outputs": [
    {
     "data": {
      "text/plain": [
       "0    jan\n",
       "1    feb\n",
       "Name: month, dtype: object"
      ]
     },
     "execution_count": 24,
     "metadata": {},
     "output_type": "execute_result"
    }
   ],
   "source": [
    "dataset.iloc[: , -1]"
   ]
  },
  {
   "cell_type": "code",
   "execution_count": 25,
   "metadata": {},
   "outputs": [
    {
     "data": {
      "text/html": [
       "<div>\n",
       "<style scoped>\n",
       "    .dataframe tbody tr th:only-of-type {\n",
       "        vertical-align: middle;\n",
       "    }\n",
       "\n",
       "    .dataframe tbody tr th {\n",
       "        vertical-align: top;\n",
       "    }\n",
       "\n",
       "    .dataframe thead th {\n",
       "        text-align: right;\n",
       "    }\n",
       "</style>\n",
       "<table border=\"1\" class=\"dataframe\">\n",
       "  <thead>\n",
       "    <tr style=\"text-align: right;\">\n",
       "      <th></th>\n",
       "      <th>Unnamed: 0</th>\n",
       "      <th>MONTH</th>\n",
       "      <th>day</th>\n",
       "      <th>year</th>\n",
       "      <th>session_id</th>\n",
       "      <th>month</th>\n",
       "    </tr>\n",
       "  </thead>\n",
       "  <tbody>\n",
       "    <tr>\n",
       "      <th>0</th>\n",
       "      <td>a</td>\n",
       "      <td>JAN</td>\n",
       "      <td>7</td>\n",
       "      <td>2015</td>\n",
       "      <td>17357</td>\n",
       "      <td>jan</td>\n",
       "    </tr>\n",
       "    <tr>\n",
       "      <th>1</th>\n",
       "      <td>b</td>\n",
       "      <td>FEB</td>\n",
       "      <td>8</td>\n",
       "      <td>2015</td>\n",
       "      <td>10011</td>\n",
       "      <td>feb</td>\n",
       "    </tr>\n",
       "  </tbody>\n",
       "</table>\n",
       "</div>"
      ],
      "text/plain": [
       "  Unnamed: 0 MONTH  day  year  session_id month\n",
       "0          a   JAN    7  2015       17357   jan\n",
       "1          b   FEB    8  2015       10011   feb"
      ]
     },
     "execution_count": 25,
     "metadata": {},
     "output_type": "execute_result"
    }
   ],
   "source": [
    "dataset[0:2]"
   ]
  },
  {
   "cell_type": "code",
   "execution_count": 26,
   "metadata": {
    "collapsed": true
   },
   "outputs": [],
   "source": [
    "import numpy as np\n",
    "z = np.array([[7, 8, 9], \n",
    "              [17, 18, 19]])"
   ]
  },
  {
   "cell_type": "code",
   "execution_count": 27,
   "metadata": {},
   "outputs": [
    {
     "data": {
      "text/plain": [
       "array([[ 7,  8,  9],\n",
       "       [17, 18, 19]])"
      ]
     },
     "execution_count": 27,
     "metadata": {},
     "output_type": "execute_result"
    }
   ],
   "source": [
    "z"
   ]
  },
  {
   "cell_type": "code",
   "execution_count": 28,
   "metadata": {},
   "outputs": [
    {
     "data": {
      "text/plain": [
       "2"
      ]
     },
     "execution_count": 28,
     "metadata": {},
     "output_type": "execute_result"
    }
   ],
   "source": [
    "np.ndim(z)"
   ]
  },
  {
   "cell_type": "code",
   "execution_count": 29,
   "metadata": {},
   "outputs": [
    {
     "data": {
      "text/plain": [
       "(2, 3)"
      ]
     },
     "execution_count": 29,
     "metadata": {},
     "output_type": "execute_result"
    }
   ],
   "source": [
    "np.shape(z)"
   ]
  },
  {
   "cell_type": "code",
   "execution_count": 30,
   "metadata": {},
   "outputs": [
    {
     "data": {
      "text/plain": [
       "array([[ 7, 17],\n",
       "       [ 8, 18],\n",
       "       [ 9, 19]])"
      ]
     },
     "execution_count": 30,
     "metadata": {},
     "output_type": "execute_result"
    }
   ],
   "source": [
    "np.transpose(z)"
   ]
  },
  {
   "cell_type": "code",
   "execution_count": 1,
   "metadata": {},
   "outputs": [
    {
     "data": {
      "text/plain": [
       "True"
      ]
     },
     "execution_count": 1,
     "metadata": {},
     "output_type": "execute_result"
    }
   ],
   "source": [
    "bool (5>2) or (6>10)"
   ]
  },
  {
   "cell_type": "code",
   "execution_count": 33,
   "metadata": {},
   "outputs": [
    {
     "data": {
      "text/plain": [
       "MONTH    FEB\n",
       "Name: 1, dtype: object"
      ]
     },
     "execution_count": 33,
     "metadata": {},
     "output_type": "execute_result"
    }
   ],
   "source": [
    "dataset.loc[1,['MONTH']]"
   ]
  },
  {
   "cell_type": "code",
   "execution_count": 1,
   "metadata": {
    "collapsed": true
   },
   "outputs": [],
   "source": [
    "import numpy as np\n",
    "x = np.array([9, 5])\n",
    "y = np.array([16, 12])"
   ]
  },
  {
   "cell_type": "code",
   "execution_count": 4,
   "metadata": {},
   "outputs": [
    {
     "name": "stdout",
     "output_type": "stream",
     "text": [
      "[False False]\n"
     ]
    }
   ],
   "source": [
    "print(np.logical_and(x > 6, y < 16))"
   ]
  },
  {
   "cell_type": "code",
   "execution_count": 5,
   "metadata": {},
   "outputs": [
    {
     "data": {
      "text/plain": [
       "True"
      ]
     },
     "execution_count": 5,
     "metadata": {},
     "output_type": "execute_result"
    }
   ],
   "source": [
    "'four'<'two'"
   ]
  },
  {
   "cell_type": "markdown",
   "metadata": {},
   "source": [
    "# take a csv file and add a new column to it that has an variation of exisiting column"
   ]
  },
  {
   "cell_type": "code",
   "execution_count": 3,
   "metadata": {},
   "outputs": [
    {
     "name": "stdout",
     "output_type": "stream",
     "text": [
      "     cars_per_cap        country  drives_right        COUNTRY\n",
      "US            809  United States          True  UNITED STATES\n",
      "AUS           731      Australia         False      AUSTRALIA\n",
      "JAP           588          Japan         False          JAPAN\n",
      "IN             18          India         False          INDIA\n",
      "RU            200         Russia          True         RUSSIA\n",
      "MOR            70        Morocco          True        MOROCCO\n",
      "EG             45          Egypt          True          EGYPT\n"
     ]
    }
   ],
   "source": [
    "# Import cars data\n",
    "import pandas as pd\n",
    "cars = pd.read_csv('cars.csv', index_col = 0)\n",
    "\n",
    "# Code for loop that adds COUNTRY column\n",
    "for row, col in cars.iterrows() :\n",
    "    cars.loc[row, \"COUNTRY\"] = col[\"country\"].upper()\n",
    "    \n",
    "# Print cars\n",
    "print(cars)"
   ]
  },
  {
   "cell_type": "markdown",
   "metadata": {},
   "source": [
    "# I can also run the for loop such that a new column is added"
   ]
  },
  {
   "cell_type": "code",
   "execution_count": 5,
   "metadata": {},
   "outputs": [
    {
     "name": "stdout",
     "output_type": "stream",
     "text": [
      "     cars_per_cap        country  drives_right States\n",
      "US            809  United States          True   Indi\n",
      "AUS           731      Australia         False   Indi\n",
      "JAP           588          Japan         False   Indi\n",
      "IN             18          India         False   Indi\n",
      "RU            200         Russia          True   Indi\n",
      "MOR            70        Morocco          True   Indi\n",
      "EG             45          Egypt          True   Indi\n"
     ]
    }
   ],
   "source": [
    "# Import cars data\n",
    "import pandas as pd\n",
    "cars = pd.read_csv('cars.csv', index_col = 0)\n",
    "\n",
    "# Code for loop that adds COUNTRY column\n",
    "for row, col in cars.iterrows() :\n",
    "    cars.loc[row, \"States\"] ='Indi'\n",
    "    \n",
    "# Print cars\n",
    "print(cars)"
   ]
  },
  {
   "cell_type": "markdown",
   "metadata": {},
   "source": [
    "# doing the same change to the columns that is addiing a new column such that I donot use iterrow and for loops and only use the apply function to achieve the same result"
   ]
  },
  {
   "cell_type": "code",
   "execution_count": null,
   "metadata": {
    "collapsed": true
   },
   "outputs": [],
   "source": []
  },
  {
   "cell_type": "code",
   "execution_count": 7,
   "metadata": {},
   "outputs": [
    {
     "name": "stdout",
     "output_type": "stream",
     "text": [
      "  Unnamed: 0  cars_per_cap        country  drives_right        COUNTRY\n",
      "0         US           809  United States          True  UNITED STATES\n",
      "1        AUS           731      Australia         False      AUSTRALIA\n",
      "2        JAP           588          Japan         False          JAPAN\n",
      "3         IN            18          India         False          INDIA\n",
      "4         RU           200         Russia          True         RUSSIA\n",
      "5        MOR            70        Morocco          True        MOROCCO\n",
      "6         EG            45          Egypt          True          EGYPT\n"
     ]
    }
   ],
   "source": [
    "# Import cars data\n",
    "import pandas as pd\n",
    "cars = pd.read_csv('cars.csv')\n",
    "\n",
    "# Use .apply(str.upper)\n",
    "#for lab, row in cars.iterrows() :\n",
    "cars[\"COUNTRY\"] = cars[\"country\"].apply(str.upper)\n",
    "print(cars)"
   ]
  },
  {
   "cell_type": "code",
   "execution_count": 1,
   "metadata": {
    "collapsed": true
   },
   "outputs": [],
   "source": [
    "# let us simulatea coin toss (using for loop)"
   ]
  },
  {
   "cell_type": "code",
   "execution_count": 12,
   "metadata": {},
   "outputs": [
    {
     "name": "stdout",
     "output_type": "stream",
     "text": [
      "Heads\n",
      "tails\n",
      "Heads\n",
      "tails\n",
      "Heads\n",
      "Heads\n",
      "tails\n",
      "tails\n",
      "tails\n"
     ]
    }
   ],
   "source": [
    "import numpy as np\n",
    "\n",
    "for t in range (1,10):\n",
    "    coin=random.randint(0,2)    \n",
    "    if coin==0:\n",
    "        print('tails')\n",
    "    else:\n",
    "        print('Heads')\n",
    "        "
   ]
  },
  {
   "cell_type": "code",
   "execution_count": 17,
   "metadata": {
    "scrolled": true
   },
   "outputs": [
    {
     "name": "stdout",
     "output_type": "stream",
     "text": [
      "Its a Six!\n",
      "You Got a Three\n",
      "You got Two\n",
      "You Got a Four\n",
      "You got Two\n",
      "Its a Six!\n",
      "Its a Six!\n",
      "You Got a Four\n",
      "You Got a Five\n",
      "You Got a Five\n"
     ]
    }
   ],
   "source": [
    "# simulate a dice flip\n",
    "import numpy as np\n",
    "\n",
    "for t in range (0,10):\n",
    "    dice=np.random.randint(0,7)\n",
    "    if dice==1:\n",
    "        print('You got One')\n",
    "    elif dice==2:\n",
    "        print('You got Two')\n",
    "    elif dice==3:\n",
    "        print('You Got a Three')\n",
    "    elif dice==4:\n",
    "        print('You Got a Four')\n",
    "    elif dice==5:\n",
    "        print('You Got a Five')\n",
    "    else:\n",
    "        print('Its a Six!')"
   ]
  },
  {
   "cell_type": "code",
   "execution_count": 11,
   "metadata": {
    "collapsed": true
   },
   "outputs": [],
   "source": [
    "#simulate the coin toss using the while loop"
   ]
  },
  {
   "cell_type": "code",
   "execution_count": 15,
   "metadata": {},
   "outputs": [
    {
     "name": "stdout",
     "output_type": "stream",
     "text": [
      "Tails\n",
      "Tails\n",
      "Tails\n",
      "Tails\n",
      "Heads\n",
      "Tails\n",
      "Tails\n",
      "Heads\n",
      "Tails\n"
     ]
    }
   ],
   "source": [
    "import numpy as np\n",
    "t=1\n",
    "while (t<10):\n",
    "    coin=np.random.randint(0,2)\n",
    "    if coin==0:\n",
    "        print('Tails')\n",
    "    else:\n",
    "        print('Heads')\n",
    "    t+=1         "
   ]
  },
  {
   "cell_type": "code",
   "execution_count": 18,
   "metadata": {},
   "outputs": [
    {
     "name": "stdout",
     "output_type": "stream",
     "text": [
      "Its a Six\n",
      "Its a Six\n",
      "You Got a Four\n",
      "You Got a One\n"
     ]
    }
   ],
   "source": [
    "# Generate a dice simulation using the while loop\n",
    "import numpy as np\n",
    "t=1\n",
    "while t<5:\n",
    "    dice=np.random.randint(0,7)\n",
    "    if dice==1:\n",
    "        print('You Got a One')\n",
    "    elif dice==2:\n",
    "        print('You Got a Two')\n",
    "    elif dice==3:\n",
    "        print('You Got a Three')\n",
    "    elif dice==4:\n",
    "        print('You Got a Four')\n",
    "    elif dice==5:\n",
    "        print('You Got a Five')\n",
    "    else:\n",
    "        print('Its a Six')\n",
    "    t+=1    "
   ]
  },
  {
   "cell_type": "code",
   "execution_count": 22,
   "metadata": {},
   "outputs": [
    {
     "name": "stdout",
     "output_type": "stream",
     "text": [
      "0.7809038987924661\n",
      "18\n"
     ]
    }
   ],
   "source": [
    "#Generating a random  number\n",
    "import numpy as np\n",
    "np.random.seed(132)\n",
    "# The below function generates a random float between 0 and 1\n",
    "x=np.random.rand()\n",
    "y=np.random.randint(1,50)\n",
    "print(x)\n",
    "print(y)"
   ]
  },
  {
   "cell_type": "code",
   "execution_count": null,
   "metadata": {
    "collapsed": true
   },
   "outputs": [],
   "source": [
    "# Import numpy and set seed\n",
    "import numpy as np\n",
    "np.random.seed(123)\n",
    "\n",
    "# Starting step\n",
    "step = 50\n",
    "\n",
    "# Roll the dice\n",
    "dice=np.random.randint(1,7)\n",
    "\n",
    "# Finish the control construct\n",
    "if dice <= 2 :\n",
    "    step = step - 1\n",
    "elif (dice<=5) :\n",
    "    step=step+1\n",
    "else :\n",
    "    step = step + np.random.randint(1,7)\n",
    "\n",
    "# Print out dice and step\n",
    "print(dice)\n",
    "print(step)"
   ]
  },
  {
   "cell_type": "code",
   "execution_count": 24,
   "metadata": {},
   "outputs": [
    {
     "name": "stdout",
     "output_type": "stream",
     "text": [
      "['Heads', 'Tails', 'Heads', 'Heads', 'Heads', 'Heads', 'Heads', 'Tails', 'Tails', 'Heads']\n"
     ]
    }
   ],
   "source": [
    "#Generate Heads and tails and store it in a numpy array\n",
    "import numpy as np\n",
    "np.random.seed(123)\n",
    "outcomes=[]\n",
    "for t in range(10):\n",
    "    coin=np.random.randint(0,2)\n",
    "    if coin==0:\n",
    "        outcomes.append('Heads')\n",
    "    else:\n",
    "        outcomes.append('Tails')\n",
    "print(outcomes)        "
   ]
  },
  {
   "cell_type": "code",
   "execution_count": 21,
   "metadata": {},
   "outputs": [
    {
     "name": "stdout",
     "output_type": "stream",
     "text": [
      "['Heads', 'Tails', 'Heads', 'Heads', 'Heads', 'Heads', 'Heads', 'Tails', 'Tails']\n"
     ]
    }
   ],
   "source": [
    "# Generate Heads and Tails and Store it in a numpy array\n",
    "import numpy as np\n",
    "np.random.seed(123)\n",
    "outcomes=[]\n",
    "for t in range (1,10):\n",
    "    coin=np.random.randint(0,2)\n",
    "    if coin==0:\n",
    "        outcomes.append('Heads')\n",
    "    elif coin==1:\n",
    "        outcomes.append('Tails')\n",
    "print(outcomes)        "
   ]
  },
  {
   "cell_type": "code",
   "execution_count": 33,
   "metadata": {},
   "outputs": [
    {
     "name": "stdout",
     "output_type": "stream",
     "text": [
      "{'Heads': 6, 'Tails': 4}\n"
     ]
    }
   ],
   "source": [
    "#Generate a Head andn Tails and Store it into dictionary\n",
    "import numpy as np\n",
    "d={'Heads':0 ,'Tails':0}\n",
    "\n",
    "for t in range (0,10):\n",
    "    coin=np.random.randint(0,2)\n",
    "    if coin==0:\n",
    "         d['Heads']+=1\n",
    "            \n",
    "    elif coin==1:\n",
    "        d['Tails']+=1\n",
    "print(d)        "
   ]
  },
  {
   "cell_type": "code",
   "execution_count": 35,
   "metadata": {},
   "outputs": [
    {
     "name": "stdout",
     "output_type": "stream",
     "text": [
      "[0, 0, 1, 1, 1, 1, 1, 1, 2, 3, 3]\n"
     ]
    }
   ],
   "source": [
    "# we can simulate the total number of tails\n",
    "#by using the above function\n",
    "import numpy as np\n",
    "np.random.seed(123)\n",
    "tails=[0]\n",
    "for t in range (10):\n",
    "    coin=np.random.randint(0,2)\n",
    "    tails.append(tails[t] +coin)\n",
    "print(tails)    \n",
    "    "
   ]
  },
  {
   "cell_type": "code",
   "execution_count": 28,
   "metadata": {},
   "outputs": [
    {
     "name": "stdout",
     "output_type": "stream",
     "text": [
      "[0, 3, 4, 5, 4, 5, 6, 7, 6, 5, 4, 3, 2, 1, 0, -1, 0, 5, 4, 3, 4, 3, 4, 5, 6, 7, 8, 7, 8, 7, 8, 9, 10, 11, 10, 14, 15, 14, 15, 14, 15, 16, 17, 18, 19, 20, 21, 24, 25, 26, 27, 32, 33, 37, 38, 37, 38, 39, 38, 39, 40, 42, 43, 44, 43, 42, 43, 44, 43, 42, 43, 44, 46, 45, 44, 45, 44, 45, 46, 47, 49, 48, 49, 50, 51, 52, 53, 52, 51, 52, 51, 52, 53, 52, 55, 56, 57, 58, 57, 58, 59]\n"
     ]
    }
   ],
   "source": [
    "# Import numpy and set seed\n",
    "import numpy as np\n",
    "np.random.seed(123)\n",
    "\n",
    "# Initialize random_walk\n",
    "random_walk=[0]\n",
    "\n",
    "# Complete the for loop\n",
    "for x in range (100):\n",
    "    # Set step: last element in random_walk\n",
    "    step=random_walk[-1]\n",
    "    \n",
    "    # Roll the dice\n",
    "    dice = np.random.randint(1,7)\n",
    "\n",
    "    # Determine next step\n",
    "    if dice <= 2:\n",
    "        step = step - 1\n",
    "    elif dice <= 5:\n",
    "        step = step + 1\n",
    "    else:\n",
    "        step = step + np.random.randint(1,7)\n",
    "\n",
    "    # append next_step to random_walk\n",
    "    random_walk.append(step)\n",
    "\n",
    "# Print random_walk\n",
    "print(random_walk)"
   ]
  },
  {
   "cell_type": "code",
   "execution_count": 46,
   "metadata": {},
   "outputs": [
    {
     "data": {
      "image/png": "[encoded data removed]",
      "text/plain": [
       "<matplotlib.figure.Figure at 0x2080fbeb668>"
      ]
     },
     "metadata": {},
     "output_type": "display_data"
    }
   ],
   "source": [
    "import numpy as np\n",
    "import matplotlib.pyplot as plt\n",
    "random_walk=[0]\n",
    "step=random_walk[-1]\n",
    "\n",
    "for i in range (100):\n",
    "    dice=np.random.randint(1,7)\n",
    "    if dice<=2:\n",
    "        step=max(0,step-1)\n",
    "    elif dice<=5:\n",
    "        step+=1\n",
    "    else:\n",
    "        step=step+np.random.randint(1,7)\n",
    "    random_walk.append(step)\n",
    "plt.clf()\n",
    "plt.plot(random_walk)\n",
    "plt.show()\n"
   ]
  },
  {
   "cell_type": "code",
   "execution_count": null,
   "metadata": {
    "collapsed": true
   },
   "outputs": [],
   "source": [
    "# Import numpy and set seed\n",
    "import numpy as np\n",
    "np.random.seed(123)\n",
    "\n",
    "# Initialize random_walk\n",
    "random_walk = [0]\n",
    "\n",
    "for x in range(100) :\n",
    "    step = random_walk[-1]\n",
    "    dice = np.random.randint(1,7)\n",
    "\n",
    "    if dice <= 2:\n",
    "        # Replace below: use max to make sure step can't go below 0\n",
    "        step = max(0,step-1)\n",
    "    elif dice <= 5:\n",
    "        step = step + 1\n",
    "    else:\n",
    "        step = step + np.random.randint(1,7)\n",
    "\n",
    "    random_walk.append(step)\n",
    "\n",
    "print(random_walk)"
   ]
  },
  {
   "cell_type": "code",
   "execution_count": 26,
   "metadata": {
    "collapsed": true
   },
   "outputs": [],
   "source": [
    "# Initialization\n",
    "import numpy as np\n",
    "np.random.seed(123)\n",
    "random_walk = [0]\n",
    "\n",
    "for x in range(100) :\n",
    "    step = random_walk[-1]\n",
    "    dice = np.random.randint(1,7)\n",
    "\n",
    "    if dice <= 2:\n",
    "        step = max(0, step - 1)\n",
    "    elif dice <= 5:\n",
    "        step = step + 1\n",
    "    else:\n",
    "        step = step + np.random.randint(1,7)\n",
    "\n",
    "    random_walk.append(step)\n",
    "\n",
    "# Import matplotlib.pyplot as plt\n",
    "import matplotlib.pyplot as plt\n",
    "\n",
    "\n",
    "\n"
   ]
  },
  {
   "cell_type": "code",
   "execution_count": 37,
   "metadata": {
    "collapsed": true,
    "scrolled": true
   },
   "outputs": [],
   "source": [
    "\n",
    "# Initialization\n",
    "import numpy as np\n",
    "random_walk=[0]\n",
    "\n",
    "for x in range(100) :\n",
    "    \n",
    "    step=random_walk[-1]\n",
    "    dice=np.random.randint(1,7)\n",
    "\n",
    "    if dice <= 2:\n",
    "        step = max(0, step - 1)\n",
    "    elif dice <= 5:\n",
    "        step = step + 1\n",
    "    else:\n",
    "        step = step + np.random.randint(1,7)\n",
    "\n",
    "    random_walk.append(step)\n",
    "\n"
   ]
  },
  {
   "cell_type": "code",
   "execution_count": 44,
   "metadata": {
    "collapsed": true
   },
   "outputs": [],
   "source": [
    "# Initialization\n",
    "import numpy as np\n",
    "np.random.seed(123)\n",
    "random_walk=[0]\n",
    "\n",
    "for x in range(100):\n",
    "    step=random_walk[-1]\n",
    "    dice=np.random.randint(1,7)\n",
    "    \n",
    "    if dice <=2:\n",
    "        step = step-1\n",
    "    elif dice <=5:\n",
    "        step=step+1\n",
    "    else:\n",
    "        step=step+np.random.randint(1,7)\n",
    "    random_walk.append(step)      \n",
    "    "
   ]
  },
  {
   "cell_type": "code",
   "execution_count": 50,
   "metadata": {},
   "outputs": [
    {
     "data": {
      "image/png": "[encoded data removed]",
      "text/plain": [
       "<matplotlib.figure.Figure at 0x1d3b9e19128>"
      ]
     },
     "metadata": {},
     "output_type": "display_data"
    }
   ],
   "source": [
    "import numpy as np\n",
    "np.random.seed(123)\n",
    "random_walk=[0]\n",
    "\n",
    "for x in range(100):\n",
    "    step = random_walk[-1]\n",
    "    dice=np.random.randint(1,7)\n",
    "    \n",
    "    if dice <=2:\n",
    "        step=max(0,step-1)\n",
    "    elif dice <=5:\n",
    "        step=step+1\n",
    "    else :\n",
    "        step=step+np.random.randint(1,7)\n",
    "    random_walk.append(step)\n",
    "import matplotlib.pyplot as plt\n",
    "plt.plot(random_walk)\n",
    "plt.show()"
   ]
  },
  {
   "cell_type": "code",
   "execution_count": 3,
   "metadata": {
    "scrolled": true
   },
   "outputs": [
    {
     "name": "stdout",
     "output_type": "stream",
     "text": [
      "{'en': 97, 'et': 1, 'und': 2}\n"
     ]
    }
   ],
   "source": [
    "# Import pandas\n",
    "import pandas as pd\n",
    "\n",
    "# Import Twitter data as DataFrame: df\n",
    "df = pd.read_csv('tweets.csv')\n",
    "\n",
    "# Initialize an empty dictionary: langs_count\n",
    "langs_count = {}\n",
    "\n",
    "# Extract column from DataFrame: col\n",
    "col = df['lang']\n",
    "\n",
    "# Iterate over lang column in DataFrame\n",
    "for entry in col:\n",
    "\n",
    "    # If the language is in langs_count, add 1\n",
    "    if entry in langs_count.keys():\n",
    "        langs_count[entry]+=1\n",
    "    # Else add the language to langs_count, set the value to 1\n",
    "    else:\n",
    "        langs_count[entry]=1\n",
    "\n",
    "# Print the populated dictionary\n",
    "print(langs_count)"
   ]
  },
  {
   "cell_type": "code",
   "execution_count": 8,
   "metadata": {},
   "outputs": [
    {
     "name": "stdout",
     "output_type": "stream",
     "text": [
      "{'en': 1}\n"
     ]
    }
   ],
   "source": [
    "def counter(df):\n",
    "    \n",
    "    # Initialize an empty dictionary: langs_count\n",
    "    langs_count = {}\n",
    "\n",
    "    # Extract column from DataFrame: col\n",
    "    col = df['lang']\n",
    "\n",
    "    # Iterate over lang column in DataFrame\n",
    "    for entry in col:\n",
    "\n",
    "        # If the language is in langs_count, add 1\n",
    "        if entry in langs_count.keys():\n",
    "            langs_count[entry]+=1\n",
    "        # Else add the language to langs_count, set the value to 1\n",
    "        else:\n",
    "            langs_count[entry]=1\n",
    "\n",
    "    # Print the populated dictionary\n",
    "        return(langs_count)\n",
    "\n",
    "# Import pandas\n",
    "import pandas as pd\n",
    "\n",
    "# Import Twitter data as DataFrame: df\n",
    "df = pd.read_csv('tweets.csv')\n",
    "result=counter(df)\n",
    "print(result)"
   ]
  },
  {
   "cell_type": "code",
   "execution_count": 5,
   "metadata": {},
   "outputs": [
    {
     "data": {
      "text/plain": [
       "'C:\\\\Users\\\\Anirban\\\\OneDrive\\\\IPYTHON'"
      ]
     },
     "execution_count": 5,
     "metadata": {},
     "output_type": "execute_result"
    }
   ],
   "source": [
    "pwd"
   ]
  },
  {
   "cell_type": "code",
   "execution_count": 14,
   "metadata": {},
   "outputs": [
    {
     "name": "stdout",
     "output_type": "stream",
     "text": [
      "(10, 49)\n"
     ]
    }
   ],
   "source": [
    "def list_range(x):\n",
    "    \"\"\"Returns the minimum and maximum elements from a list\"\"\"\n",
    "    min_x = min(x)\n",
    "    max_x = max(x)\n",
    "    a = (min_x, max_x)\n",
    "    return a\n",
    "print(list_range([31, 34, 49, 10]))"
   ]
  },
  {
   "cell_type": "code",
   "execution_count": 15,
   "metadata": {},
   "outputs": [
    {
     "name": "stdout",
     "output_type": "stream",
     "text": [
      "3.0 2.0\n"
     ]
    }
   ],
   "source": [
    "def nth_root(n):\n",
    "    \"\"\"Returns the actual_root function\"\"\"\n",
    "    def actual_root(x):\n",
    "        \"\"\"Returns the nth root of x\"\"\"\n",
    "        root = x ** (1/n)\n",
    "        return root\n",
    "    return actual_root\n",
    "square_root = nth_root(2)\n",
    "cube_root = nth_root(3)\n",
    "print(square_root(9), cube_root(8))"
   ]
  },
  {
   "cell_type": "code",
   "execution_count": 5,
   "metadata": {},
   "outputs": [
    {
     "name": "stdout",
     "output_type": "stream",
     "text": [
      "[1, 1, 1, 0]\n"
     ]
    }
   ],
   "source": [
    "x = ['regulation', 'authorize', 'precaution', 'myth']\n",
    "count_vowel = list(map(lambda word: word.count('a'), x))\n",
    "print(count_vowel)"
   ]
  },
  {
   "cell_type": "code",
   "execution_count": 17,
   "metadata": {},
   "outputs": [
    {
     "name": "stdout",
     "output_type": "stream",
     "text": [
      "['Hour', 'Minute']\n"
     ]
    }
   ],
   "source": [
    "x = ['HOUR', 'MINute']\n",
    "def caps(li):\n",
    "    \"\"\"\"Returns a list, with all elements capitalized\"\"\"\n",
    "    def inner(w):\n",
    "        \"\"\"Returns a capitalized word\"\"\"\n",
    "        return w.capitalize()\n",
    "    return ([inner(li[0]), inner(li[1])])\n",
    "print(caps(x))"
   ]
  },
  {
   "cell_type": "code",
   "execution_count": 2,
   "metadata": {},
   "outputs": [
    {
     "name": "stdout",
     "output_type": "stream",
     "text": [
      "{'A': 7, 'B': 7, 'C': 3, 'D': 1}\n"
     ]
    }
   ],
   "source": [
    "X=['A','B','C','A','B','A','C','B','A','B','A','B','A','B','A','C','B','D']\n",
    "diction_ary={}\n",
    "for entry in X :\n",
    "    if entry in diction_ary.keys():\n",
    "        diction_ary[entry]+=1\n",
    "    else:\n",
    "        diction_ary[entry]=1\n",
    "        \n",
    "print(diction_ary)        "
   ]
  },
  {
   "cell_type": "code",
   "execution_count": 29,
   "metadata": {},
   "outputs": [
    {
     "data": {
      "image/png": "[encoded data removed]",
      "text/plain": [
       "<matplotlib.figure.Figure at 0x1d272c5e4e0>"
      ]
     },
     "metadata": {},
     "output_type": "display_data"
    }
   ],
   "source": [
    "import matplotlib.pyplot as plt\n",
    "import numpy as np\n",
    "np.random.seed(123)\n",
    "all_walks = []\n",
    "\n",
    "# Simulate random walk 250 times\n",
    "for i in range(500) :\n",
    "    random_walk = [0]\n",
    "    for x in range(100) :\n",
    "        step = random_walk[-1]\n",
    "        dice = np.random.randint(1,7)\n",
    "        if dice <= 2:\n",
    "            step = max(0, step - 1)\n",
    "        elif dice <= 5:\n",
    "            step = step + 1\n",
    "        else:\n",
    "            step = step + np.random.randint(1,7)\n",
    "\n",
    "        # Implement clumsiness\n",
    "        if (np.random.randn(0,1)) :\n",
    "            step = 0\n",
    "\n",
    "        random_walk.append(step)\n",
    "    all_walks.append(random_walk)\n",
    "\n",
    "# Create and plot np_aw_t\n",
    "np_aw_t = np.transpose(np.array(all_walks))\n",
    "plt.plot(np_aw_t)\n",
    "plt.show()"
   ]
  },
  {
   "cell_type": "code",
   "execution_count": 37,
   "metadata": {},
   "outputs": [
    {
     "data": {
      "text/plain": [
       "array([[ 0,  3,  4, ..., 58, 59, 60],\n",
       "       [ 0,  4,  3, ..., 70, 71, 73],\n",
       "       [ 0,  2,  1, ..., 85, 84, 83],\n",
       "       ..., \n",
       "       [ 0,  1,  2, ..., 95, 94, 95],\n",
       "       [ 0,  3,  2, ..., 80, 81, 80],\n",
       "       [ 0,  1,  2, ..., 60, 59, 60]])"
      ]
     },
     "execution_count": 37,
     "metadata": {},
     "output_type": "execute_result"
    }
   ],
   "source": [
    "(np.array(all_walks))"
   ]
  },
  {
   "cell_type": "code",
   "execution_count": 38,
   "metadata": {},
   "outputs": [
    {
     "data": {
      "text/plain": [
       "array([[ 0,  0,  0, ...,  0,  0,  0],\n",
       "       [ 3,  4,  2, ...,  1,  3,  1],\n",
       "       [ 4,  3,  1, ...,  2,  2,  2],\n",
       "       ..., \n",
       "       [58, 70, 85, ..., 95, 80, 60],\n",
       "       [59, 71, 84, ..., 94, 81, 59],\n",
       "       [60, 73, 83, ..., 95, 80, 60]])"
      ]
     },
     "execution_count": 38,
     "metadata": {},
     "output_type": "execute_result"
    }
   ],
   "source": [
    "np.transpose(np.array(all_walks))"
   ]
  },
  {
   "cell_type": "code",
   "execution_count": 2,
   "metadata": {},
   "outputs": [
    {
     "name": "stdout",
     "output_type": "stream",
     "text": [
      "[12, 10, 9, 6]\n"
     ]
    }
   ],
   "source": [
    "def sorted_list_elements(x, desc = True, n = 4):\n",
    "    \"\"\"Returns the largest/smallest n elements of a sorted list\"\"\"\n",
    "    new_x = sorted(x, reverse = desc)[0:n]\n",
    "    return new_x\n",
    "a = [9, 6, 1, 1, 12, 10]\n",
    "print(sorted_list_elements(a))"
   ]
  },
  {
   "cell_type": "code",
   "execution_count": 3,
   "metadata": {},
   "outputs": [
    {
     "name": "stdout",
     "output_type": "stream",
     "text": [
      "[12, 10, 9]\n"
     ]
    }
   ],
   "source": [
    "def sorted_list_elements(x, desc , n):\n",
    "    \"\"\"Returns the largest/smallest n elements of a sorted list\"\"\"\n",
    "    new_x = sorted(x, reverse = desc)[0:n]\n",
    "    return new_x\n",
    "a = [9, 6, 1, 1, 12, 10]\n",
    "print(sorted_list_elements(a , True , 3))"
   ]
  },
  {
   "cell_type": "code",
   "execution_count": 6,
   "metadata": {},
   "outputs": [
    {
     "name": "stdout",
     "output_type": "stream",
     "text": [
      "[2, 10, 1]\n"
     ]
    }
   ],
   "source": [
    "x = [2, -6, 10, -7, 1]\n",
    "greater_than_zero = filter(lambda n: (n > 0), x)\n",
    "print(list(greater_than_zero))"
   ]
  },
  {
   "cell_type": "code",
   "execution_count": 15,
   "metadata": {},
   "outputs": [
    {
     "name": "stdout",
     "output_type": "stream",
     "text": [
      "The value of x is 15\n",
      "The value of y is 30\n"
     ]
    }
   ],
   "source": [
    "def easy_print(**kwargs):\n",
    "        for p, q in kwargs.items():\n",
    "            print('The value of ' + str(p) + \" is \" + str(q))\n",
    "\n",
    "easy_print(x = 15, y = 30)"
   ]
  },
  {
   "cell_type": "code",
   "execution_count": 12,
   "metadata": {},
   "outputs": [
    {
     "data": {
      "text/plain": [
       "list"
      ]
     },
     "execution_count": 12,
     "metadata": {},
     "output_type": "execute_result"
    }
   ],
   "source": [
    "type(x)"
   ]
  },
  {
   "cell_type": "code",
   "execution_count": 17,
   "metadata": {},
   "outputs": [
    {
     "name": "stdout",
     "output_type": "stream",
     "text": [
      "1.0218971486541166 1.0260044847070386\n"
     ]
    }
   ],
   "source": [
    "def nth_root(n):\n",
    "    \"\"\"Returns the actual_root function\"\"\"\n",
    "    def actual_root(x):\n",
    "        \"\"\"Returns the nth root of x\"\"\"\n",
    "        root = x ** (1/n)\n",
    "        return root\n",
    "    return actual_root\n",
    "square_root = nth_root(64)\n",
    "cube_root = nth_root(81)\n",
    "print(square_root(4), cube_root(8))"
   ]
  },
  {
   "cell_type": "code",
   "execution_count": 2,
   "metadata": {},
   "outputs": [
    {
     "name": "stdout",
     "output_type": "stream",
     "text": [
      "[1, 2, 3, 4]\n",
      "[1, 10, 15, 4]\n",
      "[1, 10, 15, 4]\n"
     ]
    }
   ],
   "source": [
    "X=[1,2,3,4]\n",
    "Y=X\n",
    "print(X)\n",
    "Y[1:3]=10,15\n",
    "print(Y)\n",
    "print(X)"
   ]
  },
  {
   "cell_type": "code",
   "execution_count": 3,
   "metadata": {},
   "outputs": [
    {
     "name": "stdout",
     "output_type": "stream",
     "text": [
      "[1, 2, 3, 4]\n",
      "[1, 10, 15, 4]\n",
      "[1, 10, 15, 4]\n"
     ]
    }
   ],
   "source": [
    "X=[1,2,3,4]\n",
    "Y=X\n",
    "print(X)\n",
    "X[1:3]=10,15\n",
    "print(Y)\n",
    "print(X)"
   ]
  },
  {
   "cell_type": "code",
   "execution_count": 4,
   "metadata": {},
   "outputs": [
    {
     "name": "stdout",
     "output_type": "stream",
     "text": [
      "[1, 2, 3]\n"
     ]
    }
   ],
   "source": [
    "X=[1,2,3,4,5,6,7,8,0]\n",
    "print(X[0:3])"
   ]
  },
  {
   "cell_type": "markdown",
   "metadata": {},
   "source": [
    "## This is an example of nested functions: advantages of nested funtions\n",
    "## is that the nested functions allows us to automate the task that is to be repeatedly done and in its place we write just a simple nested funtion as below"
   ]
  },
  {
   "cell_type": "code",
   "execution_count": 1,
   "metadata": {},
   "outputs": [
    {
     "name": "stdout",
     "output_type": "stream",
     "text": [
      "('a!!!', 'b!!!', 'c!!!')\n"
     ]
    }
   ],
   "source": [
    "# Define three_shouts\n",
    "#outer function\n",
    "def three_shouts(word1, word2, word3):\n",
    "    \"\"\"Returns a tuple of strings\n",
    "    concatenated with '!!!'.\"\"\"\n",
    "\n",
    "    # Define inner\n",
    "    def inner(word):\n",
    "        \"\"\"Returns a string concatenated with '!!!'.\"\"\"\n",
    "        return word + '!!!'\n",
    "\n",
    "    # Return a tuple of strings\n",
    "    return (inner(word1), inner(word2), inner(word3))\n",
    "\n",
    "# Call three_shouts() and print\n",
    "print(three_shouts('a', 'b', 'c'))"
   ]
  },
  {
   "cell_type": "code",
   "execution_count": 1,
   "metadata": {},
   "outputs": [
    {
     "name": "stdout",
     "output_type": "stream",
     "text": [
      "hellohello\n",
      "hellohello!!!\n"
     ]
    }
   ],
   "source": [
    "# Define echo_shout()\n",
    "def echo_shout(word):\n",
    "    \"\"\"Change the value of a nonlocal variable\"\"\"\n",
    "    \n",
    "    # Concatenate word with itself: echo_word\n",
    "    echo_word = word*2\n",
    "    \n",
    "    #Print echo_word\n",
    "    print(echo_word)\n",
    "    \n",
    "    # Define inner function shout()\n",
    "    def shout():\n",
    "        \"\"\"Alter a variable in the enclosing scope\"\"\"\n",
    "        \n",
    "        #Use echo_word in nonlocal scope\n",
    "        nonlocal echo_word\n",
    "        \n",
    "        #Change echo_word to echo_word concatenated with '!!!'\n",
    "        echo_word = echo_word + '!!!'\n",
    "    \n",
    "    # Call function shout()\n",
    "    shout()\n",
    "    \n",
    "    #Print echo_word\n",
    "    print(echo_word)\n",
    "\n",
    "#Call function echo_shout() with argument 'hello'    \n",
    "echo_shout('hello')\n"
   ]
  },
  {
   "cell_type": "markdown",
   "metadata": {},
   "source": [
    "## Default arguments : examples"
   ]
  },
  {
   "cell_type": "code",
   "execution_count": 3,
   "metadata": {},
   "outputs": [
    {
     "name": "stdout",
     "output_type": "stream",
     "text": [
      "25\n",
      "16\n",
      "9\n"
     ]
    }
   ],
   "source": [
    "def power(a, pow=2):\n",
    "    a=a**pow\n",
    "    return a\n",
    "# call 1 where the argument is same as the default argument\n",
    "print(power(5,2))\n",
    "#call 2 where the default argument is changed\n",
    "print(power(2,4))\n",
    "#call 3 where the default argument is not given but still the function takes it from the default parameters.\n",
    "print(power(3))"
   ]
  },
  {
   "cell_type": "markdown",
   "metadata": {},
   "source": [
    "# Multiple Default Arguments"
   ]
  },
  {
   "cell_type": "code",
   "execution_count": 4,
   "metadata": {},
   "outputs": [
    {
     "name": "stdout",
     "output_type": "stream",
     "text": [
      "HEYHEYHEYHEYHEY!!!\n",
      "HEY!!!\n",
      "HeyHeyHey!!!\n"
     ]
    }
   ],
   "source": [
    "# Define shout_echo\n",
    "def shout_echo(word1,echo=1,intense=False):\n",
    "    \"\"\"Concatenate echo copies of word1 and three\n",
    "    exclamation marks at the end of the string.\"\"\"\n",
    "\n",
    "    # Concatenate echo copies of word1 using *: echo_word\n",
    "    echo_word = word1 * echo\n",
    "\n",
    "    # Capitalize echo_word if intense is True\n",
    "    if intense is True:\n",
    "        # Capitalize and concatenate '!!!': echo_word_new\n",
    "        echo_word_new =echo_word.upper() + '!!!'\n",
    "    else:\n",
    "        # Concatenate '!!!' to echo_word: echo_word_new\n",
    "        echo_word_new = echo_word + '!!!'\n",
    "\n",
    "    # Return echo_word_new\n",
    "    return echo_word_new\n",
    "\n",
    "# Call shout_echo() with \"Hey\", echo=5 and intense=True: with_big_echo\n",
    "with_big_echo = shout_echo('Hey', echo=5 , intense=True)\n",
    "\n",
    "# Call shout_echo() with \"Hey\" and intense=True: big_no_echo\n",
    "big_no_echo = shout_echo('Hey' , intense=True)\n",
    "big_yes_echo= shout_echo('Hey',echo=3)\n",
    "# Print values\n",
    "print(with_big_echo)\n",
    "print(big_no_echo)\n",
    "print(big_yes_echo)\n"
   ]
  },
  {
   "cell_type": "markdown",
   "metadata": {},
   "source": [
    "## Funtions with variable length arguments : ###Flexible arguments enable you to pass a variable number of arguments to a function. In this exercise, you will practice defining a function that accepts a variable number of string arguments."
   ]
  },
  {
   "cell_type": "code",
   "execution_count": null,
   "metadata": {
    "collapsed": true
   },
   "outputs": [],
   "source": [
    "# Define gibberish\n",
    "def gibberish(*args):\n",
    "    \"\"\"Concatenate strings in *args together.\"\"\"\n",
    "\n",
    "    # Initialize an empty string: hodgepodge\n",
    "    hodgepodge=('')\n",
    "\n",
    "    # Concatenate the strings in args\n",
    "    for word in args:\n",
    "        hodgepodge += word\n",
    "\n",
    "    # Return hodgepodge\n",
    "    return hodgepodge\n",
    "\n",
    "# Call gibberish() with one string: one_word\n",
    "one_word = gibberish('')\n",
    "\n",
    "# Call gibberish() with five strings: many_words\n",
    "many_words = gibberish(\"luke\", \"leia\", \"han\", \"obi\", \"darth\")\n",
    "\n",
    "# Print one_word and many_words\n",
    "print('One Word:', one_word)\n",
    "print('Many Word:', many_words)\n"
   ]
  },
  {
   "cell_type": "markdown",
   "metadata": {},
   "source": [
    "# Functions with variable length keyword-argument **kwargs (used mostly for dictionaries)"
   ]
  },
  {
   "cell_type": "code",
   "execution_count": 5,
   "metadata": {
    "scrolled": true
   },
   "outputs": [
    {
     "name": "stdout",
     "output_type": "stream",
     "text": [
      "\n",
      "BEGIN: REPORT\n",
      "\n",
      "name: luke\n",
      "affiliation: jedi\n",
      "status: missing\n",
      "\n",
      "END REPORT\n",
      "\n",
      "BEGIN: REPORT\n",
      "\n",
      "name: anakin\n",
      "affiliation: sith lord\n",
      "status: deceased\n",
      "\n",
      "END REPORT\n"
     ]
    }
   ],
   "source": [
    "# Define report_status\n",
    "def report_status(**kwargs):\n",
    "    \"\"\"Print out the status of a movie character.\"\"\"\n",
    "\n",
    "    print(\"\\nBEGIN: REPORT\\n\")\n",
    "\n",
    "    # Iterate over the key-value pairs of kwargs\n",
    "    for key, value in kwargs.items():\n",
    "        # Print out the keys and values, separated by a colon ':'\n",
    "        print(key+ \": \" + value)\n",
    "\n",
    "    print(\"\\nEND REPORT\")\n",
    "\n",
    "# First call to report_status()\n",
    "report_status(name='luke', affiliation='jedi', status='missing')\n",
    "\n",
    "# Second call to report_status()\n",
    "report_status(name='anakin', affiliation='sith lord',status='deceased')\n"
   ]
  },
  {
   "cell_type": "code",
   "execution_count": 7,
   "metadata": {
    "collapsed": true
   },
   "outputs": [],
   "source": [
    "import pandas as pd\n",
    "tweets_df=pd.read_csv('tweets.csv')"
   ]
  },
  {
   "cell_type": "code",
   "execution_count": 8,
   "metadata": {},
   "outputs": [
    {
     "name": "stdout",
     "output_type": "stream",
     "text": [
      "{'en': 97, 'et': 1, 'und': 2}\n",
      "{'<a href=\"http://twitter.com\" rel=\"nofollow\">Twitter Web Client</a>': 24, '<a href=\"http://www.facebook.com/twitter\" rel=\"nofollow\">Facebook</a>': 1, '<a href=\"http://twitter.com/download/android\" rel=\"nofollow\">Twitter for Android</a>': 26, '<a href=\"http://twitter.com/download/iphone\" rel=\"nofollow\">Twitter for iPhone</a>': 33, '<a href=\"http://www.twitter.com\" rel=\"nofollow\">Twitter for BlackBerry</a>': 2, '<a href=\"http://www.google.com/\" rel=\"nofollow\">Google</a>': 2, '<a href=\"http://twitter.com/#!/download/ipad\" rel=\"nofollow\">Twitter for iPad</a>': 6, '<a href=\"http://linkis.com\" rel=\"nofollow\">Linkis.com</a>': 2, '<a href=\"http://rutracker.org/forum/viewforum.php?f=93\" rel=\"nofollow\">newzlasz</a>': 2, '<a href=\"http://ifttt.com\" rel=\"nofollow\">IFTTT</a>': 1, '<a href=\"http://www.myplume.com/\" rel=\"nofollow\">Plume\\xa0for\\xa0Android</a>': 1}\n"
     ]
    }
   ],
   "source": [
    "#For your convenience, pandas has been imported as pd and the 'tweets.csv' file has been imported into the DataFrame tweets_df\n",
    "# Define count_entries()\n",
    "def count_entries(df, col_name= 'lang'):\n",
    "    \"\"\"Return a dictionary with counts of\n",
    "    occurrences as value for each key.\"\"\"\n",
    "\n",
    "    # Initialize an empty dictionary: cols_count\n",
    "    cols_count = {}\n",
    "\n",
    "    # Extract column from DataFrame: col\n",
    "    col = df[col_name]\n",
    "    \n",
    "    # Iterate over the column in DataFrame\n",
    "    for entry in col:\n",
    "\n",
    "        # If entry is in cols_count, add 1\n",
    "        if entry in cols_count.keys():\n",
    "            cols_count[entry] += 1\n",
    "\n",
    "        # Else add the entry to cols_count, set the value to 1\n",
    "        else:\n",
    "            cols_count[entry] = 1\n",
    "\n",
    "    # Return the cols_count dictionary\n",
    "    return cols_count\n",
    "\n",
    "# Call count_entries(): result1\n",
    "result1 = count_entries(tweets_df)\n",
    "\n",
    "# Call count_entries(): result2\n",
    "result2 = count_entries(tweets_df,'source')\n",
    "\n",
    "# Print result1 and result2\n",
    "print(result1)\n",
    "print(result2)\n",
    "\n"
   ]
  },
  {
   "cell_type": "markdown",
   "metadata": {},
   "source": [
    "##One Step furthur give the user the ability to enter any column he wants"
   ]
  },
  {
   "cell_type": "code",
   "execution_count": 9,
   "metadata": {},
   "outputs": [
    {
     "name": "stdout",
     "output_type": "stream",
     "text": [
      "{'en': 97, 'et': 1, 'und': 2}\n",
      "{'en': 97, 'et': 1, 'und': 2, '<a href=\"http://twitter.com\" rel=\"nofollow\">Twitter Web Client</a>': 24, '<a href=\"http://www.facebook.com/twitter\" rel=\"nofollow\">Facebook</a>': 1, '<a href=\"http://twitter.com/download/android\" rel=\"nofollow\">Twitter for Android</a>': 26, '<a href=\"http://twitter.com/download/iphone\" rel=\"nofollow\">Twitter for iPhone</a>': 33, '<a href=\"http://www.twitter.com\" rel=\"nofollow\">Twitter for BlackBerry</a>': 2, '<a href=\"http://www.google.com/\" rel=\"nofollow\">Google</a>': 2, '<a href=\"http://twitter.com/#!/download/ipad\" rel=\"nofollow\">Twitter for iPad</a>': 6, '<a href=\"http://linkis.com\" rel=\"nofollow\">Linkis.com</a>': 2, '<a href=\"http://rutracker.org/forum/viewforum.php?f=93\" rel=\"nofollow\">newzlasz</a>': 2, '<a href=\"http://ifttt.com\" rel=\"nofollow\">IFTTT</a>': 1, '<a href=\"http://www.myplume.com/\" rel=\"nofollow\">Plume\\xa0for\\xa0Android</a>': 1}\n"
     ]
    }
   ],
   "source": [
    "# Define count_entries()\n",
    "def count_entries(df,*args):\n",
    "    \"\"\"Return a dictionary with counts of\n",
    "    occurrences as value for each key.\"\"\"\n",
    "    \n",
    "    #Initialize an empty dictionary: cols_count\n",
    "    cols_count = {}\n",
    "    \n",
    "    # Iterate over column names in args\n",
    "    for col_name in args:\n",
    "    \n",
    "        # Extract column from DataFrame: col\n",
    "        col = df[col_name]\n",
    "    \n",
    "        # Iterate over the column in DataFrame\n",
    "        for entry in col:\n",
    "    \n",
    "            # If entry is in cols_count, add 1\n",
    "            if entry in cols_count.keys():\n",
    "                cols_count[entry] += 1\n",
    "    \n",
    "            # Else add the entry to cols_count, set the value to 1\n",
    "            else:\n",
    "                cols_count[entry] = 1\n",
    "\n",
    "    # Return the cols_count dictionary\n",
    "    return cols_count\n",
    "\n",
    "# Call count_entries(): result1\n",
    "result1 = count_entries(tweets_df,'lang')\n",
    "\n",
    "# Call count_entries(): result2\n",
    "result2 = count_entries(tweets_df,'lang','source')\n",
    "\n",
    "# Print result1 and result2\n",
    "print(result1)\n",
    "print(result2)\n"
   ]
  },
  {
   "cell_type": "markdown",
   "metadata": {},
   "source": [
    "# use of the lambda function with filter function"
   ]
  },
  {
   "cell_type": "code",
   "execution_count": 13,
   "metadata": {},
   "outputs": [
    {
     "name": "stdout",
     "output_type": "stream",
     "text": [
      "['samwise', 'aragorn', 'legolas', 'boromir']\n"
     ]
    }
   ],
   "source": [
    "# Create a list of strings: fellowship\n",
    "fellowship = ['frodo', 'samwise', 'merry', 'aragorn', 'legolas', 'boromir', 'gimli']\n",
    "\n",
    "# Use filter() to apply a lambda function over fellowship: result\n",
    "result = filter(lambda x: len(x) > 6, fellowship)\n",
    "\n",
    "# Convert result to a list: result_list\n",
    "result_list = list(result)\n",
    "\n",
    "# Convert result into a list and print it\n",
    "print(result_list)"
   ]
  },
  {
   "cell_type": "code",
   "execution_count": 14,
   "metadata": {},
   "outputs": [
    {
     "name": "stdout",
     "output_type": "stream",
     "text": [
      "[False, True, False, True, True, True, False]\n"
     ]
    }
   ],
   "source": [
    "# Create a list of strings: fellowship\n",
    "fellowship = ['frodo', 'samwise', 'merry', 'aragorn', 'legolas', 'boromir', 'gimli']\n",
    "\n",
    "# Use filter() to apply a lambda function over fellowship: result\n",
    "result = map(lambda x: len(x) > 6, fellowship)\n",
    "\n",
    "# Convert result to a list: result_list\n",
    "result_list = list(result)\n",
    "\n",
    "# Convert result into a list and print it\n",
    "print(result_list)"
   ]
  },
  {
   "cell_type": "code",
   "execution_count": 15,
   "metadata": {},
   "outputs": [
    {
     "name": "stdout",
     "output_type": "stream",
     "text": [
      "robbsansaaryaeddardjon\n"
     ]
    }
   ],
   "source": [
    "# Import reduce from functools\n",
    "from functools import reduce\n",
    "\n",
    "# Create a list of strings: stark\n",
    "stark = ['robb', 'sansa', 'arya', 'eddard', 'jon']\n",
    "\n",
    "# Use reduce() to apply a lambda function over stark: result\n",
    "result = reduce(lambda x1,x2: x1+x2 , stark)\n",
    "\n",
    "# Print the result\n",
    "print(result)"
   ]
  },
  {
   "cell_type": "code",
   "execution_count": 16,
   "metadata": {},
   "outputs": [
    {
     "name": "stdout",
     "output_type": "stream",
     "text": [
      "Enter a Word   how\n"
     ]
    },
    {
     "data": {
      "text/plain": [
       "'Sorry word could not be found'"
      ]
     },
     "execution_count": 16,
     "metadata": {},
     "output_type": "execute_result"
    }
   ],
   "source": [
    "# The same above dictionary but returns , we could not find the word\n",
    "d= dict(weather='climate',earth='terra',rain='chuva')\n",
    "def vocab(x):\n",
    "    try:\n",
    "        return (d[x])\n",
    "    except KeyError:\n",
    "        return('Sorry word could not be found')\n",
    "word=input('Enter a Word   ' ).lower()\n",
    "vocab(word)"
   ]
  },
  {
   "cell_type": "code",
   "execution_count": null,
   "metadata": {
    "collapsed": true
   },
   "outputs": [],
   "source": [
    "# Define shout_echo\n",
    "def shout_echo(word1, echo=1):\n",
    "    \"\"\"Concatenate echo copies of word1 and three\n",
    "    exclamation marks at the end of the string.\"\"\"\n",
    "\n",
    "    # Initialize empty strings: echo_word, shout_words\n",
    "    echo_word=''\n",
    "    shout_words=''\n",
    "    \n",
    "\n",
    "    # Add exception handling with try-except\n",
    "    try:\n",
    "        # Concatenate echo copies of word1 using *: echo_word\n",
    "        echo_word =echo*word1\n",
    "\n",
    "        # Concatenate '!!!' to echo_word: shout_words\n",
    "        shout_words =echo_word+'!!!'\n",
    "    except :\n",
    "        # Print error message\n",
    "        print(\"word1 must be a string and echo must be an integer.\")\n",
    "\n",
    "    # Return shout_words\n",
    "    return shout_words\n",
    "\n",
    "# Call shout_echo\n",
    "shout_echo(\"particle\", echo=\"accelerator\")\n"
   ]
  },
  {
   "cell_type": "code",
   "execution_count": 2,
   "metadata": {},
   "outputs": [
    {
     "name": "stdout",
     "output_type": "stream",
     "text": [
      "(14, 32)\n"
     ]
    }
   ],
   "source": [
    "def list_range(x):\n",
    "    \"\"\"Returns the minimum and maximum elements from a list\"\"\"\n",
    "    \n",
    "    a = (min(x), max(x))\n",
    "    return a\n",
    "print(list_range([31, 31, 14, 32]))"
   ]
  },
  {
   "cell_type": "code",
   "execution_count": 7,
   "metadata": {},
   "outputs": [
    {
     "name": "stdout",
     "output_type": "stream",
     "text": [
      "s can not be a string\n"
     ]
    }
   ],
   "source": [
    "#SCRIPT for try and accept\n",
    "\n",
    "def square(s):\n",
    "    \"\"\"Returns the area and perimeter of a square\"\"\"\n",
    "    try:\n",
    "        a = s * s\n",
    "        p = 4 * s \n",
    "        return a, p\n",
    "    except TypeError:\n",
    "        print('s can not be a string')\n",
    "square('4')\n",
    "\n"
   ]
  },
  {
   "cell_type": "code",
   "execution_count": 11,
   "metadata": {
    "collapsed": true
   },
   "outputs": [],
   "source": [
    "def get_choice(c):\n",
    "    \"\"\"Returns the number associated with your choice\"\"\"\n",
    "    choices = {'A': 25, 'B': 15, 'C': 50}\n",
    "    if c not in choices.keys():\n",
    "        raise ValueError('Invalid Choice')\n",
    "    n = choices[c]\n",
    "    return n\n"
   ]
  },
  {
   "cell_type": "markdown",
   "metadata": {},
   "source": [
    "# The below example is a good one to see that the global or the local scope of a function , here I am passing x=3 and then asking the function to do a cube of it and then when I come out of the loop , I again find that the x initialized to 3 so there by giving an output of 3 (Global /Local Scope)"
   ]
  },
  {
   "cell_type": "code",
   "execution_count": 12,
   "metadata": {},
   "outputs": [
    {
     "name": "stdout",
     "output_type": "stream",
     "text": [
      "3\n"
     ]
    }
   ],
   "source": [
    "def cube(y):\n",
    "    x = y ** 3\n",
    "    return x\n",
    "\n",
    "x = 3\n",
    "cube(x)\n",
    "print(x)"
   ]
  },
  {
   "cell_type": "code",
   "execution_count": 13,
   "metadata": {
    "collapsed": true
   },
   "outputs": [],
   "source": [
    "def add_zeros(string):\n",
    "    \"\"\"Returns a string padded with zeros to ensure consistent length\"\"\"\n",
    "    updated_string = string + '0'\n",
    "    def add_more():\n",
    "        \"\"\"Adds more zeros if necessary\"\"\"\n",
    "        nonlocal updated_string\n",
    "        updated_string = updated_string + '0'\n",
    "    \n",
    "    while len(updated_string) < 6:\n",
    "        add_more()\n",
    "    return updated_string"
   ]
  },
  {
   "cell_type": "code",
   "execution_count": 15,
   "metadata": {},
   "outputs": [
    {
     "name": "stdout",
     "output_type": "stream",
     "text": [
      "(1.5, 25.0)\n"
     ]
    }
   ],
   "source": [
    "def mean(*args):\n",
    "    \"\"\"Returns the mean of all the numbers\"\"\"\n",
    "    total_sum = 0 # Intial sum\n",
    "    n = len(args) # Number of arguments\n",
    "    for x in args:\n",
    "         total_sum = total_sum + x\n",
    "    return total_sum/n\n",
    "print((mean(1, 2), mean(20, 25, 30)))"
   ]
  },
  {
   "cell_type": "code",
   "execution_count": 16,
   "metadata": {},
   "outputs": [
    {
     "name": "stdout",
     "output_type": "stream",
     "text": [
      "[1, 1, 2, 0]\n"
     ]
    }
   ],
   "source": [
    "x = ['education', 'automobile', 'evacuation', 'gym']\n",
    "count_vowel = list(map(lambda word: word.count('a'), x))\n",
    "print(count_vowel)"
   ]
  },
  {
   "cell_type": "code",
   "execution_count": 18,
   "metadata": {},
   "outputs": [
    {
     "name": "stdout",
     "output_type": "stream",
     "text": [
      "['education', 'automobile', 'evacuation']\n"
     ]
    }
   ],
   "source": [
    "x = ['education', 'automobile', 'evacuation', 'gym']\n",
    "count_vowel = list(filter(lambda word: word.count('a'), x))\n",
    "print(count_vowel)"
   ]
  },
  {
   "cell_type": "code",
   "execution_count": 20,
   "metadata": {},
   "outputs": [
    {
     "name": "stdout",
     "output_type": "stream",
     "text": [
      "(3.5, 15.0)\n"
     ]
    }
   ],
   "source": [
    "def mean(*x):\n",
    "    \"\"\"Returns the mean of all the numbers\"\"\"\n",
    "    total_sum = 0 # Intial sum\n",
    "    n = len(x) # Number of arguments\n",
    "    for i in x:\n",
    "        total_sum = total_sum + i\n",
    "    return total_sum/n\n",
    "print((mean(3, 4), mean(10, 15, 20)))"
   ]
  },
  {
   "cell_type": "code",
   "execution_count": 21,
   "metadata": {},
   "outputs": [
    {
     "name": "stdout",
     "output_type": "stream",
     "text": [
      "(11, 46)\n"
     ]
    }
   ],
   "source": [
    "def list_range(x):\n",
    "    \"\"\"Returns the minimum and maximum elements from a list\"\"\"\n",
    "    min_x = min(x)\n",
    "    max_x = max(x)\n",
    "    a = (min_x, max_x)\n",
    "    return a\n",
    "print(list_range([11, 15, 30, 46]))"
   ]
  },
  {
   "cell_type": "code",
   "execution_count": 29,
   "metadata": {},
   "outputs": [
    {
     "name": "stdout",
     "output_type": "stream",
     "text": [
      "32.0\n"
     ]
    }
   ],
   "source": [
    "temp = 0\n",
    "def convert_temp(x):\n",
    "    \"\"\"Converts the temperature from Celsius to Fahrenheit\"\"\"\n",
    "    global temp\n",
    "    temp=150\n",
    "    temp = (x * 1.8) + 32\n",
    "convert_temp(temp)\n",
    "print(temp)"
   ]
  },
  {
   "cell_type": "code",
   "execution_count": 31,
   "metadata": {},
   "outputs": [
    {
     "name": "stdout",
     "output_type": "stream",
     "text": [
      "27\n"
     ]
    }
   ],
   "source": [
    "def add_max(x, y):\n",
    "    \"\"\" This function takes two lists x and y, and returns the sum of their maximum elements\"\"\"\n",
    "    \n",
    "    z = max(x) + max(y)\n",
    "    return z\n",
    "print(add_max([8, 7, 9], [14, 18, 15]))"
   ]
  },
  {
   "cell_type": "code",
   "execution_count": 33,
   "metadata": {},
   "outputs": [
    {
     "name": "stdout",
     "output_type": "stream",
     "text": [
      "(21, 25)\n"
     ]
    }
   ],
   "source": [
    "def list_range(x):\n",
    "    \"\"\"Returns the minimum and maximum elements from a list\"\"\"\n",
    "    min_x = min(x)\n",
    "    max_x = max(x)\n",
    "    a = (min_x, max_x)\n",
    "    return a\n",
    "print(list_range([22, 25, 21, 25]))"
   ]
  },
  {
   "cell_type": "code",
   "execution_count": 35,
   "metadata": {},
   "outputs": [
    {
     "name": "stdout",
     "output_type": "stream",
     "text": [
      "[7, 9, 2]\n"
     ]
    }
   ],
   "source": [
    "x = [-5, 7, 9, -4, 2]\n",
    "greater_than_zero = filter(lambda n: (n > 0), x)\n",
    "print(list(greater_than_zero))"
   ]
  },
  {
   "cell_type": "code",
   "execution_count": 36,
   "metadata": {
    "collapsed": true
   },
   "outputs": [],
   "source": [
    "import pandas as pd\n",
    "tweets_df=pd.read_csv('tweets.csv')"
   ]
  },
  {
   "cell_type": "code",
   "execution_count": 38,
   "metadata": {},
   "outputs": [
    {
     "name": "stdout",
     "output_type": "stream",
     "text": [
      "RT @bpolitics: .@krollbondrating's Christopher Whalen says Clinton is the weakest Dem candidate in 50 years https://t.co/pLk7rvoRSn https:/…\n",
      "RT @HeidiAlpine: @dmartosko Cruz video found.....racing from the scene.... #cruzsexscandal https://t.co/zuAPZfQDk3\n",
      "RT @AlanLohner: The anti-American D.C. elites despise Trump for his America-first foreign policy. Trump threatens their gravy train. https:…\n",
      "RT @BIackPplTweets: Young Donald trump meets his neighbor  https://t.co/RFlu17Z1eE\n",
      "RT @trumpresearch: @WaitingInBagdad @thehill Trump supporters have selective amnisia.\n",
      "RT @HouseCracka: 29,000+ PEOPLE WATCHING TRUMP LIVE ON ONE STREAM!!!\n",
      "\n",
      "https://t.co/7QCFz9ehNe\n",
      "RT @urfavandtrump: RT for Brendon Urie\n",
      "Fav for Donald Trump https://t.co/PZ5vS94lOg\n",
      "RT @trapgrampa: This is how I see #Trump every time he speaks. https://t.co/fYSiHNS0nT\n",
      "RT @trumpresearch: @WaitingInBagdad @thehill Trump supporters have selective amnisia.\n",
      "RT @Pjw20161951: NO KIDDING: #SleazyDonald just attacked Scott Walker for NOT RAISING TAXES in WI! #LyinTrump\n",
      "#NeverTrump  #CruzCrew  https…\n",
      "RT @urfavandtrump: RT for Brendon Urie\n",
      "Fav for Donald Trump https://t.co/PZ5vS94lOg\n",
      "RT @ggreenwald: The media spent all day claiming @SusanSarandon said she might vote for Trump. A total fabrication, but whatever... https:/…\n",
      "RT @Pjw20161951: NO KIDDING: #SleazyDonald just attacked Scott Walker for NOT RAISING TAXES in WI! #LyinTrump\n",
      "#NeverTrump  #CruzCrew  https…\n",
      "RT @trapgrampa: This is how I see #Trump every time he speaks. https://t.co/fYSiHNS0nT\n",
      "RT @mitchellvii: So let me get this straight.  Any reporter can assault Mr Trump at any time and Corey can do nothing?  Michelle is clearly…\n",
      "RT @paulbenedict7: How #Trump Sacks RINO Strongholds by Hitting Positions Held by Dems and GOP https://t.co/D7ulnAJhis   #tcot #PJNET https…\n",
      "RT @DRUDGE_REPORT: VIDEO:  Trump emotional moment with Former Miss Wisconsin who has terminal illness... https://t.co/qt06aG9inT\n",
      "RT @ggreenwald: The media spent all day claiming @SusanSarandon said she might vote for Trump. A total fabrication, but whatever... https:/…\n",
      "RT @DennisApgar: Thank God I seen Trump at first stop in Wisconsin media doesn't know how great he is, advice watch live streaming https://…\n",
      "RT @paulbenedict7: How #Trump Sacks RINO Strongholds by Hitting Positions Held by Dems and GOP https://t.co/D7ulnAJhis   #tcot #PJNET https…\n",
      "RT @DRUDGE_REPORT: VIDEO:  Trump emotional moment with Former Miss Wisconsin who has terminal illness... https://t.co/qt06aG9inT\n",
      "RT @DennisApgar: Thank God I seen Trump at first stop in Wisconsin media doesn't know how great he is, advice watch live streaming https://…\n",
      "RT @mitchellvii: So let me get this straight.  Any reporter can assault Mr Trump at any time and Corey can do nothing?  Michelle is clearly…\n",
      "RT @sciam: Trump's idiosyncratic patterns of speech are why people tend either to love or hate him https://t.co/QXwquVgs3c https://t.co/P9N…\n",
      "RT @Norsu2: Nightmare WI poll for Ted Cruz has Kasich surging: Trump 29, Kasich 27, Cruz 25. https://t.co/lJsgbLYY1P #NeverTrump\n",
      "RT @thehill: WATCH: Protester pepper-sprayed point blank at Trump rally https://t.co/B5f65Al9ld https://t.co/skAfByXuQc\n",
      "RT @sciam: Trump's idiosyncratic patterns of speech are why people tend either to love or hate him https://t.co/QXwquVgs3c https://t.co/P9N…\n",
      "RT @ggreenwald: The media spent all day claiming @SusanSarandon said she might vote for Trump. A total fabrication, but whatever... https:/…\n",
      "RT @DebbieStout5: Wow! Last I checked it was just 12 points &amp; that wasn't more than a day ago. Oh boy Trump ppl might want to rethink🤔 http…\n",
      "RT @tyleroakley: i'm a messy bitch, but at least i'm not voting for trump\n",
      "RT @vandives: Trump supporters r tired of justice NOT being served. There's no justice anymore. Hardworking Americans get screwed. That's n…\n",
      "RT @AP: BREAKING: Trump vows to stand by campaign manager charged with battery, says he does not discard people.\n",
      "RT @AP: BREAKING: Trump vows to stand by campaign manager charged with battery, says he does not discard people.\n",
      "RT @urfavandtrump: RT for Jerrie (Little Mix)\n",
      "Fav for Donald Trump https://t.co/nEVxElW6iG\n",
      "RT @urfavandtrump: RT for Jerrie (Little Mix)\n",
      "Fav for Donald Trump https://t.co/nEVxElW6iG\n",
      "RT @NoahCRothman: When Walker was fighting for reforms, Trump was defending unions and collective bargaining privileges https://t.co/e1UWNN…\n",
      "RT @RedheadAndRight: Report: Secret Service Says Michelle Fields Touched Trump https://t.co/c5c2sD8VO2\n",
      "\n",
      "This is the only article you will n…\n",
      "RT @AIIAmericanGirI: VIDEO=&gt; Anti-Trump Protester SLUGS Elderly Trump Supporter in the Face\n",
      "https://t.co/GeEryMDuDY\n",
      "RT @NoahCRothman: When Walker was fighting for reforms, Trump was defending unions and collective bargaining privileges https://t.co/e1UWNN…\n",
      "RT @JusticeRanger1: @realDonaldTrump @Pudingtane @DanScavino @GOP @infowars @EricTrump \n",
      "URGENT PUBLIC TRUMP ALERT:\n",
      "COVERT KILL MEANS https:…\n",
      "RT @AIIAmericanGirI: VIDEO=&gt; Anti-Trump Protester SLUGS Elderly Trump Supporter in the Face\n",
      "https://t.co/GeEryMDuDY\n",
      "RT @RedheadAndRight: Report: Secret Service Says Michelle Fields Touched Trump https://t.co/c5c2sD8VO2\n",
      "\n",
      "This is the only article you will n…\n",
      "RT @JusticeRanger1: @realDonaldTrump @Pudingtane @DanScavino @GOP @infowars @EricTrump \n",
      "URGENT PUBLIC TRUMP ALERT:\n",
      "COVERT KILL MEANS https:…\n",
      "RT @Schneider_CM: Trump says nobody had ever heard of executive orders before Obama started signing them. Never heard of the Emancipation P…\n",
      "RT @RonBasler1: @DavidWhitDennis @realDonaldTrump @tedcruz \n",
      "\n",
      "CRUZ SCREWS HOOKERS\n",
      "\n",
      "CRUZ / CLINTON\n",
      "RT @DonaldsAngel: Former Ms. WI just said that she is terminally ill but because of Trump pageant, her 7 yr. old son has his college educat…\n",
      "RT @Schneider_CM: Trump says nobody had ever heard of executive orders before Obama started signing them. Never heard of the Emancipation P…\n",
      "RT @DonaldsAngel: Former Ms. WI just said that she is terminally ill but because of Trump pageant, her 7 yr. old son has his college educat…\n",
      "RT @Dodarey: @DR8801 @SykesCharlie Charlie, let's see you get a straight \"yes\" or \"no\" answer from Cruz a/b being unfaithful to his wife @T…\n",
      "RT @RonBasler1: @DavidWhitDennis @realDonaldTrump @tedcruz \n",
      "\n",
      "CRUZ SCREWS HOOKERS\n",
      "\n",
      "CRUZ / CLINTON\n",
      "RT @RockCliffOne: Remember when the idea of a diabolical moron holding the world hostage was an idea for a funny movie? #Trump #GOP https:/…\n",
      "RT @HillaryClinton: \"Every day, another Republican bemoans the rise of Donald Trump... but [he] didn’t come out of nowhere.\" —Hillary\n",
      "https…\n",
      "RT @Dodarey: @DR8801 @SykesCharlie Charlie, let's see you get a straight \"yes\" or \"no\" answer from Cruz a/b being unfaithful to his wife @T…\n",
      "RT @HillaryClinton: \"Every day, another Republican bemoans the rise of Donald Trump... but [he] didn’t come out of nowhere.\" —Hillary\n",
      "https…\n",
      "RT @RockCliffOne: Remember when the idea of a diabolical moron holding the world hostage was an idea for a funny movie? #Trump #GOP https:/…\n",
      "RT @immigrant4trump: @immigrant4trump msm, cable news attacking trump all day, from 8am to 10pm today, then the reruns come on, repeating t…\n",
      "RT @immigrant4trump: @immigrant4trump msm, cable news attacking trump all day, from 8am to 10pm today, then the reruns come on, repeating t…\n",
      "RT @GlendaJazzey: Donald Trump’s Campaign Financing Dodge, @rrotunda https://t.co/L8flI4lswG via @VerdictJustia\n",
      "RT @TUSK81: LOUDER FOR THE PEOPLE IN THE BACK https://t.co/hlPVyNLXzx\n",
      "RT @loopzoop: Well...put it back https://t.co/8Yb7BDT5VM\n",
      "RT @claytoncubitt: Stop asking Bernie supporters if they’ll vote for Hillary against Trump. We got a plan to beat Trump already. Called Ber…\n",
      "RT @akaMaude13: Seriously can't make this up. What a joke. #NeverTrump  https://t.co/JkTx6mdRgC\n"
     ]
    }
   ],
   "source": [
    "# Select retweets from the Twitter DataFrame: result\n",
    "result = filter(lambda x:x[:2]=='RT',tweets_df['text'])\n",
    "\n",
    "# Create list from filter object result: res_list\n",
    "res_list=list(result)\n",
    "\n",
    "# Print all retweets in res_list\n",
    "for tweet in res_list:\n",
    "    print(tweet)"
   ]
  },
  {
   "cell_type": "code",
   "execution_count": 39,
   "metadata": {},
   "outputs": [
    {
     "name": "stdout",
     "output_type": "stream",
     "text": [
      "{'en': 97, 'et': 1, 'und': 2}\n",
      "The DataFrame does not have a lang1 column\n"
     ]
    }
   ],
   "source": [
    "# Define count_entries()---try except block\n",
    "def count_entries(df, col_name='lang'):\n",
    "    \"\"\"Return a dictionary with counts of\n",
    "    occurrences as value for each key.\"\"\"\n",
    "\n",
    "    # Initialize an empty dictionary: cols_count\n",
    "    cols_count = {}\n",
    "\n",
    "    # Add try block\n",
    "    try:\n",
    "        # Extract column from DataFrame: col\n",
    "        col = df[col_name]\n",
    "        \n",
    "        # Iterate over the column in dataframe\n",
    "        for entry in col:\n",
    "    \n",
    "            # If entry is in cols_count, add 1\n",
    "            if entry in cols_count.keys():\n",
    "                cols_count[entry] += 1\n",
    "            # Else add the entry to cols_count, set the value to 1\n",
    "            else:\n",
    "                cols_count[entry] = 1\n",
    "    \n",
    "        # Return the cols_count dictionary\n",
    "        return cols_count\n",
    "\n",
    "    # Add except block\n",
    "    except:\n",
    "        print('The DataFrame does not have a ' +col_name + ' column')\n",
    "\n",
    "# Call count_entries(): result1\n",
    "result1 = count_entries(tweets_df, 'lang')\n",
    "\n",
    "# Print result1\n",
    "print(result1)\n",
    "\n",
    "# Call count_entries(): result2\n",
    "result2 = count_entries(tweets_df, 'lang1')\n"
   ]
  },
  {
   "cell_type": "code",
   "execution_count": null,
   "metadata": {
    "collapsed": true
   },
   "outputs": [],
   "source": [
    "# Define count_entries()---use ValueError\n",
    "def count_entries(df, col_name='lang'):\n",
    "    \"\"\"Return a dictionary with counts of\n",
    "    occurrences as value for each key.\"\"\"\n",
    "    \n",
    "    # Raise a ValueError if col_name is NOT in DataFrame\n",
    "    if col_name not in df.columns:\n",
    "        raise ValueError ('The DataFrame does not have a ' + col_name + ' column.')\n",
    "\n",
    "    # Initialize an empty dictionary: cols_count\n",
    "    cols_count = {}\n",
    "    \n",
    "    # Extract column from DataFrame: col\n",
    "    col = df[col_name]\n",
    "    \n",
    "    # Iterate over the column in DataFrame\n",
    "    for entry in col:\n",
    "\n",
    "        # If entry is in cols_count, add 1\n",
    "        if entry in cols_count.keys():\n",
    "            cols_count[entry] += 1\n",
    "            # Else add the entry to cols_count, set the value to 1\n",
    "        else:\n",
    "            cols_count[entry] = 1\n",
    "        \n",
    "        # Return the cols_count dictionary\n",
    "    return cols_count\n",
    "\n",
    "# Call count_entries(): result1\n",
    "result1=count_entries(tweets_df,col_name='lang')\n",
    "\n",
    "# Print result1\n",
    "print(result1)"
   ]
  },
  {
   "cell_type": "markdown",
   "metadata": {},
   "source": [
    "##iterables and iterators. Recall from the video that an iterable is an object that can return an iterator, while an iterator is an object that keeps state and produces the next value when you call next() on it."
   ]
  },
  {
   "cell_type": "code",
   "execution_count": 40,
   "metadata": {},
   "outputs": [
    {
     "name": "stdout",
     "output_type": "stream",
     "text": [
      "jay garrick\n",
      "barry allen\n",
      "wally west\n",
      "bart allen\n",
      "jay garrick\n",
      "barry allen\n",
      "wally west\n",
      "bart allen\n"
     ]
    }
   ],
   "source": [
    "# Create a list of strings: flash\n",
    "flash = ['jay garrick', 'barry allen', 'wally west', 'bart allen']\n",
    "\n",
    "# Print each list item in flash using a for loop\n",
    "for person in flash:\n",
    "    print(person)\n",
    "\n",
    "\n",
    "# Create an iterator for flash: superspeed\n",
    "superspeed=iter(flash)\n",
    "\n",
    "# Print each item from the iterator\n",
    "print(next(superspeed))\n",
    "print(next(superspeed))\n",
    "print(next(superspeed))\n",
    "print(next(superspeed))"
   ]
  },
  {
   "cell_type": "code",
   "execution_count": 41,
   "metadata": {},
   "outputs": [
    {
     "name": "stdout",
     "output_type": "stream",
     "text": [
      "0\n",
      "1\n",
      "2\n",
      "0\n",
      "1\n",
      "2\n",
      "0\n",
      "1\n",
      "2\n",
      "3\n",
      "4\n"
     ]
    }
   ],
   "source": [
    "# Create an iterator for range(3): small_value\n",
    "small_value = iter(range(3))\n",
    "\n",
    "# Print the values in small_value\n",
    "print(next(small_value))\n",
    "print(next(small_value))\n",
    "print(next(small_value))\n",
    "\n",
    "# Loop over range(3) and print the values\n",
    "for num in range(3):\n",
    "    print(num)\n",
    "\n",
    "\n",
    "# Create an iterator for range(10 ** 100): googol\n",
    "googol =iter(range(10**100))\n",
    "\n",
    "# Print the first 5 values from googol\n",
    "print(next(googol))\n",
    "print(next(googol))\n",
    "print(next(googol))\n",
    "print(next(googol))\n",
    "print(next(googol))"
   ]
  },
  {
   "cell_type": "code",
   "execution_count": 47,
   "metadata": {},
   "outputs": [
    {
     "name": "stdout",
     "output_type": "stream",
     "text": [
      "range(10, 21)\n",
      "[10, 11, 12, 13, 14, 15, 16, 17, 18, 19, 20]\n",
      "165\n"
     ]
    }
   ],
   "source": [
    "# Create a range object: values--- Learning both sum and list are iterable that allows me to sum values in a list by using the \n",
    "#function below.\n",
    "values = range(10,21)\n",
    "\n",
    "# Print the range object\n",
    "print(values)\n",
    "\n",
    "# Create a list of integers: values_list--- list is iterable\n",
    "values_list = list(values)\n",
    "\n",
    "# Print values_list\n",
    "print(values_list)\n",
    "\n",
    "# Get the sum of values: values_sum---sum is iteraable\n",
    "values_sum = sum(values)\n",
    "\n",
    "# Print values_sum\n",
    "print(values_sum)"
   ]
  },
  {
   "cell_type": "markdown",
   "metadata": {},
   "source": [
    "# enumerate() produces a index-value pair"
   ]
  },
  {
   "cell_type": "code",
   "execution_count": 50,
   "metadata": {},
   "outputs": [
    {
     "name": "stdout",
     "output_type": "stream",
     "text": [
      "[(0, 'charles xavier'), (1, 'bobby drake'), (2, 'kurt wagner'), (3, 'max eisenhardt'), (4, 'kitty pride')]\n",
      "<enumerate object at 0x00000231DEA72438>\n",
      "0 charles xavier\n",
      "1 bobby drake\n",
      "2 kurt wagner\n",
      "3 max eisenhardt\n",
      "4 kitty pride\n",
      "1 charles xavier\n",
      "2 bobby drake\n",
      "3 kurt wagner\n",
      "4 max eisenhardt\n",
      "5 kitty pride\n"
     ]
    }
   ],
   "source": [
    "# Create a list of strings: mutants\n",
    "mutants = ['charles xavier', \n",
    "            'bobby drake', \n",
    "            'kurt wagner', \n",
    "            'max eisenhardt', \n",
    "            'kitty pride']\n",
    "\n",
    "# Create a list of tuples: mutant_list\n",
    "mutant_list1=enumerate(mutants)\n",
    "mutant_list = list(enumerate(mutants))\n",
    "\n",
    "# Print the list of tuples--- using the list function I can see the tuple otherwise ot would show \n",
    "#<enumerate object at 0x00000231DEAC95E8>\n",
    "print(mutant_list)\n",
    "print(mutant_list1)\n",
    "\n",
    "# Unpack and print the tuple pairs\n",
    "for index1 ,value1 in enumerate(mutants):\n",
    "    print(index1, value1)\n",
    "\n",
    "# Change the start index\n",
    "for index2 , value2 in enumerate(mutants ,start=1):\n",
    "    print(index2, value2)\n"
   ]
  },
  {
   "cell_type": "markdown",
   "metadata": {},
   "source": [
    "##ZIP() : which takes any number of iterables and returns a zip object that is an iterator of tuples. If you wanted to print the values of a zip object, you can convert it into a list and then print it. Printing just a zip object will not return the values unless you unpack it first. In this exercise, you will explore this for yourself."
   ]
  },
  {
   "cell_type": "code",
   "execution_count": 53,
   "metadata": {},
   "outputs": [
    {
     "name": "stdout",
     "output_type": "stream",
     "text": [
      "[('charles xavier', 'prof x', 'telepathy'), ('bobby drake', 'iceman', 'thermokinesis'), ('kurt wagner', 'nightcrawler', 'teleportation'), ('max eisenhardt', 'magneto', 'magnetokinesis'), ('kitty pride', 'shadowcat', 'intangibility')]\n",
      "------\n",
      "<zip object at 0x00000231DEAB9608>\n",
      "------\n",
      "charles xavier prof x telepathy\n",
      "bobby drake iceman thermokinesis\n",
      "kurt wagner nightcrawler teleportation\n",
      "max eisenhardt magneto magnetokinesis\n",
      "kitty pride shadowcat intangibility\n",
      "------\n",
      "[('charles xavier', 'prof x', 'telepathy'), ('bobby drake', 'iceman', 'thermokinesis'), ('kurt wagner', 'nightcrawler', 'teleportation'), ('max eisenhardt', 'magneto', 'magnetokinesis'), ('kitty pride', 'shadowcat', 'intangibility')]\n",
      "------\n",
      "<zip object at 0x00000231DEAB96C8>\n",
      "------\n",
      "charles xavier prof x telepathy\n",
      "bobby drake iceman thermokinesis\n",
      "kurt wagner nightcrawler teleportation\n",
      "max eisenhardt magneto magnetokinesis\n",
      "kitty pride shadowcat intangibility\n"
     ]
    }
   ],
   "source": [
    "# Create a list of tuples: mutant_data\n",
    "mutants=['charles xavier', 'bobby drake', 'kurt wagner', 'max eisenhardt', 'kitty pride']\n",
    "aliases=['prof x', 'iceman', 'nightcrawler', 'magneto', 'shadowcat']\n",
    "powers=['telepathy', 'thermokinesis', 'teleportation', 'magnetokinesis', 'intangibility']\n",
    "mutant_data = list(zip(mutants, aliases, powers))\n",
    "\n",
    "# Print the list of tuples\n",
    "print(mutant_data)\n",
    "print('------')\n",
    "# Create a zip object using the three lists: mutant_zip\n",
    "mutant_zip = zip(mutants, aliases, powers)\n",
    "\n",
    "# Print the zip object\n",
    "print(mutant_zip)\n",
    "print('------')\n",
    "# Unpack the zip object and print the tuple values\n",
    "for value1, value2, value3 in mutant_zip:\n",
    "    print(value1, value2, value3)\n",
    "print('------')\n",
    "mutant_data = list(zip(mutants, aliases, powers))\n",
    "\n",
    "# Print the list of tuples\n",
    "print(mutant_data)\n",
    "print('------')\n",
    "# Create a zip object using the three lists: mutant_zip\n",
    "mutant_zip = zip(mutants, aliases, powers)\n",
    "\n",
    "# Print the zip object\n",
    "print(mutant_zip)\n",
    "print('------')\n",
    "# Unpack the zip object and print the tuple values\n",
    "for value1, value2, value3 in mutant_zip:\n",
    "    print(value1, value2, value3)\n"
   ]
  },
  {
   "cell_type": "code",
   "execution_count": 54,
   "metadata": {},
   "outputs": [
    {
     "name": "stdout",
     "output_type": "stream",
     "text": [
      "('charles xavier', 'telepathy') ('bobby drake', 'thermokinesis') ('kurt wagner', 'teleportation') ('max eisenhardt', 'magnetokinesis') ('kitty pride', 'intangibility')\n",
      "False\n",
      "False\n"
     ]
    }
   ],
   "source": [
    "# Create a zip object from mutants and powers: z1\n",
    "z1 = zip(mutants, powers)\n",
    "\n",
    "# Print the tuples in z1 by unpacking with *\n",
    "print(*z1)\n",
    "\n",
    "# Re-create a zip object from mutants and powers: z1\n",
    "z1 = zip(mutants, powers)\n",
    "\n",
    "# 'Unzip' the tuples in z1 by unpacking with * and zip(): result1, result2\n",
    "result1, result2 = zip(*z1)\n",
    "\n",
    "# Check if unpacked tuples are equivalent to original tuples\n",
    "print(result1 == mutants)\n",
    "print(result2 == powers)\n"
   ]
  },
  {
   "cell_type": "markdown",
   "metadata": {},
   "source": [
    "#Sometimes, the data we have to process reaches a size that is too much for a computer's memory to handle. This is a common problem faced by data scientists. A solution to this is to process an entire data source chunk by chunk, instead of a single go all at once"
   ]
  },
  {
   "cell_type": "code",
   "execution_count": 55,
   "metadata": {},
   "outputs": [
    {
     "name": "stdout",
     "output_type": "stream",
     "text": [
      "{'en': 97, 'et': 1, 'und': 2}\n"
     ]
    }
   ],
   "source": [
    "# Initialize an empty dictionary: counts_dict\n",
    "counts_dict={}\n",
    "\n",
    "# Iterate over the file chunk by chunk\n",
    "for chunk in (pd.read_csv('tweets.csv',chunksize=10)):\n",
    "    col_name=chunk['lang']\n",
    "    # Iterate over the column in DataFrame\n",
    "    for entry in col_name:\n",
    "        if entry in counts_dict.keys():\n",
    "            counts_dict[entry] += 1\n",
    "        else:\n",
    "            counts_dict[entry] = 1\n",
    "\n",
    "# Print the populated dictionary\n",
    "print(counts_dict)\n"
   ]
  },
  {
   "cell_type": "code",
   "execution_count": 71,
   "metadata": {},
   "outputs": [
    {
     "name": "stdout",
     "output_type": "stream",
     "text": [
      "{'en': 97, 'et': 1, 'und': 2}\n"
     ]
    }
   ],
   "source": [
    "# Initialize an empty dictionary: counts_dict\n",
    "counts_dict={}\n",
    "df=pd.read_csv('tweets.csv',chunksize=10)\n",
    "for col in df:\n",
    "    col_name=col['lang']\n",
    "    # Iterate over the column in DataFrame\n",
    "    for entry in col_name:\n",
    "        if entry in counts_dict.keys():\n",
    "            counts_dict[entry] += 1\n",
    "        else:\n",
    "            counts_dict[entry] = 1\n",
    "\n",
    "# Print the populated dictionary\n",
    "print(counts_dict)\n"
   ]
  },
  {
   "cell_type": "code",
   "execution_count": null,
   "metadata": {
    "collapsed": true
   },
   "outputs": [],
   "source": [
    "# Define count_entries()\n",
    "def count_entries(csv_file, c_size, colname):\n",
    "    \"\"\"Return a dictionary with counts of\n",
    "    occurrences as value for each key.\"\"\"\n",
    "    \n",
    "    # Initialize an empty dictionary: counts_dict\n",
    "    counts_dict = {}\n",
    "\n",
    "    # Iterate over the file chunk by chunk\n",
    "    for chunk in pd.read_csv(csv_file, chunksize=c_size):\n",
    "\n",
    "        # Iterate over the column in DataFrame\n",
    "        for entry in chunk[colname]:\n",
    "            if entry in counts_dict.keys():\n",
    "                counts_dict[entry] += 1\n",
    "            else:\n",
    "                counts_dict[entry] = 1\n",
    "\n",
    "    # Return counts_dict\n",
    "    return counts_dict"
   ]
  },
  {
   "cell_type": "code",
   "execution_count": 77,
   "metadata": {},
   "outputs": [
    {
     "name": "stdout",
     "output_type": "stream",
     "text": [
      "{'en': 97, 'et': 1, 'und': 2}\n"
     ]
    }
   ],
   "source": [
    "# Define count_entries()\n",
    "def count_entries(csv_file ,c_size , colname ):\n",
    "    \"\"\"Return a dictionary with counts of\n",
    "    occurrences as value for each key.\"\"\"\n",
    "    \n",
    "    # Initialize an empty dictionary: counts_dict\n",
    "    counts_dict = {}\n",
    "\n",
    "    # Iterate over the file chunk by chunk\n",
    "    for chunk in pd.read_csv(csv_file,chunksize=c_size):\n",
    "                col=chunk[colname]\n",
    "                for entry in col:\n",
    "                    if entry in counts_dict.keys():\n",
    "                        counts_dict[entry] += 1\n",
    "                    else:\n",
    "                        counts_dict[entry] = 1\n",
    "\n",
    "    # Return counts_dict\n",
    "    return counts_dict\n",
    "\n",
    "# Call count_entries(): result_counts\n",
    "result_counts = count_entries('tweets.csv',10,'lang')\n",
    "\n",
    "# Print result_counts\n",
    "print(result_counts)\n"
   ]
  },
  {
   "cell_type": "markdown",
   "metadata": {},
   "source": [
    "# List Comprehension : "
   ]
  },
  {
   "cell_type": "code",
   "execution_count": 78,
   "metadata": {},
   "outputs": [
    {
     "name": "stdout",
     "output_type": "stream",
     "text": [
      "[2, 3, 4, 5, 6]\n"
     ]
    }
   ],
   "source": [
    "#Example of a normal for loop\n",
    "list1=[]\n",
    "num=[1,2,3,4,5]\n",
    "for item in num:\n",
    "    list1.append(item+1)\n",
    "print(list1)    "
   ]
  },
  {
   "cell_type": "code",
   "execution_count": 79,
   "metadata": {},
   "outputs": [
    {
     "name": "stdout",
     "output_type": "stream",
     "text": [
      "[2, 3, 4, 5, 6, 7, 8, 9, 10]\n"
     ]
    }
   ],
   "source": [
    "#doing the same with a list comprehension\n",
    "nums=list(range(1,10))\n",
    "list1=[num+1 for num in nums ]\n",
    "print(list1)"
   ]
  },
  {
   "cell_type": "code",
   "execution_count": 80,
   "metadata": {},
   "outputs": [
    {
     "name": "stdout",
     "output_type": "stream",
     "text": [
      "[1, 4, 9, 16, 25]\n"
     ]
    }
   ],
   "source": [
    "list2=[num*num for num in range(1,6)]\n",
    "print(list2)"
   ]
  },
  {
   "cell_type": "code",
   "execution_count": 91,
   "metadata": {},
   "outputs": [
    {
     "name": "stdout",
     "output_type": "stream",
     "text": [
      "[(0, 1), (0, 2), (0, 3), (1, 1), (1, 2), (1, 3), (2, 1), (2, 2), (2, 3)]\n"
     ]
    }
   ],
   "source": [
    "#lets create a nested for loop\n",
    "list_1=[]\n",
    "for num1 in range(0,3):\n",
    "    for num2 in range(1,4):\n",
    "        x=(num1,num2)\n",
    "        list_1.append(x)\n",
    "print(list_1)        "
   ]
  },
  {
   "cell_type": "code",
   "execution_count": 89,
   "metadata": {
    "collapsed": true
   },
   "outputs": [],
   "source": [
    "# Use of list Comprehension\n",
    "list_1=[(num1,num2) for num1 in range(0,2) for num2 in range(1,3)]"
   ]
  },
  {
   "cell_type": "code",
   "execution_count": 90,
   "metadata": {},
   "outputs": [
    {
     "data": {
      "text/plain": [
       "[(0, 1), (0, 2), (1, 1), (1, 2)]"
      ]
     },
     "execution_count": 90,
     "metadata": {},
     "output_type": "execute_result"
    }
   ],
   "source": [
    "list_1"
   ]
  },
  {
   "cell_type": "markdown",
   "metadata": {},
   "source": [
    "#list comprehension:: [[output expression] for iterator variable in iterable]"
   ]
  },
  {
   "cell_type": "code",
   "execution_count": 92,
   "metadata": {},
   "outputs": [
    {
     "name": "stdout",
     "output_type": "stream",
     "text": [
      "[0, 1, 2, 3, 4]\n",
      "[0, 1, 2, 3, 4]\n",
      "[0, 1, 2, 3, 4]\n",
      "[0, 1, 2, 3, 4]\n",
      "[0, 1, 2, 3, 4]\n"
     ]
    }
   ],
   "source": [
    "# Create a 5 x 5 matrix using a list of lists: matrix\n",
    "matrix = [[col for col in range(5)] for row in range(5)]\n",
    "\n",
    "# Print the matrix\n",
    "for row in matrix:\n",
    "    print(row)"
   ]
  },
  {
   "cell_type": "markdown",
   "metadata": {
    "collapsed": true
   },
   "source": [
    "# Advanced List Comprehension"
   ]
  },
  {
   "cell_type": "markdown",
   "metadata": {},
   "source": [
    "# [ output expression for iterator variable in iterable if predicate expression ]"
   ]
  },
  {
   "cell_type": "code",
   "execution_count": 1,
   "metadata": {},
   "outputs": [
    {
     "name": "stdout",
     "output_type": "stream",
     "text": [
      "['samwise', 'aragorn', 'legolas', 'boromir']\n"
     ]
    }
   ],
   "source": [
    "# Create a list of strings: fellowship -- if\n",
    "fellowship = ['frodo', 'samwise', 'merry', 'aragorn', 'legolas', 'boromir', 'gimli']\n",
    "\n",
    "# Create list comprehension: new_fellowship\n",
    "new_fellowship = [member for member in fellowship if len(member)>= 7]\n",
    "\n",
    "# Print the new list\n",
    "print(new_fellowship)\n"
   ]
  },
  {
   "cell_type": "code",
   "execution_count": null,
   "metadata": {
    "collapsed": true
   },
   "outputs": [],
   "source": [
    "# Create a list of strings: fellowship--- if /else conditional\n",
    "fellowship = ['frodo', 'samwise', 'merry', 'aragorn', 'legolas', 'boromir', 'gimli']\n",
    "\n",
    "# Create list comprehension: new_fellowship\n",
    "new_fellowship = [member  if len(member)>=7 else ''for member in fellowship ]\n",
    "\n",
    "# Print the new list\n",
    "print(new_fellowship)"
   ]
  },
  {
   "cell_type": "markdown",
   "metadata": {},
   "source": [
    "# Dict comprehensions\n",
    "Comprehensions aren't relegated merely to the world of lists. There are many other objects you can build using comprehensions, such as dictionaries, pervasive objects in Data Science. You will create a dictionary using the comprehension syntax for this exercise. In this case, the comprehension is called a dict comprehension.\n",
    "\n",
    "Recall that the main difference between a list comprehension and a dict comprehension is the use of curly braces {} instead of []. Additionally, members of the dictionary are created using a colon :, as in key:value"
   ]
  },
  {
   "cell_type": "code",
   "execution_count": 2,
   "metadata": {},
   "outputs": [
    {
     "name": "stdout",
     "output_type": "stream",
     "text": [
      "{'frodo': 5, 'samwise': 7, 'merry': 5, 'aragorn': 7, 'legolas': 7, 'boromir': 7, 'gimli': 5}\n"
     ]
    }
   ],
   "source": [
    "# Create a list of strings: fellowship\n",
    "fellowship = ['frodo', 'samwise', 'merry', 'aragorn', 'legolas', 'boromir', 'gimli']\n",
    "\n",
    "# Create dict comprehension: new_fellowship\n",
    "new_fellowship = {member:len(member) for member in fellowship}\n",
    "\n",
    "# Print the new list\n",
    "print(new_fellowship)"
   ]
  },
  {
   "cell_type": "code",
   "execution_count": 1,
   "metadata": {},
   "outputs": [
    {
     "name": "stdout",
     "output_type": "stream",
     "text": [
      "{'Lorem': 5, 'ipsum': 5, 'dolor': 5, 'sit': 3, 'amet,': 5, 'consectetur': 11, 'adipiscing': 10, 'elit.': 5, 'Vivamus': 7, 'condimentum': 11, 'sagittis': 8, 'lacus,': 6, 'laoreet': 7, 'luctus': 6, 'ligula': 6, 'ut.': 3, 'Vestibulum': 10, 'ullamcorper': 11, 'accumsan': 8, 'velit': 5, 'vel': 3, 'vehicula.': 9, 'Proin': 5, 'tempor': 6, 'lacus': 5, 'arcu.': 5, 'Nunc': 4, 'at': 2, 'elit': 4, 'condimentum,': 12, 'semper': 6, 'nisi': 4, 'et,': 3, 'mi.': 3, 'In': 2, 'venenatis': 9, 'blandit': 7, 'nibh': 4, 'sollicitudin.': 13, 'dapibus': 7, 'mauris': 6, 'orci': 4, 'maximus': 7, 'pellentesque.': 13, 'Nullam': 6, 'id': 2, 'elementum': 9, 'ipsum.': 6, 'Suspendisse': 11, 'cursus': 6, 'lobortis': 8, 'viverra.': 8, 'et': 2, 'erat': 4, 'tincidunt': 9, 'porttitor': 9, 'vitae': 5, 'ac': 2, 'dui.\\n\\nDonec': 11, 'vulputate': 9, 'lorem': 5, 'tortor,': 7, 'nec': 3, 'fermentum': 9, 'bibendum': 8, 'vel.': 4, 'Praesent': 8, 'dictum': 6, 'massa,': 6, 'non': 3, 'euismod': 7, 'lacus.': 6, 'Pellentesque': 12, 'est,': 4, 'ut': 2, 'lectus': 6, 'ac.': 3, 'Ut': 2, 'commodo': 7, 'Integer': 7, 'nulla,': 6, 'facilisis': 9, 'amet': 4, 'nulla': 5, 'quis,': 5, 'eleifend': 8, 'suscipit': 8, 'purus.': 6, 'Class': 5, 'aptent': 6, 'taciti': 6, 'sociosqu': 8, 'ad': 2, 'litora': 6, 'torquent': 8, 'per': 3, 'conubia': 7, 'nostra,': 7, 'inceptos': 8, 'himenaeos.': 10, 'Aliquam': 7, 'ultrices': 8, 'lorem,': 6, 'imperdiet': 9, 'est': 3, 'Phasellus': 9, 'justo': 5, 'varius': 6, 'aliquet': 7, 'auctor': 6, 'metus.': 6, 'Fusce': 5, 'tortor': 6, 'pulvinar': 8, 'vestibulum': 10, 'eget': 4, 'in': 2, 'risus.': 6, 'Donec': 5, 'ante': 4, 'ex,': 3, 'placerat': 8, 'a': 1, 'eget,': 5, 'ultricies': 9, 'Nam': 3, 'neque': 5, 'rutrum.': 7, 'urna,': 5, 'sed': 3, 'odio': 4, 'feugiat': 7, 'id.': 3, 'Mauris': 6, 'sapien,': 7, 'nec,': 4, 'eu': 2, 'urna.': 5, 'diam': 4, 'rhoncus': 7, 'non.\\n\\nNulla': 11, 'sem': 3, 'consequat,': 10, 'ornare': 6, 'dignissim.': 10, 'Sed': 3, 'nibh,': 5, 'viverra': 7, 'quis.': 5, 'Aenean': 6, 'felis': 5, 'suscipit.': 9, 'pharetra': 8, 'turpis': 6, 'eros': 4, 'dictum.': 7, 'Etiam': 5, 'venenatis.': 10, 'gravida': 7, 'congue': 6, 'diam.': 5, 'egestas.': 8, 'convallis,': 10, 'mauris.': 7, 'posuere': 7, 'sollicitudin': 12, 'mi,': 3, 'nisl': 4, 'fringilla': 9, 'non.': 4, 'Nulla': 5, 'pretium': 7, 'euismod.': 8, 'vestibulum.': 11, 'sodales': 7, 'libero': 6, 'ultricies.': 10, 'leo': 3, 'pellentesque': 12, 'ultrices.': 9, 'sollicitudin,': 13, 'quis': 4, 'ornare,': 7, 'arcu': 4, 'convallis': 9, 'ligula,': 7, 'finibus': 7, 'sapien': 6, 'sem.': 4, 'consequat': 9, 'hendrerit.': 10, 'dui': 3, 'risus.\\n\\nVestibulum': 18, 'primis': 6, 'faucibus': 8, 'cubilia': 7, 'Curae;': 6, 'facilisis.': 10, 'iaculis': 7, 'neque,': 6, 'eu,': 3, 'hendrerit': 9, 'felis,': 6, 'interdum': 8, 'porta': 5, 'lacinia,': 8, 'in,': 3, 'malesuada': 9, 'nunc.': 5, 'Maecenas': 8, 'mollis': 6, 'eros.': 5, 'congue.': 7, 'malesuada,': 10, 'lacinia': 7, 'risus': 5, 'interdum.\\n\\nEtiam': 16, 'augue.': 6, 'urna': 4, 'orci,': 5, 'a,': 2, 'magna.': 6, 'ex': 2, 'sagittis.': 9, 'facilisi.': 9, 'metus': 5, 'consequat.': 10, 'Quisque': 7, 'velit,': 6, 'mattis': 6, 'a.': 2, 'auctor.': 7, 'pulvinar.': 9, 'magna': 5, 'volutpat': 8, 'ullamcorper.': 12, 'hac': 3, 'habitasse': 9, 'platea': 6, 'dictumst.': 9, 'sed,': 4, 'turpis.': 7, 'laoreet.': 8, 'dui.': 4, 'tristique': 9, 'finibus.': 8, 'ipsum.\\n\\nInteger': 15, 'diam,': 5, 'blandit,': 8, 'quam': 4, 'varius,': 7, 'lectus,': 7, 'enim': 4, 'scelerisque': 11, 'pretium.': 8, 'erat.': 5, 'augue': 5, 'luctus.': 7, 'ante,': 5, 'Curabitur': 9, 'aliquam': 7, 'porta.': 6, 'nunc': 4, 'vestibulum,': 11, 'fermentum.': 10, 'porttitor.\\n\\nMauris': 18, 'dapibus,': 8, 'mi': 2, 'condimentum.': 12, 'feugiat.': 8, 'interdum.': 9, 'dignissim': 9, 'accumsan.': 9, 'cursus.': 7, 'lacinia.\\n\\nQuisque': 17, 'tellus': 6, 'Morbi': 5, 'ipsum,': 6, 'non,': 4, 'velit.': 6, 'ultricies,': 10, 'at,': 3, 'justo,': 6, 'rutrum': 6, 'id.\\n\\nPhasellus': 14, 'magna,': 6, 'nibh.': 5, 'Interdum': 8, 'fames': 5, 'faucibus.': 9, 'at.': 3, 'imperdiet.': 10, 'enim,': 5, 'in.': 3, 'nisi.': 5, 'egestas': 7, 'aliquet,': 8, 'eros,': 5, 'nulla.': 6, 'habitant': 8, 'morbi': 5, 'senectus': 8, 'netus': 5, 'eleifend,': 9, 'neque.': 6, 'orci.': 5, 'tristique,': 10, 'id,': 3, 'lorem.': 6, 'non.\\n\\nMaecenas': 14, 'efficitur,': 10, 'consectetur,': 12, 'massa': 5, 'Duis': 4, 'porttitor.': 10, 'elit,': 5, 'eu.': 3, 'tellus,': 7, 'molestie.\\n\\nSed': 14, 'aliquam,': 8, 'mauris,': 7, 'ultrices,': 9, 'varius.': 7, 'tristique.': 10, 'tincidunt,': 10, 'pretium,': 8, 'leo,': 4, 'leo.': 4, 'et.': 3, 'ex.': 3, 'pulvinar,': 9, 'ipsum.\\n\\nVestibulum': 18, 'molestie': 8, 'sed.': 4, 'dapibus.': 8, 'purus': 5, 'luctus,': 7, 'tempor,': 7, 'eleifend.': 9, 'egestas.\\n\\nVestibulum': 20, 'quam,': 5, 'potenti.': 8, 'felis.': 6, 'gravida.\\n\\nSuspendisse': 21, 'sodales.': 8, 'libero,': 7, 'vitae,': 6, 'lobortis,': 9, 'metus,': 6, 'scelerisque.': 12, 'vehicula': 8, 'nunc,': 5, 'ligula.': 7, 'Curae;\\n': 7}\n"
     ]
    }
   ],
   "source": [
    "lines=open('SampleTextFile_10kb.txt').read().split(' ')\n",
    "new_lines={words:len(words) for words in lines}\n",
    "print(new_lines)"
   ]
  },
  {
   "cell_type": "code",
   "execution_count": 6,
   "metadata": {},
   "outputs": [
    {
     "name": "stdout",
     "output_type": "stream",
     "text": [
      "{'Lorem': 5, 'ipsum': 14, 'dolor': 10, 'sit': 19, 'amet,': 7, 'consectetur': 9, 'adipiscing': 5, 'elit.': 6, 'Vivamus': 7, 'condimentum': 9, 'sagittis': 8, 'lacus,': 1, 'laoreet': 7, 'luctus': 7, 'ligula': 9, 'ut.': 2, 'Vestibulum': 10, 'ullamcorper': 5, 'accumsan': 3, 'velit': 6, 'vel': 11, 'vehicula.': 1, 'Proin': 9, 'tempor': 7, 'lacus': 4, 'arcu.': 5, 'Nunc': 5, 'at': 17, 'elit': 8, 'condimentum,': 3, 'semper': 5, 'nisi': 11, 'et,': 1, 'mi.': 1, 'In': 4, 'venenatis': 9, 'blandit': 5, 'nibh': 5, 'sollicitudin.': 1, 'dapibus': 6, 'mauris': 4, 'orci': 8, 'maximus': 5, 'pellentesque.': 2, 'Nullam': 8, 'id': 9, 'elementum': 7, 'ipsum.': 5, 'Suspendisse': 8, 'cursus': 5, 'lobortis': 1, 'viverra.': 4, 'et': 26, 'erat': 5, 'tincidunt': 17, 'porttitor': 6, 'vitae': 13, 'ac': 13, 'dui.': 4, '': 14, 'Donec': 12, 'vulputate': 7, 'lorem': 9, 'tortor,': 1, 'nec': 14, 'fermentum': 8, 'bibendum': 6, 'vel.': 2, 'Praesent': 7, 'dictum': 6, 'massa,': 1, 'non': 15, 'euismod': 7, 'lacus.': 3, 'Pellentesque': 9, 'est,': 3, 'ut': 11, 'lectus': 6, 'ac.': 1, 'Ut': 5, 'commodo': 7, 'Integer': 3, 'nulla,': 2, 'facilisis': 11, 'amet': 12, 'nulla': 7, 'quis,': 3, 'eleifend': 6, 'suscipit': 6, 'purus.': 2, 'Class': 2, 'aptent': 2, 'taciti': 2, 'sociosqu': 2, 'ad': 2, 'litora': 2, 'torquent': 2, 'per': 4, 'conubia': 2, 'nostra,': 2, 'inceptos': 2, 'himenaeos.': 2, 'Aliquam': 5, 'ultrices': 3, 'lorem,': 4, 'imperdiet': 4, 'est': 4, 'Phasellus': 4, 'justo': 8, 'varius': 4, 'aliquet': 8, 'auctor': 4, 'metus.': 4, 'Fusce': 2, 'tortor': 4, 'pulvinar': 1, 'vestibulum': 2, 'eget': 12, 'in': 18, 'risus.': 2, 'ante': 11, 'ex,': 1, 'placerat': 6, 'a': 12, 'eget,': 1, 'ultricies': 4, 'Nam': 4, 'neque': 6, 'rutrum.': 1, 'urna,': 3, 'sed': 9, 'odio': 4, 'feugiat': 7, 'id.': 4, 'Mauris': 5, 'sapien,': 1, 'nec,': 1, 'eu': 10, 'urna.': 2, 'diam': 5, 'rhoncus': 5, 'non.': 4, 'Nulla': 9, 'sem': 5, 'consequat,': 3, 'ornare': 4, 'dignissim.': 1, 'Sed': 12, 'nibh,': 2, 'viverra': 4, 'quis.': 2, 'Aenean': 6, 'felis': 4, 'suscipit.': 1, 'pharetra': 5, 'turpis': 10, 'eros': 7, 'dictum.': 3, 'Etiam': 9, 'venenatis.': 1, 'gravida': 4, 'congue': 7, 'diam.': 2, 'egestas.': 5, 'convallis,': 1, 'mauris.': 3, 'posuere': 5, 'sollicitudin': 7, 'mi,': 4, 'nisl': 5, 'fringilla': 5, 'pretium': 2, 'euismod.': 1, 'vestibulum.': 2, 'sodales': 3, 'libero': 3, 'ultricies.': 2, 'leo': 3, 'pellentesque': 6, 'ultrices.': 1, 'sollicitudin,': 2, 'quis': 9, 'ornare,': 1, 'arcu': 2, 'convallis': 5, 'ligula,': 3, 'finibus': 5, 'sapien': 2, 'sem.': 4, 'consequat': 6, 'hendrerit.': 1, 'dui': 10, 'primis': 4, 'faucibus': 12, 'cubilia': 2, 'Curae;': 2, 'facilisis.': 2, 'iaculis': 3, 'neque,': 1, 'eu,': 3, 'hendrerit': 5, 'felis,': 3, 'interdum': 4, 'porta': 4, 'lacinia,': 1, 'in,': 2, 'malesuada': 9, 'nunc.': 2, 'Maecenas': 7, 'mollis': 3, 'eros.': 1, 'congue.': 1, 'malesuada,': 1, 'lacinia': 3, 'risus': 7, 'interdum.': 2, 'augue.': 1, 'urna': 3, 'orci,': 1, 'a,': 1, 'magna.': 2, 'ex': 2, 'sagittis.': 3, 'facilisi.': 1, 'metus': 11, 'consequat.': 1, 'Quisque': 6, 'velit,': 2, 'mattis': 4, 'a.': 2, 'auctor.': 2, 'pulvinar.': 1, 'magna': 7, 'volutpat': 2, 'ullamcorper.': 1, 'hac': 1, 'habitasse': 1, 'platea': 1, 'dictumst.': 1, 'sed,': 2, 'turpis.': 2, 'laoreet.': 1, 'tristique': 3, 'finibus.': 2, 'diam,': 2, 'blandit,': 1, 'quam': 4, 'varius,': 1, 'lectus,': 2, 'enim': 4, 'scelerisque': 8, 'pretium.': 1, 'erat.': 2, 'augue': 4, 'luctus.': 1, 'ante,': 1, 'Curabitur': 4, 'aliquam': 5, 'porta.': 1, 'nunc': 3, 'vestibulum,': 1, 'fermentum.': 2, 'porttitor.': 2, 'dapibus,': 1, 'mi': 4, 'condimentum.': 2, 'feugiat.': 1, 'dignissim': 4, 'accumsan.': 1, 'cursus.': 1, 'lacinia.': 1, 'tellus': 2, 'Morbi': 3, 'ipsum,': 2, 'non,': 2, 'velit.': 3, 'ultricies,': 1, 'at,': 1, 'justo,': 1, 'rutrum': 4, 'magna,': 2, 'nibh.': 1, 'Interdum': 2, 'fames': 4, 'faucibus.': 3, 'at.': 1, 'imperdiet.': 1, 'enim,': 4, 'in.': 1, 'nisi.': 1, 'egestas': 2, 'aliquet,': 1, 'eros,': 1, 'nulla.': 3, 'habitant': 2, 'morbi': 2, 'senectus': 2, 'netus': 2, 'eleifend,': 1, 'neque.': 1, 'orci.': 1, 'tristique,': 1, 'id,': 1, 'lorem.': 3, 'efficitur,': 1, 'consectetur,': 1, 'massa': 2, 'Duis': 1, 'elit,': 1, 'eu.': 1, 'tellus,': 1, 'molestie.': 1, 'aliquam,': 1, 'mauris,': 1, 'ultrices,': 1, 'varius.': 1, 'tristique.': 1, 'tincidunt,': 2, 'pretium,': 1, 'leo,': 1, 'leo.': 2, 'et.': 3, 'ex.': 2, 'pulvinar,': 1, 'molestie': 1, 'sed.': 2, 'dapibus.': 1, 'purus': 1, 'luctus,': 1, 'tempor,': 1, 'eleifend.': 1, 'quam,': 1, 'potenti.': 1, 'felis.': 2, 'gravida.': 1, 'sodales.': 1, 'libero,': 1, 'vitae,': 1, 'lobortis,': 1, 'metus,': 1, 'scelerisque.': 1, 'vehicula': 1, 'nunc,': 1, 'ligula.': 1}\n"
     ]
    }
   ],
   "source": [
    "with open ('SampleTextFile_10kb.txt' , 'r') as file:\n",
    "    lines=file.read().split('\\n')\n",
    "wordcount={}    \n",
    "for line in lines:\n",
    "    for word in line.split(' '):\n",
    "        if word in wordcount:\n",
    "            wordcount[word]+=1\n",
    "        else:\n",
    "            wordcount[word]=1\n",
    "print(wordcount)            \n",
    "        \n",
    "    "
   ]
  },
  {
   "cell_type": "markdown",
   "metadata": {},
   "source": [
    "# Three ways to create a dictionary that counts the number of the words and outputs a dictionary :1. using 'with open' command , without using the 'with open' command and the third using the lambda function."
   ]
  },
  {
   "cell_type": "code",
   "execution_count": 9,
   "metadata": {},
   "outputs": [
    {
     "name": "stdout",
     "output_type": "stream",
     "text": [
      "{'My': 1, 'Name': 1, 'is': 1, 'Anirban': 1, 'Ghosh.': 1}\n"
     ]
    }
   ],
   "source": [
    "with open ('myname.txt' , 'r') as file :\n",
    "    lines=file.read().split('\\n')\n",
    "wordcount={}    \n",
    "for line in lines:\n",
    "    for word in line.split(' '):\n",
    "        if word in wordcount:\n",
    "            wordcount[word]+=1\n",
    "        else:\n",
    "            wordcount[word]=1\n",
    "print(wordcount)            \n",
    "    "
   ]
  },
  {
   "cell_type": "code",
   "execution_count": 10,
   "metadata": {},
   "outputs": [
    {
     "name": "stdout",
     "output_type": "stream",
     "text": [
      "{'My': 1, 'Name': 1, 'is': 1, 'Anirban': 1, 'Ghosh.': 1}\n"
     ]
    }
   ],
   "source": [
    "lines=open('myname.txt').read().split('\\n')\n",
    "wordcount={}\n",
    "for line in lines:\n",
    "    for word in line.split():\n",
    "        if word in wordcount:\n",
    "            wordcount[word]+=1\n",
    "        else:\n",
    "            wordcount[word]=1\n",
    "print(wordcount)            "
   ]
  },
  {
   "cell_type": "code",
   "execution_count": 12,
   "metadata": {},
   "outputs": [
    {
     "name": "stdout",
     "output_type": "stream",
     "text": [
      "{'My': 2, 'Name': 4, 'is': 2, 'Anirban': 7, 'Ghosh.': 6}\n"
     ]
    }
   ],
   "source": [
    "lines=open('myname.txt').read().split('\\n')\n",
    "wordcount={word:len(word) for word in line.split(' ')}\n",
    "print(wordcount)"
   ]
  },
  {
   "cell_type": "code",
   "execution_count": null,
   "metadata": {
    "collapsed": true
   },
   "outputs": [],
   "source": []
  },
  {
   "cell_type": "code",
   "execution_count": null,
   "metadata": {
    "collapsed": true
   },
   "outputs": [],
   "source": []
  },
  {
   "cell_type": "code",
   "execution_count": null,
   "metadata": {
    "collapsed": true
   },
   "outputs": [],
   "source": []
  },
  {
   "cell_type": "markdown",
   "metadata": {},
   "source": [
    "# List comprehensions vs generators\n",
    "You've seen from the videos that list comprehensions and generator expressions look very similar in their syntax, except for the use of parentheses () in generator expressions and brackets [] in list comprehensions."
   ]
  },
  {
   "cell_type": "code",
   "execution_count": 3,
   "metadata": {},
   "outputs": [
    {
     "name": "stdout",
     "output_type": "stream",
     "text": [
      "0\n",
      "1\n",
      "2\n",
      "3\n",
      "4\n",
      "5\n",
      "6\n",
      "7\n",
      "8\n",
      "9\n",
      "10\n",
      "11\n",
      "12\n",
      "13\n",
      "14\n",
      "15\n",
      "16\n",
      "17\n",
      "18\n",
      "19\n",
      "20\n",
      "21\n",
      "22\n",
      "23\n",
      "24\n",
      "25\n",
      "26\n",
      "27\n",
      "28\n",
      "29\n",
      "30\n"
     ]
    }
   ],
   "source": [
    "# Create generator object: result\n",
    "result = (num for num in range(0,31))\n",
    "\n",
    "# Print the first 5 values\n",
    "print(next(result))\n",
    "print(next(result))\n",
    "print(next(result))\n",
    "print(next(result))\n",
    "print(next(result))\n",
    "\n",
    "# Print the rest of the values\n",
    "for value in result:\n",
    "    print(value)\n"
   ]
  },
  {
   "cell_type": "code",
   "execution_count": 4,
   "metadata": {},
   "outputs": [
    {
     "name": "stdout",
     "output_type": "stream",
     "text": [
      "cersei\n",
      "jaime\n",
      "tywin\n",
      "tyrion\n",
      "joffrey\n"
     ]
    }
   ],
   "source": [
    "# Create a list of strings: lannister\n",
    "lannister = ['cersei', 'jaime', 'tywin', 'tyrion', 'joffrey']\n",
    "\n",
    "# Create a generator object: lengths\n",
    "lengths = (person for person in lannister)\n",
    "\n",
    "# Iterate over and print the values in lengths\n",
    "for value in lengths:\n",
    "    print(value)\n"
   ]
  },
  {
   "cell_type": "code",
   "execution_count": null,
   "metadata": {
    "collapsed": true
   },
   "outputs": [],
   "source": [
    "# Create a list of strings: lannister\n",
    "lannister = ['cersei', 'jaime', 'tywin', 'tyrion', 'joffrey']\n",
    "\n",
    "# Create a generator object: lengths\n",
    "lengths = (len(person) for person in lannister)\n",
    "\n",
    "# Iterate over and print the values in lengths\n",
    "for value in lengths:\n",
    "    print(value)"
   ]
  },
  {
   "cell_type": "markdown",
   "metadata": {},
   "source": [
    "# Build a generator\n",
    "In previous exercises, you've dealt mainly with writing generator expressions, which uses comprehension syntax. Being able to use comprehension syntax for generator expressions made your work so much easier!\n",
    "\n",
    "Now, recall from the video that not only are there generator expressions, there are generator functions as well. Generator functions are functions that, like generator expressions, yield a series of values, instead of returning a single value. A generator function is defined as you do a regular function, but whenever it generates a value, it uses the keyword yield instead of return."
   ]
  },
  {
   "cell_type": "code",
   "execution_count": 5,
   "metadata": {},
   "outputs": [
    {
     "name": "stdout",
     "output_type": "stream",
     "text": [
      "5\n",
      "5\n",
      "5\n",
      "5\n",
      "5\n"
     ]
    }
   ],
   "source": [
    "# Create a list of strings\n",
    "lannister = ['cersei', 'jaime', 'tywin', 'tyrion', 'joffrey']\n",
    "\n",
    "# Define generator function get_lengths\n",
    "def get_lengths(input_list):\n",
    "    \"\"\"Generator function that yields the\n",
    "    length of the strings in input_list.\"\"\"\n",
    "\n",
    "    # Yield the length of a string\n",
    "    for person in input_list:\n",
    "        yield len(person)\n",
    "\n",
    "# Print the values generated by get_lengths()\n",
    "for value in get_lengths(lannister):\n",
    "    print(value)\n"
   ]
  },
  {
   "cell_type": "code",
   "execution_count": 6,
   "metadata": {
    "scrolled": true
   },
   "outputs": [
    {
     "name": "stdout",
     "output_type": "stream",
     "text": [
      "['23:40:17', '23:40:17', '23:40:17', '23:40:17', '23:40:17', '23:40:17', '23:40:18', '23:40:17', '23:40:18', '23:40:18', '23:40:18', '23:40:17', '23:40:18', '23:40:18', '23:40:17', '23:40:18', '23:40:18', '23:40:17', '23:40:18', '23:40:17', '23:40:18', '23:40:18', '23:40:18', '23:40:18', '23:40:17', '23:40:18', '23:40:18', '23:40:17', '23:40:18', '23:40:18', '23:40:18', '23:40:18', '23:40:18', '23:40:18', '23:40:18', '23:40:18', '23:40:18', '23:40:18', '23:40:18', '23:40:18', '23:40:18', '23:40:18', '23:40:18', '23:40:18', '23:40:18', '23:40:18', '23:40:18', '23:40:18', '23:40:18', '23:40:18', '23:40:18', '23:40:18', '23:40:18', '23:40:18', '23:40:18', '23:40:18', '23:40:18', '23:40:18', '23:40:18', '23:40:18', '23:40:19', '23:40:18', '23:40:18', '23:40:18', '23:40:19', '23:40:19', '23:40:19', '23:40:18', '23:40:19', '23:40:19', '23:40:19', '23:40:18', '23:40:19', '23:40:19', '23:40:19', '23:40:18', '23:40:19', '23:40:19', '23:40:19', '23:40:19', '23:40:19', '23:40:19', '23:40:19', '23:40:19', '23:40:19', '23:40:19', '23:40:19', '23:40:19', '23:40:19', '23:40:19', '23:40:19', '23:40:19', '23:40:19', '23:40:19', '23:40:19', '23:40:19', '23:40:19', '23:40:19', '23:40:19', '23:40:19']\n"
     ]
    }
   ],
   "source": [
    "import pandas as pd\n",
    "df=pd.read_csv('tweets.csv')\n",
    "# Extract the created_at column from df: tweet_time\n",
    "tweet_time = df['created_at']\n",
    "\n",
    "# Extract the clock time: tweet_clock_time\n",
    "tweet_clock_time = [entry[11:19] for entry in tweet_time]\n",
    "\n",
    "# Print the extracted times\n",
    "print(tweet_clock_time)"
   ]
  },
  {
   "cell_type": "markdown",
   "metadata": {},
   "source": [
    "# World Data Exercise"
   ]
  },
  {
   "cell_type": "code",
   "execution_count": null,
   "metadata": {
    "collapsed": true
   },
   "outputs": [],
   "source": [
    "# Extract the created_at column from df: tweet_time\n",
    "tweet_time = df['created_at']\n",
    "\n",
    "# Extract the clock time: tweet_clock_time\n",
    "tweet_clock_time = [entry[11:19] for entry in tweet_time if entry[17:19] =='19']\n",
    "\n",
    "# Print the extracted times\n",
    "print(tweet_clock_time)"
   ]
  },
  {
   "cell_type": "code",
   "execution_count": null,
   "metadata": {
    "collapsed": true
   },
   "outputs": [],
   "source": [
    "# Zip lists: zipped_lists\n",
    "zipped_lists = zip(feature_names ,row_vals)\n",
    "\n",
    "# Create a dictionary: rs_dict\n",
    "rs_dict = dict(zipped_lists)\n",
    "\n",
    "# Print the dictionary\n",
    "print(rs_dict)"
   ]
  },
  {
   "cell_type": "code",
   "execution_count": null,
   "metadata": {
    "collapsed": true
   },
   "outputs": [],
   "source": [
    "# Define lists2dict()\n",
    "def lists2dict(list1 , list2):\n",
    "    \"\"\"Return a dictionary where list1 provides\n",
    "    the keys and list2 provides the values.\"\"\"\n",
    "\n",
    "    # Zip lists: zipped_lists\n",
    "    zipped_lists = zip(list1, list2)\n",
    "\n",
    "    # Create a dictionary: rs_dict\n",
    "    rs_dict = dict(zipped_lists)\n",
    "\n",
    "    # Return the dictionary\n",
    "    return rs_dict \n",
    "\n",
    "# Call lists2dict: rs_fxn\n",
    "rs_fxn = lists2dict(feature_names ,row_vals)\n",
    "\n",
    "# Print rs_fxn\n",
    "print(rs_fxn)\n",
    "    "
   ]
  },
  {
   "cell_type": "code",
   "execution_count": null,
   "metadata": {
    "collapsed": true
   },
   "outputs": [],
   "source": [
    " # Import the pandas package\n",
    "import pandas as pd\n",
    "\n",
    "# Turn list of lists into list of dicts: list_of_dicts\n",
    "list_of_dicts = [lists2dict(feature_names, sublist) for sublist in row_lists]\n",
    "\n",
    "# Turn list of dicts into a DataFrame: df\n",
    "df =pd.DataFrame(list_of_dicts)\n",
    "\n",
    "# Print the head of the DataFrame\n",
    "print(df.head())"
   ]
  },
  {
   "cell_type": "code",
   "execution_count": null,
   "metadata": {
    "collapsed": true
   },
   "outputs": [],
   "source": [
    "# Open a connection to the file\n",
    "with open('world_dev_ind.csv', 'r') as file:\n",
    "\n",
    "    # Skip the column names\n",
    "    file.readline()\n",
    "\n",
    "    # Initialize an empty dictionary: counts_dict\n",
    "    counts_dict = {}\n",
    "\n",
    "    # Process only the first 1000 rows\n",
    "    for j in range(0,1000):\n",
    "\n",
    "        # Split the current line into a list: line\n",
    "        line = file.readline().split(',')\n",
    "\n",
    "        # Get the value for the first column: first_col\n",
    "        first_col = line[0]\n",
    "\n",
    "        # If the column value is in the dict, increment its value\n",
    "        if first_col in counts_dict.keys():\n",
    "            counts_dict[first_col] += 1\n",
    "\n",
    "        # Else, add to the dict and set value to 1\n",
    "        else:\n",
    "            counts_dict[first_col] = 1\n",
    "\n",
    "# Print the resulting dictionary\n",
    "print(counts_dict)\n"
   ]
  },
  {
   "cell_type": "code",
   "execution_count": null,
   "metadata": {
    "collapsed": true
   },
   "outputs": [],
   "source": [
    "# Define read_large_file()\n",
    "def read_large_file(file_object):\n",
    "    \"\"\"A generator function to read a large file lazily.\"\"\"\n",
    "    \n",
    "    # Loop indefinitely until the end of the file\n",
    "    while True:\n",
    "\n",
    "        # Read a line from the file: data\n",
    "        data =file_object.readline()\n",
    "\n",
    "        # Break if this is the end of the file\n",
    "        if not data:\n",
    "            break\n",
    "\n",
    "        # Yield the line of data\n",
    "        yield data\n",
    "        \n",
    "# Open a connection to the file\n",
    "with open('world_dev_ind.csv') as file:\n",
    "\n",
    "    # Create a generator object for the file: gen_file\n",
    "    gen_file = read_large_file(file)\n",
    "\n",
    "    # Print the first three lines of the file\n",
    "    print(next(gen_file))\n",
    "    print(next(gen_file))\n",
    "    print(next(gen_file))\n"
   ]
  },
  {
   "cell_type": "code",
   "execution_count": null,
   "metadata": {
    "collapsed": true
   },
   "outputs": [],
   "source": [
    "# Initialize an empty dictionary: counts_dict\n",
    "counts_dict = {}\n",
    "\n",
    "# Open a connection to the file\n",
    "with open('world_dev_ind.csv') as file:\n",
    "\n",
    "    # Iterate over the generator from read_large_file()\n",
    "    for line in read_large_file(file):\n",
    "\n",
    "        row = line.split(',')\n",
    "        first_col = row[0]\n",
    "\n",
    "        if first_col in counts_dict.keys():\n",
    "            counts_dict[first_col] += 1\n",
    "        else:\n",
    "            counts_dict[first_col] = 1\n",
    "\n",
    "# Print            \n",
    "print(counts_dict)\n"
   ]
  },
  {
   "cell_type": "code",
   "execution_count": null,
   "metadata": {
    "collapsed": true
   },
   "outputs": [],
   "source": [
    "# Import the pandas package\n",
    "import pandas as pd\n",
    "\n",
    "# Initialize reader object: df_reader\n",
    "df_reader=pd.read_csv('ind_pop.csv',chunksize=10)\n",
    "\n",
    "# Print two chunks\n",
    "print(next(df_reader))\n",
    "print(next(df_reader))\n"
   ]
  },
  {
   "cell_type": "code",
   "execution_count": null,
   "metadata": {
    "collapsed": true
   },
   "outputs": [],
   "source": [
    "# Create box plot with Seaborn's default settings\n",
    "import matplotlib.pyplot as plt\n",
    "import seaborn as sns\n",
    "sns.boxplot(x='species', y='petal length (cm)' , data=df)\n",
    "\n",
    "# Label the axes\n",
    "plt.xlabel('species')\n",
    "plt.ylabel('petal length (cm)')\n",
    "\n",
    "\n",
    "# Show the plot\n",
    "plt.show()"
   ]
  },
  {
   "cell_type": "code",
   "execution_count": null,
   "metadata": {
    "collapsed": true
   },
   "outputs": [],
   "source": [
    "# Array of differences to mean: differences\n",
    "differences= versicolor_petal_length-(np.mean(versicolor_petal_length))\n",
    "\n",
    "# Square the differences: diff_sq\n",
    "diff_sq=differences**2\n",
    "\n",
    "# Compute the mean square difference: variance_explicit\n",
    "variance_explicit=np.mean(diff_sq)\n",
    "\n",
    "# Compute the variance using NumPy: variance_np\n",
    "variance_np=np.var(versicolor_petal_length)\n",
    "\n",
    "# Print the results\n",
    "print(variance_explicit , variance_np)\n",
    "\n"
   ]
  },
  {
   "cell_type": "code",
   "execution_count": null,
   "metadata": {
    "collapsed": true
   },
   "outputs": [],
   "source": [
    "# Compute the variance: variance\n",
    "variance=np.var(versicolor_petal_length)\n",
    "\n",
    "# Print the square root of the variance\n",
    "print(np.sqrt(variance))\n",
    "\n",
    "# Print the standard deviation\n",
    "print(np.std(versicolor_petal_length))\n"
   ]
  },
  {
   "cell_type": "code",
   "execution_count": null,
   "metadata": {
    "collapsed": true
   },
   "outputs": [],
   "source": [
    "# Make a scatter plot\n",
    "_ = plt.plot(versicolor_petal_length, versicolor_petal_width,\n",
    "             marker='.', linestyle='none')\n",
    "\n",
    "# Set margins\n",
    "plt.margins(0.02)\n",
    "\n",
    "# Label the axes\n",
    "_ = plt.xlabel('petal length (cm)')\n",
    "_ = plt.ylabel('petal width (cm)')\n",
    "\n",
    "# Show the result\n",
    "plt.show()\n"
   ]
  },
  {
   "cell_type": "code",
   "execution_count": 2,
   "metadata": {},
   "outputs": [
    {
     "name": "stdout",
     "output_type": "stream",
     "text": [
      "['Sat', 'Sun']\n"
     ]
    }
   ],
   "source": [
    "x = ['SaT', 'SUN']\n",
    "def caps(li):\n",
    "    \"\"\"\"Returns a list, with all elements capitalized\"\"\"\n",
    "    def inner(w):\n",
    "        \"\"\"Returns a capitalized word\"\"\"\n",
    "        return w.capitalize()\n",
    "    return ([inner(li[0]), inner(li[1])])\n",
    "print(caps(x))"
   ]
  },
  {
   "cell_type": "code",
   "execution_count": 3,
   "metadata": {},
   "outputs": [
    {
     "name": "stdout",
     "output_type": "stream",
     "text": [
      "['Hour', 'Minute']\n"
     ]
    }
   ],
   "source": [
    "x = ['HOUR', 'MINute']\n",
    "def caps(li):\n",
    "    \"\"\"\"Returns a list, with all elements capitalized\"\"\"\n",
    "    def inner(w):\n",
    "        \"\"\"Returns a capitalized word\"\"\"\n",
    "        return w.capitalize()\n",
    "    return ([inner(\n",
    "li[0]\n",
    "), inner(li[1])])\n",
    "print(caps(x))"
   ]
  },
  {
   "cell_type": "code",
   "execution_count": null,
   "metadata": {
    "collapsed": true
   },
   "outputs": [],
   "source": [
    "# Compute the covariance matrix: \n",
    "covariance_matrix=np.cov(versicolor_petal_length ,versicolor_petal_width)\n",
    "\n",
    "\n",
    "# Print covariance matrix\n",
    "print(covariance_matrix)\n",
    "\n",
    "# Extract covariance of length and width of petals: petal_cov\n",
    "petal_cov=covariance_matrix[0,1]\n",
    "\n",
    "# Print the length/width covariance\n",
    "print(petal_cov)\n"
   ]
  },
  {
   "cell_type": "code",
   "execution_count": 1,
   "metadata": {
    "scrolled": false
   },
   "outputs": [
    {
     "data": {
      "image/png": "[encoded data removed]",
      "text/plain": [
       "<matplotlib.figure.Figure at 0x20432209da0>"
      ]
     },
     "metadata": {},
     "output_type": "display_data"
    }
   ],
   "source": [
    "# Draw 100000 samples from Normal distribution with stds of interest: samples_std1, samples_std3, samples_std10\n",
    "import numpy as np\n",
    "import matplotlib.pyplot as plt\n",
    "samples_std1=np.random.normal(20,1,size=100000)\n",
    "samples_std3=np.random.normal(20 ,3 , size=100000)\n",
    "samples_std10=np.random.normal(20,10,size=100000)\n",
    "\n",
    "\n",
    "# Make histograms\n",
    "_=plt.hist(samples_std1,normed=True ,bins=100 , histtype='step')\n",
    "_=plt.hist(samples_std3 , normed=True,bins=100 , histtype='step')\n",
    "_=plt.hist(samples_std10 , normed=True , bins=100 , histtype='step')\n",
    "\n",
    "# Make a legend, set limits and show plot\n",
    "_ = plt.legend(('std = 1', 'std = 3', 'std = 10'))\n",
    "plt.ylim(-0.01, 0.42)\n",
    "plt.show()\n"
   ]
  },
  {
   "cell_type": "code",
   "execution_count": null,
   "metadata": {
    "collapsed": true
   },
   "outputs": [],
   "source": []
  },
  {
   "cell_type": "code",
   "execution_count": 3,
   "metadata": {
    "collapsed": true
   },
   "outputs": [],
   "source": [
    "def ecdf(samples):\n",
    "    x=np.sort(samples)\n",
    "    y=np.arange(1,len(samples)+1/len(samples))\n",
    "    return x,y"
   ]
  },
  {
   "cell_type": "markdown",
   "metadata": {},
   "source": [
    "##In statistics, an empirical distribution function is the distribution function associated with the empirical measure of a sample. This cumulative distribution function is a step function that jumps up by 1/n at each of the n data points. Its value at any specified value of the measured variable is the fraction of observations of the measured variable that are less than or equal to the specified value. (X is all the sorted data points  and y is all the sorted data from 1/n to 1 using numpy function.)\n",
    "\n",
    "The empirical CDF is useful because\n",
    "\n",
    "it approximates the true CDF well if the sample size (the number of data) is large, and knowing the distribution is helpful for statistical inference\n",
    "a plot of the empirical CDF can be visually compared to known CDFs of frequently used distributions to check if the data came from one of those common distributions\n",
    "it can visually display “how fast” the CDF increases to 1; plotting key quantiles like the quartiles can be useful to “get a feel” for the data\n",
    "\n",
    "An empirical cumulative distribution function (CDF) is a non-parametric estimator of the underlying CDF of a random variable.  It assigns a probability of  1/n to each datum, orders the data from smallest to largest in value, and calculates the sum of the assigned probabilities up to and including each datum.  The result is a step function that increases by 1/n at each datum.\n",
    "\n",
    "An empirical cumulative distribution function (also called the empirical distribution function, ECDF, or just EDF) and a cumulative distribution function are basically the same thing: they are both probability models for data. However, while a CDF is a hypothetical model of a distribution, the ECDF models empirical (i.e. observed) data. To put this another way, the ECDF is the probability distribution you would get if you sampled from your sample, instead of the population. Let’s say you have a set of experimental (observed) data x1, x2 …,xn. The EDF will give you the fraction of sample observations less than or equal to a particular value of x."
   ]
  },
  {
   "cell_type": "code",
   "execution_count": 4,
   "metadata": {},
   "outputs": [
    {
     "data": {
      "image/png": "[encoded data removed]",
      "text/plain": [
       "<matplotlib.figure.Figure at 0x20432fbad68>"
      ]
     },
     "metadata": {},
     "output_type": "display_data"
    }
   ],
   "source": [
    "# Generate CDFs\n",
    "x_std1, y_std1 = ecdf(samples_std1)\n",
    "x_std3, y_std3 = ecdf(samples_std3)\n",
    "x_std10, y_std10 = ecdf(samples_std10)\n",
    "\n",
    "# Plot CDFs\n",
    "_ = plt.plot(x_std1, y_std1, marker='.', linestyle='none')\n",
    "_ = plt.plot(x_std3, y_std3, marker='.', linestyle='none')\n",
    "_ = plt.plot(x_std10, y_std10, marker='.', linestyle='none')\n",
    "\n",
    "# Make 2% margin\n",
    "plt.margins(0.02)\n",
    "\n",
    "# Make a legend and show the plot\n",
    "_ = plt.legend(('std = 1', 'std = 3', 'std = 10'), loc='lower right')\n",
    "plt.show()"
   ]
  },
  {
   "cell_type": "markdown",
   "metadata": {},
   "source": [
    "The CDFs all pass through the mean at the 50th percentile; the mean and median of a Normal distribution are equal. The width of the CDF varies with the standard deviation"
   ]
  },
  {
   "cell_type": "code",
   "execution_count": 8,
   "metadata": {},
   "outputs": [
    {
     "ename": "NameError",
     "evalue": "name 'belmont_no_outliers' is not defined",
     "output_type": "error",
     "traceback": [
      "\u001b[1;31m---------------------------------------------------------------------------\u001b[0m",
      "\u001b[1;31mNameError\u001b[0m                                 Traceback (most recent call last)",
      "\u001b[1;32m<ipython-input-8-a49bfa5740cc>\u001b[0m in \u001b[0;36m<module>\u001b[1;34m()\u001b[0m\n\u001b[0;32m      1\u001b[0m \u001b[1;31m# Compute mean and standard deviation: mu, sigma\u001b[0m\u001b[1;33m\u001b[0m\u001b[1;33m\u001b[0m\u001b[0m\n\u001b[1;32m----> 2\u001b[1;33m \u001b[0mmu\u001b[0m\u001b[1;33m=\u001b[0m\u001b[0mnp\u001b[0m\u001b[1;33m.\u001b[0m\u001b[0mmean\u001b[0m\u001b[1;33m(\u001b[0m\u001b[0mbelmont_no_outliers\u001b[0m\u001b[1;33m)\u001b[0m\u001b[1;33m\u001b[0m\u001b[0m\n\u001b[0m\u001b[0;32m      3\u001b[0m \u001b[0msigma\u001b[0m\u001b[1;33m=\u001b[0m\u001b[0mnp\u001b[0m\u001b[1;33m.\u001b[0m\u001b[0mstd\u001b[0m\u001b[1;33m(\u001b[0m\u001b[0mbelmont_no_outliers\u001b[0m\u001b[1;33m)\u001b[0m\u001b[1;33m\u001b[0m\u001b[0m\n\u001b[0;32m      4\u001b[0m \u001b[1;33m\u001b[0m\u001b[0m\n\u001b[0;32m      5\u001b[0m \u001b[1;33m\u001b[0m\u001b[0m\n",
      "\u001b[1;31mNameError\u001b[0m: name 'belmont_no_outliers' is not defined"
     ]
    }
   ],
   "source": [
    "# Compute mean and standard deviation: mu, sigma\n",
    "mu=np.mean(belmont_no_outliers)\n",
    "sigma=np.std(belmont_no_outliers)\n",
    "\n",
    "\n",
    "# Sample out of a normal distribution with this mu and sigma: samples\n",
    "samples=np.random.normal(mu,sigma , size=10000)\n",
    "\n",
    "# Get the CDF of the samples and of the data\n",
    "x_theor,y_theor=ecdf(samples)\n",
    "x,y=ecdf(belmont_no_outliers)\n",
    "\n",
    "\n",
    "# Plot the CDFs and show the plot\n",
    "_ = plt.plot(x_theor, y_theor)\n",
    "_ = plt.plot(x, y, marker='.', linestyle='none')\n",
    "plt.margins(0.02)\n",
    "_ = plt.xlabel('Belmont winning time (sec.)')\n",
    "_ = plt.ylabel('CDF')\n",
    "plt.show()"
   ]
  },
  {
   "cell_type": "code",
   "execution_count": 5,
   "metadata": {},
   "outputs": [
    {
     "ename": "NameError",
     "evalue": "name 'mu' is not defined",
     "output_type": "error",
     "traceback": [
      "\u001b[1;31m---------------------------------------------------------------------------\u001b[0m",
      "\u001b[1;31mNameError\u001b[0m                                 Traceback (most recent call last)",
      "\u001b[1;32m<ipython-input-5-458be7ff5a58>\u001b[0m in \u001b[0;36m<module>\u001b[1;34m()\u001b[0m\n\u001b[0;32m      1\u001b[0m \u001b[1;31m# Take a million samples out of the Normal distribution: samples\u001b[0m\u001b[1;33m\u001b[0m\u001b[1;33m\u001b[0m\u001b[0m\n\u001b[1;32m----> 2\u001b[1;33m \u001b[0msamples\u001b[0m\u001b[1;33m=\u001b[0m\u001b[0mnp\u001b[0m\u001b[1;33m.\u001b[0m\u001b[0mrandom\u001b[0m\u001b[1;33m.\u001b[0m\u001b[0mnormal\u001b[0m\u001b[1;33m(\u001b[0m\u001b[0mmu\u001b[0m\u001b[1;33m,\u001b[0m \u001b[0msigma\u001b[0m\u001b[1;33m,\u001b[0m\u001b[0msize\u001b[0m\u001b[1;33m=\u001b[0m\u001b[1;36m1000000\u001b[0m\u001b[1;33m)\u001b[0m\u001b[1;33m\u001b[0m\u001b[0m\n\u001b[0m\u001b[0;32m      3\u001b[0m \u001b[1;33m\u001b[0m\u001b[0m\n\u001b[0;32m      4\u001b[0m \u001b[1;31m# Compute the fraction that are faster than 144 seconds: prob\u001b[0m\u001b[1;33m\u001b[0m\u001b[1;33m\u001b[0m\u001b[0m\n\u001b[0;32m      5\u001b[0m \u001b[0mprob\u001b[0m\u001b[1;33m=\u001b[0m\u001b[0mnp\u001b[0m\u001b[1;33m.\u001b[0m\u001b[0msum\u001b[0m\u001b[1;33m(\u001b[0m\u001b[0msamples\u001b[0m\u001b[1;33m>=\u001b[0m\u001b[1;36m144\u001b[0m\u001b[1;33m)\u001b[0m\u001b[1;33m/\u001b[0m\u001b[0mlen\u001b[0m\u001b[1;33m(\u001b[0m\u001b[0msamples\u001b[0m\u001b[1;33m)\u001b[0m\u001b[1;33m\u001b[0m\u001b[0m\n",
      "\u001b[1;31mNameError\u001b[0m: name 'mu' is not defined"
     ]
    }
   ],
   "source": [
    "# Take a million samples out of the Normal distribution: samples\n",
    "samples=np.random.normal(mu, sigma,size=1000000)\n",
    "\n",
    "# Compute the fraction that are faster than 144 seconds: prob\n",
    "prob=np.sum(samples>=144)/len(samples)\n",
    "\n",
    "# Print the result\n",
    "print('Probability of besting Secretariat:', prob)\n"
   ]
  },
  {
   "cell_type": "markdown",
   "metadata": {},
   "source": [
    "If you have a story, you can simulate it!\n",
    "Sometimes, the story describing our probability distribution does not have a named distribution to go along with it. In these cases, fear not! You can always simulate it. We'll do that in this and the next exercise.\n",
    "\n",
    "In earlier exercises, we looked at the rare event of no-hitters in Major League Baseball. Hitting the cycle is another rare baseball event. When a batter hits the cycle, he gets all four kinds of hits, a single, double, triple, and home run, in a single game. Like no-hitters, this can be modeled as a Poisson process, so the time between hits of the cycle are also Exponentially distributed.\n",
    "\n",
    "How long must we wait to see both a no-hitter and a batter hit the cycle? The idea is that we have to wait some time for the no-hitter, and then after the no-hitter, we have to wait for hitting the cycle. Stated another way, what is the total waiting time for the arrival of two different Poisson processes? The total waiting time is the time waited for the no-hitter, plus the time waited for the hitting the cycle.\n",
    "\n",
    "Now, you will write a function to sample out of the distribution described by this story."
   ]
  },
  {
   "cell_type": "code",
   "execution_count": null,
   "metadata": {
    "collapsed": true
   },
   "outputs": [],
   "source": [
    "def successive_poisson(tau1, tau2, size=1):\n",
    "    # Draw samples out of first exponential distribution: t1\n",
    "    t1 = np.random.exponential(tau1, size=size)\n",
    "\n",
    "    # Draw samples out of second exponential distribution: t2\n",
    "    t2 = np.random.exponential(tau2, size=size)\n",
    "\n",
    "    return t1 + t2"
   ]
  },
  {
   "cell_type": "code",
   "execution_count": null,
   "metadata": {
    "collapsed": true
   },
   "outputs": [],
   "source": [
    "# Draw samples of waiting times\n",
    "waiting_times = successive_poisson(764, 715, size=100000)\n",
    "\n",
    "# Make the histogram\n",
    "_ = plt.hist(waiting_times, bins=100, histtype='step',\n",
    "             normed=True)\n",
    "\n",
    "# Label axes\n",
    "_ = plt.xlabel('total waiting time (games)')\n",
    "_ = plt.ylabel('PDF')\n"
   ]
  },
  {
   "cell_type": "code",
   "execution_count": 7,
   "metadata": {},
   "outputs": [
    {
     "data": {
      "text/plain": [
       "'C:\\\\Users\\\\Anirban\\\\OneDrive\\\\IPYTHON'"
      ]
     },
     "execution_count": 7,
     "metadata": {},
     "output_type": "execute_result"
    }
   ],
   "source": [
    "pwd"
   ]
  },
  {
   "cell_type": "code",
   "execution_count": 9,
   "metadata": {},
   "outputs": [
    {
     "ename": "NameError",
     "evalue": "name 'pd' is not defined",
     "output_type": "error",
     "traceback": [
      "\u001b[1;31m---------------------------------------------------------------------------\u001b[0m",
      "\u001b[1;31mNameError\u001b[0m                                 Traceback (most recent call last)",
      "\u001b[1;32m<ipython-input-9-50e4c438a569>\u001b[0m in \u001b[0;36m<module>\u001b[1;34m()\u001b[0m\n\u001b[0;32m      1\u001b[0m \u001b[1;31m# Initialize reader object: urb_pop_reader\u001b[0m\u001b[1;33m\u001b[0m\u001b[1;33m\u001b[0m\u001b[0m\n\u001b[1;32m----> 2\u001b[1;33m \u001b[0murb_pop_reader\u001b[0m \u001b[1;33m=\u001b[0m \u001b[0mpd\u001b[0m\u001b[1;33m.\u001b[0m\u001b[0mread_csv\u001b[0m\u001b[1;33m(\u001b[0m\u001b[1;34m'ind_pop_data.csv'\u001b[0m\u001b[1;33m,\u001b[0m \u001b[0mchunksize\u001b[0m\u001b[1;33m=\u001b[0m\u001b[1;36m1000\u001b[0m\u001b[1;33m)\u001b[0m\u001b[1;33m\u001b[0m\u001b[0m\n\u001b[0m\u001b[0;32m      3\u001b[0m \u001b[1;33m\u001b[0m\u001b[0m\n\u001b[0;32m      4\u001b[0m \u001b[1;31m# Get the first DataFrame chunk: df_urb_pop\u001b[0m\u001b[1;33m\u001b[0m\u001b[1;33m\u001b[0m\u001b[0m\n\u001b[0;32m      5\u001b[0m \u001b[0mdf_urb_pop\u001b[0m \u001b[1;33m=\u001b[0m \u001b[0mnext\u001b[0m\u001b[1;33m(\u001b[0m\u001b[0murb_pop_reader\u001b[0m\u001b[1;33m)\u001b[0m\u001b[1;33m\u001b[0m\u001b[0m\n",
      "\u001b[1;31mNameError\u001b[0m: name 'pd' is not defined"
     ]
    }
   ],
   "source": [
    "# Initialize reader object: urb_pop_reader\n",
    "urb_pop_reader = pd.read_csv('ind_pop_data.csv', chunksize=1000)\n",
    "\n",
    "# Get the first DataFrame chunk: df_urb_pop\n",
    "df_urb_pop = next(urb_pop_reader)\n",
    "\n",
    "# Check out specific country: df_pop_ceb\n",
    "df_pop_ceb = df_urb_pop[df_urb_pop['CountryCode'] == 'CEB']\n",
    "\n",
    "# Zip DataFrame columns of interest: pops\n",
    "pops = zip(df_pop_ceb['Total Population'], \n",
    "            df_pop_ceb['Urban population (% of total)'])\n",
    "\n",
    "# Turn zip object into list: pops_list\n",
    "pops_list = list(pops)\n",
    "\n",
    "# Use list comprehension to create new DataFrame column 'Total Urban Population'\n",
    "df_pop_ceb['Total Urban Population'] = [int(tup[0] * tup[1] * 0.01) for tup in pops_list]\n",
    "\n",
    "# Plot urban population data\n",
    "df_pop_ceb.plot(kind='scatter', x='Year', y='Total Urban Population')\n",
    "plt.show()\n"
   ]
  },
  {
   "cell_type": "code",
   "execution_count": 1,
   "metadata": {},
   "outputs": [
    {
     "ename": "FileNotFoundError",
     "evalue": "[Errno 2] No such file or directory: 'moby_dick.txt'",
     "output_type": "error",
     "traceback": [
      "\u001b[1;31m---------------------------------------------------------------------------\u001b[0m",
      "\u001b[1;31mFileNotFoundError\u001b[0m                         Traceback (most recent call last)",
      "\u001b[1;32m<ipython-input-1-95b1ea4e5e67>\u001b[0m in \u001b[0;36m<module>\u001b[1;34m()\u001b[0m\n\u001b[0;32m      1\u001b[0m \u001b[1;31m# Open a file: file\u001b[0m\u001b[1;33m\u001b[0m\u001b[1;33m\u001b[0m\u001b[0m\n\u001b[1;32m----> 2\u001b[1;33m \u001b[0mfile\u001b[0m \u001b[1;33m=\u001b[0m \u001b[0mopen\u001b[0m\u001b[1;33m(\u001b[0m\u001b[1;34m'moby_dick.txt'\u001b[0m \u001b[1;33m,\u001b[0m \u001b[1;34m'r'\u001b[0m\u001b[1;33m)\u001b[0m\u001b[1;33m\u001b[0m\u001b[0m\n\u001b[0m\u001b[0;32m      3\u001b[0m \u001b[1;33m\u001b[0m\u001b[0m\n\u001b[0;32m      4\u001b[0m \u001b[1;31m# Print it\u001b[0m\u001b[1;33m\u001b[0m\u001b[1;33m\u001b[0m\u001b[0m\n\u001b[0;32m      5\u001b[0m \u001b[0mprint\u001b[0m\u001b[1;33m(\u001b[0m\u001b[0mfile\u001b[0m\u001b[1;33m)\u001b[0m\u001b[1;33m\u001b[0m\u001b[0m\n",
      "\u001b[1;31mFileNotFoundError\u001b[0m: [Errno 2] No such file or directory: 'moby_dick.txt'"
     ]
    }
   ],
   "source": [
    "# Open a file: file\n",
    "file = open('moby_dick.txt' , 'r')\n",
    "\n",
    "# Print it\n",
    "print(file.read())\n",
    "\n",
    "# Check whether file is closed\n",
    "print(file.closed)\n",
    "\n",
    "# Close file\n",
    "file.close()\n",
    "\n",
    "# Check whether file is closed\n",
    "print(file.closed)"
   ]
  },
  {
   "cell_type": "code",
   "execution_count": null,
   "metadata": {
    "collapsed": true
   },
   "outputs": [],
   "source": [
    "# Read & print the first 3 lines\n",
    "with open('moby_dick.txt') as file:\n",
    "    print(file.readline())\n",
    "    print(file.readline())\n",
    "    print(file.readline())\n"
   ]
  },
  {
   "cell_type": "code",
   "execution_count": null,
   "metadata": {
    "collapsed": true
   },
   "outputs": [],
   "source": [
    "# Import package\n",
    "import numpy as np\n",
    "\n",
    "# Assign filename to variable: file\n",
    "file = 'digits.csv'\n",
    "\n",
    "# Load file as array: digits\n",
    "digits = np.loadtxt(file, delimiter=',')\n",
    "\n",
    "# Print datatype of digits\n",
    "print(type(digits))\n",
    "\n",
    "# Select and reshape a row\n",
    "im = digits[21, 1:]\n",
    "im_sq = np.reshape(im, (28, 28))\n",
    "\n",
    "# Plot reshaped data (matplotlib.pyplot already loaded as plt)\n",
    "plt.imshow(im_sq, cmap='Greys', interpolation='nearest')\n",
    "plt.show()"
   ]
  },
  {
   "cell_type": "code",
   "execution_count": null,
   "metadata": {
    "collapsed": true
   },
   "outputs": [],
   "source": [
    "# Import numpy\n",
    "import numpy as np\n",
    "\n",
    "# Assign the filename: file\n",
    "file = 'digits_header.txt'\n",
    "\n",
    "# Load the data: data\n",
    "data = np.loadtxt(file, delimiter='\\t', skiprows=1, usecols=[0,2])\n",
    "\n",
    "# Print data\n",
    "print(data)"
   ]
  },
  {
   "cell_type": "code",
   "execution_count": null,
   "metadata": {
    "collapsed": true
   },
   "outputs": [],
   "source": [
    "# Assign filename: file\n",
    "file = 'seaslug.txt'\n",
    "\n",
    "# Import file: data\n",
    "data = np.loadtxt(file, delimiter='\\t', dtype=str)\n",
    "\n",
    "# Print the first element of data\n",
    "print(data[0])\n",
    "\n",
    "# Import data as floats and skip the first row: data_float\n",
    "data_float = np.loadtxt(file, delimiter='\\t', dtype=float, skiprows=1)\n",
    "\n",
    "# Print the 10th element of data_float\n",
    "print(data_float[9])\n",
    "\n",
    "# Plot a scatterplot of the data\n",
    "plt.scatter(data_float[:, 0], data_float[:, 1])\n",
    "plt.xlabel('time (min.)')\n",
    "plt.ylabel('percentage of larvae')\n",
    "plt.show()"
   ]
  },
  {
   "cell_type": "markdown",
   "metadata": {},
   "source": [
    "Working with mixed datatypes (1)\n",
    "Much of the time you will need to import datasets which have different datatypes in different columns; one column may contain strings and another floats, for example. The function np.loadtxt() will freak at this. There is another function, np.genfromtxt(), which can handle such structures. If we pass dtype=None to it, it will figure out what types each column should be.\n",
    "\n",
    "Import 'titanic.csv' using the function np.genfromtxt() as follows:\n",
    "\n",
    "data = np.genfromtxt('titanic.csv', delimiter=',', names=True, dtype=None)\n",
    "Here, the first argument is the filename, the second specifies the delimiter , and the third argument names tells us there is a header. Because the data are of different types, data is an object called a structured array. Because numpy arrays have to contain elements that are all the same type, the structured array solves this by being a 1D array, where each element of the array is a row of the flat file imported. You can test this by checking out the array's shape in the shell by executing np.shape(data).\n",
    "\n",
    "Acccessing rows and columns of structured arrays is super-intuitive: to get the ith row, merely execute data[i] and to get the column with name 'Fare', execute data['Fare']."
   ]
  },
  {
   "cell_type": "markdown",
   "metadata": {},
   "source": [
    "Working with mixed datatypes (2)\n",
    "You have just used np.genfromtxt() to import data containing mixed datatypes. There is also another function np.recfromcsv() that behaves similarly to np.genfromtxt(), except that its default dtype is None. In this exercise, you'll practice using this to achieve the same result."
   ]
  },
  {
   "cell_type": "code",
   "execution_count": null,
   "metadata": {
    "collapsed": true
   },
   "outputs": [],
   "source": [
    "# Assign the filename: file\n",
    "file = 'titanic.csv'\n",
    "\n",
    "# Import file using np.recfromcsv: d\n",
    "d=np.recfromcsv(file,delimiter=',',names=True ,dtype=None)\n",
    "\n",
    "# Print out first three entries of d\n",
    "print(d[:3])\n"
   ]
  },
  {
   "cell_type": "code",
   "execution_count": null,
   "metadata": {
    "collapsed": true
   },
   "outputs": [],
   "source": [
    "# Import pandas as pd\n",
    "import pandas as pd\n",
    "\n",
    "# Assign the filename: file\n",
    "file = 'titanic.csv'\n",
    "\n",
    "# Read the file into a DataFrame: df\n",
    "df = pd.read_csv(file)\n",
    "\n",
    "# View the head of the DataFrame\n",
    "print(df.head())\n"
   ]
  },
  {
   "cell_type": "markdown",
   "metadata": {},
   "source": [
    "\n",
    "\n",
    "EXERCISE\n",
    "EXERCISE\n",
    "Using pandas to import flat files as DataFrames (2)\n",
    "In the last exercise, you were able to import flat files into a pandas DataFrame. As a bonus, it is then straightforward to retrieve the corresponding numpy array using the attribute values. You'll now have a chance to do this using the MNIST dataset, which is available as digits.csv."
   ]
  },
  {
   "cell_type": "code",
   "execution_count": null,
   "metadata": {
    "collapsed": true
   },
   "outputs": [],
   "source": [
    "# Assign the filename: file\n",
    "file = 'digits.csv'\n",
    "\n",
    "# Read the first 5 rows of the file into a DataFrame: data\n",
    "data=pd.read_csv(file,nrows=5,header=None)\n",
    "\n",
    "# Build a numpy array from the DataFrame: data_array\n",
    "data_array=data.values\n",
    "\n",
    "# Print the datatype of data_array to the shell\n",
    "print(type(data_array))\n"
   ]
  },
  {
   "cell_type": "code",
   "execution_count": null,
   "metadata": {
    "collapsed": true
   },
   "outputs": [],
   "source": [
    "# Import matplotlib.pyplot as plt\n",
    "import matplotlib.pyplot as plt\n",
    "\n",
    "# Assign filename: file\n",
    "file = 'titanic_corrupt.txt'\n",
    "\n",
    "# Import file: data\n",
    "data = pd.read_csv(file, sep='\\t',comment='#', na_values='Nothing')\n",
    "\n",
    "# Print the head of the DataFrame\n",
    "print(data.head())\n",
    "\n",
    "# Plot 'Age' variable in a histogram\n",
    "pd.DataFrame.hist(data[['Age']])\n",
    "plt.xlabel('Age (years)')\n",
    "plt.ylabel('count')\n",
    "plt.show()\n"
   ]
  },
  {
   "cell_type": "code",
   "execution_count": 1,
   "metadata": {},
   "outputs": [
    {
     "data": {
      "text/plain": [
       "['.ipynb_checkpoints',\n",
       " '1234.txt',\n",
       " '73-Hint.txt',\n",
       " 'anki-2.0.48.exe',\n",
       " 'app1.py',\n",
       " 'app3-website-blocker.py',\n",
       " 'belmont.csv',\n",
       " 'cars.csv',\n",
       " 'company1.json',\n",
       " 'Data Science Learning',\n",
       " 'data.json',\n",
       " 'data12.json',\n",
       " 'data1234.json',\n",
       " 'datacamp',\n",
       " 'DataCamp Exercises.ipynb',\n",
       " 'Datascience Sundog',\n",
       " 'dataxyz.json',\n",
       " 'Data_Preprocessing.zip',\n",
       " 'deep-learning',\n",
       " 'Deeplearning.ai.ipynb',\n",
       " 'Deep_Learning_A_Z',\n",
       " 'Deep_Learning_A_Z.zip',\n",
       " 'df1.csv',\n",
       " 'Dictionary Example spyder.py',\n",
       " 'Excel1.csv',\n",
       " 'fast-style-transfer-master',\n",
       " 'fast-style-transfer-master.zip',\n",
       " 'features importances123.py',\n",
       " 'first-neural-network',\n",
       " 'fname.txt',\n",
       " 'Hackerrank Coding.ipynb',\n",
       " 'hosts',\n",
       " 'hosts1.txt',\n",
       " 'Jose Portila Python and Data Science',\n",
       " 'L2 Regularization.py',\n",
       " 'letter.txt',\n",
       " 'letterfolder',\n",
       " 'letternew.txt',\n",
       " 'letternow.txt',\n",
       " 'letters.txt',\n",
       " 'lettersinfour.txt',\n",
       " 'letter_10.txt',\n",
       " 'letter_2.txt',\n",
       " 'letter_20.txt',\n",
       " 'letter_3.txt',\n",
       " 'Linux',\n",
       " 'Logistics Regression.ipynb',\n",
       " 'Machine_Learning_AZ_Template_Folder',\n",
       " 'Machine_Learning_AZ_Template_Folder.zip',\n",
       " 'Map1.html',\n",
       " 'marginIndia.csv',\n",
       " 'MIT.ipynb',\n",
       " 'ml_house_data_set.csv',\n",
       " 'Multiplication Table Example using Python.ipynb',\n",
       " 'New Text Document.txt',\n",
       " 'Numpy advanced Techniques.ipynb',\n",
       " 'PyImage',\n",
       " 'Pytest.py',\n",
       " 'Python Exercises.ipynb',\n",
       " 'scipy.ipynb',\n",
       " 'test.txt',\n",
       " 'test1.txt',\n",
       " 'testcase.py',\n",
       " 'Tic Tac Toe Game',\n",
       " 'trained_house_classifier_model - Copy.pkl',\n",
       " 'trained_house_classifier_model.pkl',\n",
       " 'trained_house_classifier_model_new.pkl',\n",
       " 'tweets.csv',\n",
       " 'Untitled.ipynb',\n",
       " 'Untitled1.ipynb',\n",
       " 'untitled1.py',\n",
       " 'Untitled10.ipynb',\n",
       " 'Untitled11.ipynb',\n",
       " 'untitled2.py',\n",
       " 'websiteblockernew.py',\n",
       " 'words1.txt']"
      ]
     },
     "execution_count": 1,
     "metadata": {},
     "output_type": "execute_result"
    }
   ],
   "source": [
    "import os\n",
    "wd = os.getcwd()\n",
    "os.listdir(wd)"
   ]
  },
  {
   "cell_type": "markdown",
   "metadata": {},
   "source": [
    "Loading a pickled file\n",
    "There are a number of datatypes that cannot be saved easily to flat files, such as lists and dictionaries. If you want your files to be human readable, you may want to save them as text files in a clever manner. JSONs, which you will see in a later chapter, are appropriate for Python dictionaries.\n",
    "\n",
    "However, if you merely want to be able to import them into Python, you can serialize them. All this means is converting the object into a sequence of bytes, or a bytestream.\n",
    "\n",
    "In this exercise, you'll import the pickle package, open a previously pickled data structure from a file and load it"
   ]
  },
  {
   "cell_type": "code",
   "execution_count": null,
   "metadata": {
    "collapsed": true
   },
   "outputs": [],
   "source": [
    "# Import pickle package\n",
    "import pickle\n",
    "\n",
    "# Open pickle file and load data: d\n",
    "with open('data.pkl', 'rb') as file:\n",
    "    d = pickle.load(file)\n",
    "\n",
    "# Print d\n",
    "print(d)\n",
    "\n",
    "# Print datatype of d\n",
    "print(type(d))"
   ]
  },
  {
   "cell_type": "markdown",
   "metadata": {},
   "source": [
    "Listing sheets in Excel files\n",
    "Whether you like it or not, any working data scientist will need to deal with Excel spreadsheets at some point in time. You won't always want to do so in Excel, however!\n",
    "\n",
    "Here, you'll learn how to use pandas to import Excel spreadsheets and how to list the names of the sheets in any loaded .xlsx file.\n",
    "\n",
    "Recall from the video that, given an Excel file imported into a variable spreadsheet, you can retrieve a list of the sheet names using the attribute spreadsheet.sheet_names.\n",
    "\n",
    "Specifically, you'll be loading and checking out the spreadsheet 'battledeath.xlsx', modified from the Peace Research Institute Oslo's (PRIO) dataset. This data contains age-adjusted mortality rates due to war in various countries over several years"
   ]
  },
  {
   "cell_type": "code",
   "execution_count": null,
   "metadata": {
    "collapsed": true
   },
   "outputs": [],
   "source": [
    "import pandas as pd\n",
    "\n",
    "# Assign spreadsheet filename: file\n",
    "file = 'battledeath.xlsx'\n",
    "\n",
    "# Load spreadsheet: xl\n",
    "xl = pd.ExcelFile(file)\n",
    "\n",
    "# Print sheet names\n",
    "print(xl.sheet_names)\n"
   ]
  },
  {
   "cell_type": "markdown",
   "metadata": {},
   "source": [
    "importing sheets from Excel files\n",
    "In the previous exercises, you saw that the Excel file contains two sheets, '2002' and '2004'. The next step is to import these.\n",
    "\n",
    "In this exercise, you'll learn how to import any given sheet of your loaded .xslx file as a DataFrame. You'll be able to do so by specifying either the sheet's name or its index.\n",
    "\n",
    "The spreadsheet 'battledeath.xlsx' is already loaded as xl"
   ]
  },
  {
   "cell_type": "code",
   "execution_count": null,
   "metadata": {
    "collapsed": true
   },
   "outputs": [],
   "source": [
    "# Load a sheet into a DataFrame by name: df1\n",
    "df1 = xl.parse('2004')\n",
    "\n",
    "# Print the head of the DataFrame df1\n",
    "print(df1.head())\n",
    "\n",
    "# Load a sheet into a DataFrame by index: df2\n",
    "df2=xl.parse(0)\n",
    "\n",
    "# Print the head of the DataFrame df2\n",
    "print(df2.head())"
   ]
  },
  {
   "cell_type": "markdown",
   "metadata": {},
   "source": [
    "Customizing your spreadsheet import\n",
    "Here, you'll parse your spreadsheets and use additional arguments to skip rows, rename columns and select only particular columns.\n",
    "\n",
    "The spreadsheet 'battledeath.xlsx' is already loaded as xl.\n",
    "\n",
    "As before, you'll use the method parse(). This time, however, you'll add the additional arguments skiprows, names and parse_cols. These skip rows, name the columns and designate which columns to parse, respectively. All these arguments can be assigned to lists containing the specific row numbers, strings and column numbers, as appropriate"
   ]
  },
  {
   "cell_type": "code",
   "execution_count": null,
   "metadata": {
    "collapsed": true
   },
   "outputs": [],
   "source": [
    "# Parse the first sheet and rename the columns: df1\n",
    "df1 = xl.parse(0, skiprows=[0], names=['Country', 'AAM due to War (2002)'])\n",
    "\n",
    "# Print the head of the DataFrame df1\n",
    "print(df1.head())\n",
    "\n",
    "# Parse the first column of the second sheet and rename the column: df2\n",
    "df2 = xl.parse(1, parse_cols=[0], skiprows=[0], names=['Country'])\n",
    "\n",
    "# Print the head of the DataFrame df2\n",
    "print(df2.head())"
   ]
  },
  {
   "cell_type": "markdown",
   "metadata": {
    "collapsed": true
   },
   "source": [
    "Importing SAS files\n",
    "In this exercise, you'll figure out how to import a SAS file as a DataFrame using SAS7BDAT and pandas. The file 'sales.sas7bdat' is already in your working directory and both pandas and matplotlib.pyplot have already been imported as follows:\n",
    "\n",
    "import pandas as pd\n",
    "import matplotlib.pyplot as plt\n",
    "The data are adapted from the website of the undergraduate text book Principles of Economics by Hill, Griffiths and Lim"
   ]
  },
  {
   "cell_type": "code",
   "execution_count": null,
   "metadata": {
    "collapsed": true
   },
   "outputs": [],
   "source": [
    "# Import sas7bdat package\n",
    "from sas7bdat import SAS7BDAT\n",
    "\n",
    "# Save file to a DataFrame: df_sas\n",
    "with SAS7BDAT('sales.sas7bdat') as file:\n",
    "    df_sas=file.to_data_frame()\n",
    "\n",
    "# Print head of DataFrame\n",
    "print(df_sas.head())\n",
    "\n",
    "# Plot histogram of DataFrame features (pandas and pyplot already imported)\n",
    "pd.DataFrame.hist(df_sas[['P']])\n",
    "plt.ylabel('count')\n",
    "plt.show()"
   ]
  },
  {
   "cell_type": "markdown",
   "metadata": {
    "collapsed": true
   },
   "source": [
    "Importing Stata files\n",
    "Here, you'll gain expertise in importing Stata files as DataFrames using the pd.read_stata() function from pandas. The last exercise's file, 'disarea.dta', is still in your working directory."
   ]
  },
  {
   "cell_type": "code",
   "execution_count": null,
   "metadata": {
    "collapsed": true
   },
   "outputs": [],
   "source": [
    "# Import pandas\n",
    "import pandas as pd\n",
    "\n",
    "# Load Stata file into a pandas DataFrame: df\n",
    "df=pd.read_stata('disarea.dta')\n",
    "\n",
    "# Print the head of the DataFrame df\n",
    "print(df.head())\n",
    "\n",
    "# Plot histogram of one column of the DataFrame\n",
    "pd.DataFrame.hist(df[['disa10']])\n",
    "plt.xlabel('Extent of disease')\n",
    "plt.ylabel('Number of coutries')\n",
    "plt.show()"
   ]
  },
  {
   "cell_type": "markdown",
   "metadata": {},
   "source": [
    "Using h5py to import HDF5 files\n",
    "The file 'LIGO_data.hdf5' is already in your working directory. In this exercise, you'll import it using the h5py library. You'll also print out its datatype to confirm you have imported it correctly. You'll then study the structure of the file in order to see precisely what HDF groups it contains.\n",
    "\n",
    "You can find the LIGO data plus loads of documentation and tutorials here. There is also a great tutorial on Signal Processing with the data here."
   ]
  },
  {
   "cell_type": "code",
   "execution_count": null,
   "metadata": {
    "collapsed": true
   },
   "outputs": [],
   "source": [
    "# Import packages\n",
    "import numpy as np\n",
    "import h5py\n",
    "\n",
    "# Assign filename: file\n",
    "file='LIGO_data.hdf5'\n",
    "\n",
    "# Load file: data\n",
    "data = h5py.File(file , 'r')\n",
    "\n",
    "# Print the datatype of the loaded file\n",
    "print(type(data))\n",
    "\n",
    "# Print the keys of the file\n",
    "for key in data.keys():\n",
    "    print(key)\n"
   ]
  },
  {
   "cell_type": "code",
   "execution_count": null,
   "metadata": {
    "collapsed": true
   },
   "outputs": [],
   "source": [
    "# Get the HDF5 group: group\n",
    "group=data['strain']\n",
    "\n",
    "# Check out keys of group\n",
    "for key in group.keys():\n",
    "    print(key)\n",
    "\n",
    "# Set variable equal to time series data: strain\n",
    "strain=data['strain']['Strain'].value\n",
    "\n",
    "# Set number of time points to sample: num_samples\n",
    "num_samples=10000\n",
    "\n",
    "# Set time vector\n",
    "time = np.arange(0, 1, 1/num_samples)\n",
    "\n",
    "# Plot data\n",
    "plt.plot(time, strain[:num_samples])\n",
    "plt.xlabel('GPS Time (s)')\n",
    "plt.ylabel('strain')\n",
    "plt.show()\n"
   ]
  },
  {
   "cell_type": "markdown",
   "metadata": {},
   "source": [
    "Extracting data from your HDF5 file\n",
    "In this exercise, you'll extract some of the LIGO experiment's actual data from the HDF5 file and you'll visualize it.\n",
    "\n",
    "To do so, you'll need to first explore the HDF5 group 'strain'"
   ]
  },
  {
   "cell_type": "markdown",
   "metadata": {},
   "source": [
    "Loading .mat files\n",
    "In this exercise, you'll figure out how to load a MATLAB file using scipy.io.loadmat() and you'll discover what Python datatype it yields.\n",
    "\n",
    "The file 'albeck_gene_expression.mat' is in your working directory. This file contains gene expression data from the Albeck Lab at UC Davis. You can find the data and some great documentation here."
   ]
  },
  {
   "cell_type": "code",
   "execution_count": null,
   "metadata": {
    "collapsed": true
   },
   "outputs": [],
   "source": [
    "# Import package\n",
    "import scipy.io\n",
    "\n",
    "# Load MATLAB file: mat\n",
    "mat=scipy.io.loadmat('albeck_gene_expression.mat')\n",
    "\n",
    "# Print the datatype type of mat\n",
    "print(type(mat))\n"
   ]
  },
  {
   "cell_type": "code",
   "execution_count": null,
   "metadata": {
    "collapsed": true
   },
   "outputs": [],
   "source": [
    "# Print the keys of the MATLAB dictionary\n",
    "print(mat.keys())\n",
    "\n",
    "# Print the type of the value corresponding to the key 'CYratioCyt'\n",
    "print(type(mat['CYratioCyt']))\n",
    "\n",
    "# Print the shape of the value corresponding to the key 'CYratioCyt'\n",
    "print(np.shape(mat['CYratioCyt']))\n",
    "\n",
    "# Subset the array and plot it\n",
    "data = mat['CYratioCyt'][25, 5:]\n",
    "fig = plt.figure()\n",
    "plt.plot(data)\n",
    "plt.xlabel('time (min.)')\n",
    "plt.ylabel('normalized fluorescence (measure of expression)')\n",
    "plt.show()\n"
   ]
  },
  {
   "cell_type": "code",
   "execution_count": 1,
   "metadata": {
    "collapsed": true
   },
   "outputs": [],
   "source": [
    "# importing from databases that are in sql format from sqlalchemy import create_engine"
   ]
  },
  {
   "cell_type": "code",
   "execution_count": null,
   "metadata": {
    "collapsed": true
   },
   "outputs": [],
   "source": [
    "# Import necessary module\n",
    "from sqlalchemy import create_engine\n",
    "\n",
    "# Create engine: engine\n",
    "engine=create_engine('sqlite:///Northwind.sqlite')\n"
   ]
  },
  {
   "cell_type": "markdown",
   "metadata": {},
   "source": [
    "What are the tables in the database?\n",
    "In this exercise, you'll once again create an engine to connect to 'Chinook.sqlite'. Before you can get any data out of the database, however, you'll need to know what tables it contains!\n",
    "\n",
    "To this end, you'll save the table names to a list using the method table_names() on the engine and then you will print the list."
   ]
  },
  {
   "cell_type": "code",
   "execution_count": 3,
   "metadata": {},
   "outputs": [
    {
     "name": "stdout",
     "output_type": "stream",
     "text": [
      "['Album', 'Artist', 'Customer', 'Employee', 'Genre', 'Invoice', 'InvoiceLine', 'MediaType', 'Playlist', 'PlaylistTrack', 'Track']\n"
     ]
    }
   ],
   "source": [
    "# Import necessary module\n",
    "from sqlalchemy import create_engine\n",
    "\n",
    "# Create engine: engine\n",
    "engine= create_engine('sqlite:///Chinook.sqlite')\n",
    "\n",
    "# Save the table names to a list: table_names\n",
    "table_names=(engine.table_names())\n",
    "\n",
    "# Print the table names to the shell\n",
    "print(table_names)"
   ]
  },
  {
   "cell_type": "code",
   "execution_count": 6,
   "metadata": {},
   "outputs": [
    {
     "name": "stderr",
     "output_type": "stream",
     "text": [
      "C:\\Users\\Anirban\\Anaconda3\\lib\\site-packages\\ipykernel_launcher.py:4: SADeprecationWarning: Use the create() method on the given schema object directly, i.e. Table.create(), Index.create(), MetaData.create_all()\n",
      "  after removing the cwd from sys.path.\n"
     ]
    },
    {
     "ename": "NotImplementedError",
     "evalue": "",
     "output_type": "error",
     "traceback": [
      "\u001b[1;31m---------------------------------------------------------------------------\u001b[0m",
      "\u001b[1;31mNotImplementedError\u001b[0m                       Traceback (most recent call last)",
      "\u001b[1;32m<ipython-input-6-c3da4b123de8>\u001b[0m in \u001b[0;36m<module>\u001b[1;34m()\u001b[0m\n\u001b[0;32m      2\u001b[0m \u001b[1;32mfrom\u001b[0m \u001b[0msqlalchemy\u001b[0m \u001b[1;32mimport\u001b[0m \u001b[0mcreate_engine\u001b[0m\u001b[1;33m\u001b[0m\u001b[0m\n\u001b[0;32m      3\u001b[0m \u001b[1;32mimport\u001b[0m \u001b[0mpandas\u001b[0m \u001b[1;32mas\u001b[0m \u001b[0mpd\u001b[0m\u001b[1;33m\u001b[0m\u001b[0m\n\u001b[1;32m----> 4\u001b[1;33m \u001b[0mengine\u001b[0m\u001b[1;33m=\u001b[0m\u001b[0mengine\u001b[0m\u001b[1;33m.\u001b[0m\u001b[0mcreate\u001b[0m\u001b[1;33m(\u001b[0m\u001b[1;34m'sqlite///Chinook.sqlite'\u001b[0m\u001b[1;33m)\u001b[0m\u001b[1;33m\u001b[0m\u001b[0m\n\u001b[0m\u001b[0;32m      5\u001b[0m \u001b[0mcon\u001b[0m\u001b[1;33m=\u001b[0m\u001b[0mengine\u001b[0m\u001b[1;33m.\u001b[0m\u001b[0mconnect\u001b[0m\u001b[1;33m(\u001b[0m\u001b[1;33m)\u001b[0m\u001b[1;33m\u001b[0m\u001b[0m\n\u001b[0;32m      6\u001b[0m \u001b[0mrs\u001b[0m\u001b[1;33m=\u001b[0m\u001b[0mcon\u001b[0m\u001b[1;33m.\u001b[0m\u001b[0mexecute\u001b[0m\u001b[1;33m(\u001b[0m\u001b[1;34m'SELECT * FROM Album'\u001b[0m\u001b[1;33m)\u001b[0m\u001b[1;33m\u001b[0m\u001b[0m\n",
      "\u001b[1;32m<string>\u001b[0m in \u001b[0;36mcreate\u001b[1;34m(self, entity, **kwargs)\u001b[0m\n",
      "\u001b[1;32m~\\Anaconda3\\lib\\site-packages\\sqlalchemy\\util\\deprecations.py\u001b[0m in \u001b[0;36mwarned\u001b[1;34m(fn, *args, **kwargs)\u001b[0m\n\u001b[0;32m    104\u001b[0m     \u001b[1;32mdef\u001b[0m \u001b[0mwarned\u001b[0m\u001b[1;33m(\u001b[0m\u001b[0mfn\u001b[0m\u001b[1;33m,\u001b[0m \u001b[1;33m*\u001b[0m\u001b[0margs\u001b[0m\u001b[1;33m,\u001b[0m \u001b[1;33m**\u001b[0m\u001b[0mkwargs\u001b[0m\u001b[1;33m)\u001b[0m\u001b[1;33m:\u001b[0m\u001b[1;33m\u001b[0m\u001b[0m\n\u001b[0;32m    105\u001b[0m         \u001b[0mwarnings\u001b[0m\u001b[1;33m.\u001b[0m\u001b[0mwarn\u001b[0m\u001b[1;33m(\u001b[0m\u001b[0mmessage\u001b[0m\u001b[1;33m,\u001b[0m \u001b[0mwtype\u001b[0m\u001b[1;33m,\u001b[0m \u001b[0mstacklevel\u001b[0m\u001b[1;33m=\u001b[0m\u001b[1;36m3\u001b[0m\u001b[1;33m)\u001b[0m\u001b[1;33m\u001b[0m\u001b[0m\n\u001b[1;32m--> 106\u001b[1;33m         \u001b[1;32mreturn\u001b[0m \u001b[0mfn\u001b[0m\u001b[1;33m(\u001b[0m\u001b[1;33m*\u001b[0m\u001b[0margs\u001b[0m\u001b[1;33m,\u001b[0m \u001b[1;33m**\u001b[0m\u001b[0mkwargs\u001b[0m\u001b[1;33m)\u001b[0m\u001b[1;33m\u001b[0m\u001b[0m\n\u001b[0m\u001b[0;32m    107\u001b[0m \u001b[1;33m\u001b[0m\u001b[0m\n\u001b[0;32m    108\u001b[0m     \u001b[0mdoc\u001b[0m \u001b[1;33m=\u001b[0m \u001b[0mfunc\u001b[0m\u001b[1;33m.\u001b[0m\u001b[0m__doc__\u001b[0m \u001b[1;32mis\u001b[0m \u001b[1;32mnot\u001b[0m \u001b[1;32mNone\u001b[0m \u001b[1;32mand\u001b[0m \u001b[0mfunc\u001b[0m\u001b[1;33m.\u001b[0m\u001b[0m__doc__\u001b[0m \u001b[1;32mor\u001b[0m \u001b[1;34m''\u001b[0m\u001b[1;33m\u001b[0m\u001b[0m\n",
      "\u001b[1;32m~\\Anaconda3\\lib\\site-packages\\sqlalchemy\\engine\\interfaces.py\u001b[0m in \u001b[0;36mcreate\u001b[1;34m(self, entity, **kwargs)\u001b[0m\n\u001b[0;32m   1119\u001b[0m         \"\"\"\n\u001b[0;32m   1120\u001b[0m \u001b[1;33m\u001b[0m\u001b[0m\n\u001b[1;32m-> 1121\u001b[1;33m         \u001b[1;32mraise\u001b[0m \u001b[0mNotImplementedError\u001b[0m\u001b[1;33m(\u001b[0m\u001b[1;33m)\u001b[0m\u001b[1;33m\u001b[0m\u001b[0m\n\u001b[0m\u001b[0;32m   1122\u001b[0m \u001b[1;33m\u001b[0m\u001b[0m\n\u001b[0;32m   1123\u001b[0m     @util.deprecated(\"0.7\",\n",
      "\u001b[1;31mNotImplementedError\u001b[0m: "
     ]
    }
   ],
   "source": [
    "#Import sqlalchemy \n",
    "from sqlalchemy import create_engine\n",
    "import pandas as pd\n",
    "engine=engine.create('sqlite///Chinook.sqlite')\n",
    "con=engine.connect()\n",
    "rs=con.execute('SELECT * FROM Album')\n",
    "df=pd.DataFrame(rs.fetchall())\n",
    "con.close()"
   ]
  },
  {
   "cell_type": "code",
   "execution_count": 1,
   "metadata": {},
   "outputs": [
    {
     "name": "stdout",
     "output_type": "stream",
     "text": [
      "   EmployeeId  LastName FirstName       Title  ReportsTo            BirthDate  \\\n",
      "0           8  Callahan     Laura    IT Staff          6  1968-01-09 00:00:00   \n",
      "1           7      King    Robert    IT Staff          6  1970-05-29 00:00:00   \n",
      "2           6  Mitchell   Michael  IT Manager          1  1973-07-01 00:00:00   \n",
      "\n",
      "              HireDate                      Address        City State Country  \\\n",
      "0  2004-03-04 00:00:00                  923 7 ST NW  Lethbridge    AB  Canada   \n",
      "1  2004-01-02 00:00:00  590 Columbia Boulevard West  Lethbridge    AB  Canada   \n",
      "2  2003-10-17 00:00:00         5827 Bowness Road NW     Calgary    AB  Canada   \n",
      "\n",
      "  PostalCode              Phone                Fax                    Email  \n",
      "0    T1H 1Y8  +1 (403) 467-3351  +1 (403) 467-8772    laura@chinookcorp.com  \n",
      "1    T1K 5N8  +1 (403) 456-9986  +1 (403) 456-8485   robert@chinookcorp.com  \n",
      "2    T3B 0C5  +1 (403) 246-9887  +1 (403) 246-9899  michael@chinookcorp.com  \n"
     ]
    }
   ],
   "source": [
    "# Import packages\n",
    "from sqlalchemy import create_engine\n",
    "import pandas as pd\n",
    "\n",
    "# Create engine: engine\n",
    "engine = create_engine('sqlite:///Chinook.sqlite')\n",
    "\n",
    "# Execute query and store records in DataFrame: df\n",
    "df = pd.read_sql_query(\n",
    "    \"SELECT * FROM Employee WHERE EmployeeId >= 6 ORDER BY BirthDate\",\n",
    "    engine\n",
    ")\n",
    "\n",
    "# Print head of DataFrame\n",
    "print(df.head())\n"
   ]
  },
  {
   "cell_type": "code",
   "execution_count": 5,
   "metadata": {},
   "outputs": [
    {
     "name": "stdout",
     "output_type": "stream",
     "text": [
      "                                   Title       Name\n",
      "0  For Those About To Rock We Salute You      AC/DC\n",
      "1                      Balls to the Wall     Accept\n",
      "2                      Restless and Wild     Accept\n",
      "3                      Let There Be Rock      AC/DC\n",
      "4                               Big Ones  Aerosmith\n"
     ]
    }
   ],
   "source": [
    "import pandas as pd\n",
    "from sqlalchemy import create_engine\n",
    "engine = create_engine('sqlite:///Chinook.sqlite')\n",
    "with engine.connect() as con:\n",
    "    rs = con.execute(\"SELECT Title, Name FROM Album INNER JOIN Artist on Album.ArtistID = Artist.ArtistID\")\n",
    "    df = pd.DataFrame(rs.fetchall())\n",
    "    df.columns = rs.keys()\n",
    "\n",
    "# Print head of DataFrame df\n",
    "print(df.head())"
   ]
  },
  {
   "cell_type": "code",
   "execution_count": 6,
   "metadata": {
    "scrolled": true
   },
   "outputs": [
    {
     "name": "stdout",
     "output_type": "stream",
     "text": [
      "   PlaylistId  TrackId  TrackId              Name  AlbumId  MediaTypeId  \\\n",
      "0           1     3390     3390  One and the Same      271            2   \n",
      "1           1     3392     3392     Until We Fall      271            2   \n",
      "2           1     3393     3393     Original Fire      271            2   \n",
      "3           1     3394     3394       Broken City      271            2   \n",
      "4           1     3395     3395          Somedays      271            2   \n",
      "\n",
      "   GenreId Composer  Milliseconds    Bytes  UnitPrice  \n",
      "0       23     None        217732  3559040       0.99  \n",
      "1       23     None        230758  3766605       0.99  \n",
      "2       23     None        218916  3577821       0.99  \n",
      "3       23     None        228366  3728955       0.99  \n",
      "4       23     None        213831  3497176       0.99  \n"
     ]
    }
   ],
   "source": [
    "# Execute query and store records in DataFrame: df\n",
    "df = pd.read_sql_query(\n",
    "    \"SELECT * FROM PlaylistTrack INNER JOIN Track on PlaylistTrack.TrackId = Track.TrackId WHERE Milliseconds < 250000\",\n",
    "    engine\n",
    ")\n",
    "\n",
    "# Print head of DataFrame\n",
    "print(df.head())"
   ]
  },
  {
   "cell_type": "code",
   "execution_count": null,
   "metadata": {
    "collapsed": true
   },
   "outputs": [],
   "source": [
    "#This method gets me to save then file locally on my desktop"
   ]
  },
  {
   "cell_type": "code",
   "execution_count": 7,
   "metadata": {
    "scrolled": true
   },
   "outputs": [
    {
     "name": "stdout",
     "output_type": "stream",
     "text": [
      "   fixed acidity  volatile acidity  citric acid  residual sugar  chlorides  \\\n",
      "0            7.4              0.70         0.00             1.9      0.076   \n",
      "1            7.8              0.88         0.00             2.6      0.098   \n",
      "2            7.8              0.76         0.04             2.3      0.092   \n",
      "3           11.2              0.28         0.56             1.9      0.075   \n",
      "4            7.4              0.70         0.00             1.9      0.076   \n",
      "\n",
      "   free sulfur dioxide  total sulfur dioxide  density    pH  sulphates  \\\n",
      "0                 11.0                  34.0   0.9978  3.51       0.56   \n",
      "1                 25.0                  67.0   0.9968  3.20       0.68   \n",
      "2                 15.0                  54.0   0.9970  3.26       0.65   \n",
      "3                 17.0                  60.0   0.9980  3.16       0.58   \n",
      "4                 11.0                  34.0   0.9978  3.51       0.56   \n",
      "\n",
      "   alcohol  quality  \n",
      "0      9.4        5  \n",
      "1      9.8        5  \n",
      "2      9.8        5  \n",
      "3      9.8        6  \n",
      "4      9.4        5  \n"
     ]
    }
   ],
   "source": [
    "# Import package\n",
    "from urllib.request import urlretrieve\n",
    "\n",
    "# Import pandas\n",
    "import pandas as pd\n",
    "\n",
    "# Assign url of file: url\n",
    "url='https://s3.amazonaws.com/assets.datacamp.com/production/course_1606/datasets/winequality-red.csv'\n",
    "\n",
    "# Save file locally\n",
    "urlretrieve(url , 'winequality-red.csv')\n",
    "\n",
    "# Read file into a DataFrame and print its head\n",
    "df = pd.read_csv('winequality-red.csv', sep=';')\n",
    "print(df.head())\n"
   ]
  },
  {
   "cell_type": "code",
   "execution_count": 10,
   "metadata": {
    "collapsed": true
   },
   "outputs": [],
   "source": [
    "# this method allows me to get the data from the web without downloading the data"
   ]
  },
  {
   "cell_type": "code",
   "execution_count": 11,
   "metadata": {},
   "outputs": [
    {
     "name": "stdout",
     "output_type": "stream",
     "text": [
      "   fixed acidity  volatile acidity  citric acid  residual sugar  chlorides  \\\n",
      "0            7.4              0.70         0.00             1.9      0.076   \n",
      "1            7.8              0.88         0.00             2.6      0.098   \n",
      "2            7.8              0.76         0.04             2.3      0.092   \n",
      "3           11.2              0.28         0.56             1.9      0.075   \n",
      "4            7.4              0.70         0.00             1.9      0.076   \n",
      "\n",
      "   free sulfur dioxide  total sulfur dioxide  density    pH  sulphates  \\\n",
      "0                 11.0                  34.0   0.9978  3.51       0.56   \n",
      "1                 25.0                  67.0   0.9968  3.20       0.68   \n",
      "2                 15.0                  54.0   0.9970  3.26       0.65   \n",
      "3                 17.0                  60.0   0.9980  3.16       0.58   \n",
      "4                 11.0                  34.0   0.9978  3.51       0.56   \n",
      "\n",
      "   alcohol  quality  \n",
      "0      9.4        5  \n",
      "1      9.8        5  \n",
      "2      9.8        5  \n",
      "3      9.8        6  \n",
      "4      9.4        5  \n"
     ]
    },
    {
     "data": {
      "image/png": "[encoded data removed]",
      "text/plain": [
       "<matplotlib.figure.Figure at 0x1f486391ac8>"
      ]
     },
     "metadata": {},
     "output_type": "display_data"
    }
   ],
   "source": [
    "# Import packages\n",
    "import matplotlib.pyplot as plt\n",
    "import pandas as pd\n",
    "\n",
    "# Assign url of file: url\n",
    "url='https://s3.amazonaws.com/assets.datacamp.com/production/course_1606/datasets/winequality-red.csv'\n",
    "\n",
    "# Read file into a DataFrame: df\n",
    "df=pd.read_csv(url ,sep=';')\n",
    "\n",
    "# Print the head of the DataFrame\n",
    "print(df.head())\n",
    "\n",
    "# Plot first column of df\n",
    "pd.DataFrame.hist(df.iloc[:, 0:1])\n",
    "plt.xlabel('fixed acidity (g(tartaric acid)/dm$^3$)')\n",
    "plt.ylabel('count')\n",
    "plt.show()"
   ]
  },
  {
   "cell_type": "code",
   "execution_count": 12,
   "metadata": {},
   "outputs": [
    {
     "name": "stdout",
     "output_type": "stream",
     "text": [
      "odict_keys(['1700', '1900'])\n",
      "                 country       1700\n",
      "0            Afghanistan  34.565000\n",
      "1  Akrotiri and Dhekelia  34.616667\n",
      "2                Albania  41.312000\n",
      "3                Algeria  36.720000\n",
      "4         American Samoa -14.307000\n"
     ]
    }
   ],
   "source": [
    "# Import package\n",
    "import pandas as pd\n",
    "\n",
    "# Assign url of file: url\n",
    "url='http://s3.amazonaws.com/assets.datacamp.com/course/importing_data_into_r/latitude.xls'\n",
    "\n",
    "# Read in all sheets of Excel file: xl\n",
    "xl=pd.read_excel(url , sheetname= None)\n",
    "\n",
    "# Print the sheetnames to the shell\n",
    "print(xl.keys())\n",
    "\n",
    "# Print the head of the first sheet (using its name, NOT its index)\n",
    "print(xl['1700'].head())\n"
   ]
  },
  {
   "cell_type": "code",
   "execution_count": 13,
   "metadata": {},
   "outputs": [
    {
     "name": "stdout",
     "output_type": "stream",
     "text": [
      "<class 'http.client.HTTPResponse'>\n"
     ]
    }
   ],
   "source": [
    "# Import packages\n",
    "from urllib.request import urlopen, Request\n",
    "\n",
    "# Specify the url\n",
    "url = \"http://www.datacamp.com/teach/documentation\"\n",
    "\n",
    "# This packages the request: request\n",
    "request=Request(url)\n",
    "\n",
    "\n",
    "# Sends the request and catches the response: response\n",
    "response=urlopen(request)\n",
    "\n",
    "# Print the datatype of response\n",
    "print(type(response))\n",
    "\n",
    "# Be polite and close the response!\n",
    "response.close()\n"
   ]
  },
  {
   "cell_type": "code",
   "execution_count": 14,
   "metadata": {},
   "outputs": [
    {
     "name": "stdout",
     "output_type": "stream",
     "text": [
      "b'\\n<!DOCTYPE HTML>\\n<html lang=\"\" >\\n    <head>\\n        <meta charset=\"UTF-8\">\\n        <meta content=\"text/html; charset=utf-8\" http-equiv=\"Content-Type\">\\n        <title>Welcome \\xc2\\xb7 Authoring Content for DataCamp</title>\\n        <meta http-equiv=\"X-UA-Compatible\" content=\"IE=edge\" />\\n        <meta name=\"description\" content=\"\">\\n        <meta name=\"generator\" content=\"GitBook 3.2.3\">\\n        \\n        \\n        \\n    \\n    <link rel=\"stylesheet\" href=\"gitbook/style.css\">\\n\\n    \\n            \\n                \\n                <link rel=\"stylesheet\" href=\"gitbook/gitbook-plugin-bootstrap-callout/plugin.css\">\\n                \\n            \\n                \\n                <link rel=\"stylesheet\" href=\"gitbook/gitbook-plugin-expandable-chapters/expandable-chapters.css\">\\n                \\n            \\n                \\n                <link rel=\"stylesheet\" href=\"gitbook/gitbook-plugin-advanced-emoji/emoji-website.css\">\\n                \\n            \\n                \\n                <link rel=\"stylesheet\" href=\"gitbook/gitbook-plugin-codetabs/codetabs.css\">\\n                \\n            \\n                \\n                <link rel=\"stylesheet\" href=\"gitbook/gitbook-plugin-highlight/website.css\">\\n                \\n            \\n                \\n                <link rel=\"stylesheet\" href=\"gitbook/gitbook-plugin-search/search.css\">\\n                \\n            \\n                \\n                <link rel=\"stylesheet\" href=\"gitbook/gitbook-plugin-fontsettings/website.css\">\\n                \\n            \\n        \\n\\n    \\n\\n    \\n        \\n    \\n        \\n    \\n        \\n    \\n        \\n    \\n        \\n    \\n        \\n    \\n\\n        \\n    \\n    \\n    <meta name=\"HandheldFriendly\" content=\"true\"/>\\n    <meta name=\"viewport\" content=\"width=device-width, initial-scale=1, user-scalable=no\">\\n    <meta name=\"apple-mobile-web-app-capable\" content=\"yes\">\\n    <meta name=\"apple-mobile-web-app-status-bar-style\" content=\"black\">\\n    <link rel=\"apple-touch-icon-precomposed\" sizes=\"152x152\" href=\"gitbook/images/apple-touch-icon-precomposed-152.png\">\\n    <link rel=\"shortcut icon\" href=\"gitbook/images/favicon.ico\" type=\"image/x-icon\">\\n\\n    \\n    <link rel=\"next\" href=\"welcome/getting-started.html\" />\\n    \\n    \\n\\n    </head>\\n    <body>\\n        \\n<div class=\"book\">\\n    <div class=\"book-summary\">\\n        \\n            \\n<div id=\"book-search-input\" role=\"search\">\\n    <input type=\"text\" placeholder=\"Type to search\" />\\n</div>\\n\\n            \\n                <nav role=\"navigation\">\\n                \\n\\n\\n<ul class=\"summary\">\\n    \\n    \\n\\n    \\n\\n    \\n        \\n        <li class=\"header\">Introduction</li>\\n        \\n        \\n    \\n        <li class=\"chapter active\" data-level=\"1.1\" data-path=\"./\">\\n            \\n                <a href=\"./\">\\n            \\n                    \\n                    Welcome\\n            \\n                </a>\\n            \\n\\n            \\n        </li>\\n    \\n        <li class=\"chapter \" data-level=\"1.2\" data-path=\"welcome/getting-started.html\">\\n            \\n                <a href=\"welcome/getting-started.html\">\\n            \\n                    \\n                    Getting started\\n            \\n                </a>\\n            \\n\\n            \\n        </li>\\n    \\n\\n    \\n        \\n        <li class=\"header\">Creating content</li>\\n        \\n        \\n    \\n        <li class=\"chapter \" data-level=\"2.1\" data-path=\"courses/\">\\n            \\n                <a href=\"courses/\">\\n            \\n                    \\n                    Courses\\n            \\n                </a>\\n            \\n\\n            \\n            <ul class=\"articles\">\\n                \\n    \\n        <li class=\"chapter \" data-level=\"2.1.1\" data-path=\"courses/repo-structure.html\">\\n            \\n                <a href=\"courses/repo-structure.html\">\\n            \\n                    \\n                    Repo Structure\\n            \\n                </a>\\n            \\n\\n            \\n        </li>\\n    \\n        <li class=\"chapter \" data-level=\"2.1.2\" data-path=\"courses/exercises/\">\\n            \\n                <a href=\"courses/exercises/\">\\n            \\n                    \\n                    Exercises\\n            \\n                </a>\\n            \\n\\n            \\n            <ul class=\"articles\">\\n                \\n    \\n        <li class=\"chapter \" data-level=\"2.1.2.1\" data-path=\"courses/exercises/video-exercise.html\">\\n            \\n                <a href=\"courses/exercises/video-exercise.html\">\\n            \\n                    \\n                    Video Exercise\\n            \\n                </a>\\n            \\n\\n            \\n        </li>\\n    \\n        <li class=\"chapter \" data-level=\"2.1.2.2\" data-path=\"courses/exercises/normal-exercise.html\">\\n            \\n                <a href=\"courses/exercises/normal-exercise.html\">\\n            \\n                    \\n                    Normal Exercise\\n            \\n                </a>\\n            \\n\\n            \\n        </li>\\n    \\n        <li class=\"chapter \" data-level=\"2.1.2.3\" data-path=\"courses/exercises/multiple-choice-exercise.html\">\\n            \\n                <a href=\"courses/exercises/multiple-choice-exercise.html\">\\n            \\n                    \\n                    Multiple Choice Exercise\\n            \\n                </a>\\n            \\n\\n            \\n        </li>\\n    \\n        <li class=\"chapter \" data-level=\"2.1.2.4\" data-path=\"courses/exercises/tab-exercise.html\">\\n            \\n                <a href=\"courses/exercises/tab-exercise.html\">\\n            \\n                    \\n                    Tab Exercise\\n            \\n                </a>\\n            \\n\\n            \\n            <ul class=\"articles\">\\n                \\n    \\n        <li class=\"chapter \" data-level=\"2.1.2.4.1\" data-path=\"courses/exercises/examples/md/sql/TabExercise.html\">\\n            \\n                <a href=\"courses/exercises/examples/md/sql/TabExercise.html\">\\n            \\n                    \\n                    SQL Example\\n            \\n                </a>\\n            \\n\\n            \\n        </li>\\n    \\n        <li class=\"chapter \" data-level=\"2.1.2.4.2\" data-path=\"courses/exercises/examples/md/r/TabExercise.html\">\\n            \\n                <a href=\"courses/exercises/examples/md/r/TabExercise.html\">\\n            \\n                    \\n                    R Example\\n            \\n                </a>\\n            \\n\\n            \\n        </li>\\n    \\n        <li class=\"chapter \" data-level=\"2.1.2.4.3\" data-path=\"courses/exercises/examples/md/python/TabExercise.html\">\\n            \\n                <a href=\"courses/exercises/examples/md/python/TabExercise.html\">\\n            \\n                    \\n                    Python Example\\n            \\n                </a>\\n            \\n\\n            \\n        </li>\\n    \\n\\n            </ul>\\n            \\n        </li>\\n    \\n        <li class=\"chapter \" data-level=\"2.1.2.5\" data-path=\"courses/exercises/bullet-exercise.html\">\\n            \\n                <a href=\"courses/exercises/bullet-exercise.html\">\\n            \\n                    \\n                    Bullet Exercise\\n            \\n                </a>\\n            \\n\\n            \\n            <ul class=\"articles\">\\n                \\n    \\n        <li class=\"chapter \" data-level=\"2.1.2.5.1\" data-path=\"courses/exercises/examples/md/sql/BulletExercise.html\">\\n            \\n                <a href=\"courses/exercises/examples/md/sql/BulletExercise.html\">\\n            \\n                    \\n                    SQL Example\\n            \\n                </a>\\n            \\n\\n            \\n        </li>\\n    \\n        <li class=\"chapter \" data-level=\"2.1.2.5.2\" data-path=\"courses/exercises/examples/md/r/BulletExercise.html\">\\n            \\n                <a href=\"courses/exercises/examples/md/r/BulletExercise.html\">\\n            \\n                    \\n                    R Example\\n            \\n                </a>\\n            \\n\\n            \\n        </li>\\n    \\n        <li class=\"chapter \" data-level=\"2.1.2.5.3\" data-path=\"courses/exercises/examples/md/python/BulletExercise.html\">\\n            \\n                <a href=\"courses/exercises/examples/md/python/BulletExercise.html\">\\n            \\n                    \\n                    Python Example\\n            \\n                </a>\\n            \\n\\n            \\n        </li>\\n    \\n\\n            </ul>\\n            \\n        </li>\\n    \\n\\n            </ul>\\n            \\n        </li>\\n    \\n        <li class=\"chapter \" data-level=\"2.1.3\" data-path=\"courses/guidelines.html\">\\n            \\n                <a href=\"courses/guidelines.html\">\\n            \\n                    \\n                    Guidelines\\n            \\n                </a>\\n            \\n\\n            \\n        </li>\\n    \\n        <li class=\"chapter \" data-level=\"2.1.4\" data-path=\"courses/xp.html\">\\n            \\n                <a href=\"courses/xp.html\">\\n            \\n                    \\n                    XP\\n            \\n                </a>\\n            \\n\\n            \\n        </li>\\n    \\n        <li class=\"chapter \" data-level=\"2.1.5\" data-path=\"courses/assets.html\">\\n            \\n                <a href=\"courses/assets.html\">\\n            \\n                    \\n                    Assets\\n            \\n                </a>\\n            \\n\\n            \\n        </li>\\n    \\n        <li class=\"chapter \" data-level=\"2.1.6\" data-path=\"courses/slides.html\">\\n            \\n                <a href=\"courses/slides.html\">\\n            \\n                    \\n                    Slides\\n            \\n                </a>\\n            \\n\\n            \\n        </li>\\n    \\n        <li class=\"chapter \" data-level=\"2.1.7\" data-path=\"courses/guides/\">\\n            \\n                <a href=\"courses/guides/\">\\n            \\n                    \\n                    Guides\\n            \\n                </a>\\n            \\n\\n            \\n            <ul class=\"articles\">\\n                \\n    \\n        <li class=\"chapter \" data-level=\"2.1.7.1\" data-path=\"courses/guides/exports.html\">\\n            \\n                <a href=\"courses/guides/exports.html\">\\n            \\n                    \\n                    Exports\\n            \\n                </a>\\n            \\n\\n            \\n        </li>\\n    \\n        <li class=\"chapter \" data-level=\"2.1.7.2\" data-path=\"courses/guides/unified-authoring-api.html\">\\n            \\n                <a href=\"courses/guides/unified-authoring-api.html\">\\n            \\n                    \\n                    Unified Authoring API\\n            \\n                </a>\\n            \\n\\n            \\n        </li>\\n    \\n        <li class=\"chapter \" data-level=\"2.1.7.3\" data-path=\"courses/guides/tab-vs-bullet-exercises.html\">\\n            \\n                <a href=\"courses/guides/tab-vs-bullet-exercises.html\">\\n            \\n                    \\n                    Tab vs. Bullet Exercises\\n            \\n                </a>\\n            \\n\\n            \\n        </li>\\n    \\n\\n            </ul>\\n            \\n        </li>\\n    \\n        <li class=\"chapter \" data-level=\"2.1.8\" data-path=\"courses/design/\">\\n            \\n                <a href=\"courses/design/\">\\n            \\n                    \\n                    Design\\n            \\n                </a>\\n            \\n\\n            \\n            <ul class=\"articles\">\\n                \\n    \\n        <li class=\"chapter \" data-level=\"2.1.8.1\" data-path=\"courses/design/template.html\">\\n            \\n                <a href=\"courses/design/template.html\">\\n            \\n                    \\n                    Design template\\n            \\n                </a>\\n            \\n\\n            \\n        </li>\\n    \\n        <li class=\"chapter \" data-level=\"2.1.8.2\" data-path=\"courses/design/personas.html\">\\n            \\n                <a href=\"courses/design/personas.html\">\\n            \\n                    \\n                    Learner personas\\n            \\n                </a>\\n            \\n\\n            \\n        </li>\\n    \\n\\n            </ul>\\n            \\n        </li>\\n    \\n        <li class=\"chapter \" data-level=\"2.1.9\" data-path=\"faq/\">\\n            \\n                <a href=\"faq/\">\\n            \\n                    \\n                    FAQ\\n            \\n                </a>\\n            \\n\\n            \\n        </li>\\n    \\n\\n            </ul>\\n            \\n        </li>\\n    \\n        <li class=\"chapter \" data-level=\"2.2\" data-path=\"challenges/\">\\n            \\n                <a href=\"challenges/\">\\n            \\n                    \\n                    Challenges\\n            \\n                </a>\\n            \\n\\n            \\n            <ul class=\"articles\">\\n                \\n    \\n        <li class=\"chapter \" data-level=\"2.2.1\" data-path=\"challenges/repo-structure.html\">\\n            \\n                <a href=\"challenges/repo-structure.html\">\\n            \\n                    \\n                    Repo Structure\\n            \\n                </a>\\n            \\n\\n            \\n        </li>\\n    \\n        <li class=\"chapter \" data-level=\"2.2.2\" data-path=\"challenges/content/\">\\n            \\n                <a href=\"challenges/content/\">\\n            \\n                    \\n                    Content\\n            \\n                </a>\\n            \\n\\n            \\n            <ul class=\"articles\">\\n                \\n    \\n        <li class=\"chapter \" data-level=\"2.2.2.1\" data-path=\"challenges/content/output-challenge.html\">\\n            \\n                <a href=\"challenges/content/output-challenge.html\">\\n            \\n                    \\n                    Output Challenge\\n            \\n                </a>\\n            \\n\\n            \\n        </li>\\n    \\n        <li class=\"chapter \" data-level=\"2.2.2.2\" data-path=\"challenges/content/multiple-choice-challenge.html\">\\n            \\n                <a href=\"challenges/content/multiple-choice-challenge.html\">\\n            \\n                    \\n                    Multiple Choice Challenge\\n            \\n                </a>\\n            \\n\\n            \\n        </li>\\n    \\n        <li class=\"chapter \" data-level=\"2.2.2.3\" data-path=\"challenges/content/blanks-challenge.html\">\\n            \\n                <a href=\"challenges/content/blanks-challenge.html\">\\n            \\n                    \\n                    Blanks Challenge\\n            \\n                </a>\\n            \\n\\n            \\n        </li>\\n    \\n\\n            </ul>\\n            \\n        </li>\\n    \\n        <li class=\"chapter \" data-level=\"2.2.3\" data-path=\"challenges/guidelines.html\">\\n            \\n                <a href=\"challenges/guidelines.html\">\\n            \\n                    \\n                    Guidelines\\n            \\n                </a>\\n            \\n\\n            \\n        </li>\\n    \\n        <li class=\"chapter \" data-level=\"2.2.4\" data-path=\"challenges/review-mode.html\">\\n            \\n                <a href=\"challenges/review-mode.html\">\\n            \\n                    \\n                    Review Mode\\n            \\n                </a>\\n            \\n\\n            \\n        </li>\\n    \\n\\n            </ul>\\n            \\n        </li>\\n    \\n        <li class=\"chapter \" data-level=\"2.3\" data-path=\"projects/\">\\n            \\n                <a href=\"projects/\">\\n            \\n                    \\n                    Projects\\n            \\n                </a>\\n            \\n\\n            \\n            <ul class=\"articles\">\\n                \\n    \\n        <li class=\"chapter \" data-level=\"2.3.1\" data-path=\"projects/projects-process.html\">\\n            \\n                <a href=\"projects/projects-process.html\">\\n            \\n                    \\n                    Project Creation Process\\n            \\n                </a>\\n            \\n\\n            \\n        </li>\\n    \\n        <li class=\"chapter \" data-level=\"2.3.2\" data-path=\"projects/projects-format.html\">\\n            \\n                <a href=\"projects/projects-format.html\">\\n            \\n                    \\n                    Project notebook format\\n            \\n                </a>\\n            \\n\\n            \\n            <ul class=\"articles\">\\n                \\n    \\n        <li class=\"chapter \" data-level=\"2.3.2.1\" data-path=\"projects/projects-format.html\">\\n            \\n                <a href=\"projects/projects-format.html#overview\">\\n            \\n                    \\n                    Overview\\n            \\n                </a>\\n            \\n\\n            \\n        </li>\\n    \\n        <li class=\"chapter \" data-level=\"2.3.2.2\" data-path=\"projects/projects-format.html\">\\n            \\n                <a href=\"projects/projects-format.html#notebooktask\">\\n            \\n                    \\n                    type:NotebookTask\\n            \\n                </a>\\n            \\n\\n            \\n        </li>\\n    \\n        <li class=\"chapter \" data-level=\"2.3.2.3\" data-path=\"projects/projects-format.html\">\\n            \\n                <a href=\"projects/projects-format.html#context\">\\n            \\n                    \\n                    @context\\n            \\n                </a>\\n            \\n\\n            \\n        </li>\\n    \\n        <li class=\"chapter \" data-level=\"2.3.2.4\" data-path=\"projects/projects-format.html\">\\n            \\n                <a href=\"projects/projects-format.html#instructions\">\\n            \\n                    \\n                    @instructions\\n            \\n                </a>\\n            \\n\\n            \\n        </li>\\n    \\n        <li class=\"chapter \" data-level=\"2.3.2.5\" data-path=\"projects/projects-format.html\">\\n            \\n                <a href=\"projects/projects-format.html#hint\">\\n            \\n                    \\n                    @hint\\n            \\n                </a>\\n            \\n\\n            \\n        </li>\\n    \\n        <li class=\"chapter \" data-level=\"2.3.2.6\" data-path=\"projects/projects-format.html\">\\n            \\n                <a href=\"projects/projects-format.html#sample-code\">\\n            \\n                    \\n                    @sample_code\\n            \\n                </a>\\n            \\n\\n            \\n        </li>\\n    \\n        <li class=\"chapter \" data-level=\"2.3.2.7\" data-path=\"projects/projects-format.html\">\\n            \\n                <a href=\"projects/projects-format.html#solution\">\\n            \\n                    \\n                    @solution\\n            \\n                </a>\\n            \\n\\n            \\n        </li>\\n    \\n        <li class=\"chapter \" data-level=\"2.3.2.8\" data-path=\"projects/projects-format.html\">\\n            \\n                <a href=\"projects/projects-format.html#tests\">\\n            \\n                    \\n                    @tests\\n            \\n                </a>\\n            \\n\\n            \\n        </li>\\n    \\n        <li class=\"chapter \" data-level=\"2.3.2.9\" data-path=\"projects/projects-test-examples.html\">\\n            \\n                <a href=\"projects/projects-test-examples.html\">\\n            \\n                    \\n                    Test examples\\n            \\n                </a>\\n            \\n\\n            \\n        </li>\\n    \\n\\n            </ul>\\n            \\n        </li>\\n    \\n        <li class=\"chapter \" data-level=\"2.3.3\" data-path=\"projects/projects-repo-structure.html\">\\n            \\n                <a href=\"projects/projects-repo-structure.html\">\\n            \\n                    \\n                    Project File Structure\\n            \\n                </a>\\n            \\n\\n            \\n        </li>\\n    \\n\\n            </ul>\\n            \\n        </li>\\n    \\n\\n    \\n        \\n        <li class=\"header\">Teach interface</li>\\n        \\n        \\n    \\n        <li class=\"chapter \" data-level=\"3.1\" data-path=\"interface/dashboard.html\">\\n            \\n                <a href=\"interface/dashboard.html\">\\n            \\n                    \\n                    Teach Dashboard\\n            \\n                </a>\\n            \\n\\n            \\n            <ul class=\"articles\">\\n                \\n    \\n        <li class=\"chapter \" data-level=\"3.1.1\" data-path=\"interface/create-content-dialog.html\">\\n            \\n                <a href=\"interface/create-content-dialog.html\">\\n            \\n                    \\n                    Create content dialog\\n            \\n                </a>\\n            \\n\\n            \\n        </li>\\n    \\n        <li class=\"chapter \" data-level=\"3.1.2\" data-path=\"interface/content-overview.html\">\\n            \\n                <a href=\"interface/content-overview.html\">\\n            \\n                    \\n                    Content overview\\n            \\n                </a>\\n            \\n\\n            \\n        </li>\\n    \\n\\n            </ul>\\n            \\n        </li>\\n    \\n        <li class=\"chapter \" data-level=\"3.2\" data-path=\"interface/teach-editor.html\">\\n            \\n                <a href=\"interface/teach-editor.html\">\\n            \\n                    \\n                    Teach Editor\\n            \\n                </a>\\n            \\n\\n            \\n        </li>\\n    \\n\\n    \\n        \\n        <li class=\"header\">Premium courses</li>\\n        \\n        \\n    \\n        <li class=\"chapter \" data-level=\"4.1\" data-path=\"premium-courses/premium-course-process.html\">\\n            \\n                <a href=\"premium-courses/premium-course-process.html\">\\n            \\n                    \\n                    Development process\\n            \\n                </a>\\n            \\n\\n            \\n            <ul class=\"articles\">\\n                \\n    \\n        <li class=\"chapter \" data-level=\"4.1.1\" data-path=\"premium-courses/premium-course-process.html\">\\n            \\n                <a href=\"premium-courses/premium-course-process.html#course-specs\">\\n            \\n                    \\n                    1. Course specs\\n            \\n                </a>\\n            \\n\\n            \\n        </li>\\n    \\n        <li class=\"chapter \" data-level=\"4.1.2\" data-path=\"premium-courses/premium-course-process.html\">\\n            \\n                <a href=\"premium-courses/premium-course-process.html#exercises\">\\n            \\n                    \\n                    2. Exercises\\n            \\n                </a>\\n            \\n\\n            \\n        </li>\\n    \\n        <li class=\"chapter \" data-level=\"4.1.3\" data-path=\"premium-courses/premium-course-process.html\">\\n            \\n                <a href=\"premium-courses/premium-course-process.html#slides-scripts\">\\n            \\n                    \\n                    3. Slides and scripts\\n            \\n                </a>\\n            \\n\\n            \\n        </li>\\n    \\n        <li class=\"chapter \" data-level=\"4.1.4\" data-path=\"premium-courses/premium-course-process.html\">\\n            \\n                <a href=\"premium-courses/premium-course-process.html#screencasts\">\\n            \\n                    \\n                    4. Screencasts\\n            \\n                </a>\\n            \\n\\n            \\n        </li>\\n    \\n        <li class=\"chapter \" data-level=\"4.1.5\" data-path=\"premium-courses/premium-course-process.html\">\\n            \\n                <a href=\"premium-courses/premium-course-process.html#videos\">\\n            \\n                    \\n                    5. Videos\\n            \\n                </a>\\n            \\n\\n            \\n        </li>\\n    \\n        <li class=\"chapter \" data-level=\"4.1.6\" data-path=\"premium-courses/premium-course-process.html\">\\n            \\n                <a href=\"premium-courses/premium-course-process.html#review-release\">\\n            \\n                    \\n                    6. Review and release\\n            \\n                </a>\\n            \\n\\n            \\n        </li>\\n    \\n        <li class=\"chapter \" data-level=\"4.1.7\" data-path=\"premium-courses/premium-course-process.html\">\\n            \\n                <a href=\"premium-courses/premium-course-process.html#monitor-maintain\">\\n            \\n                    \\n                    7. Monitor and maintain\\n            \\n                </a>\\n            \\n\\n            \\n        </li>\\n    \\n\\n            </ul>\\n            \\n        </li>\\n    \\n        <li class=\"chapter \" data-level=\"4.2\" data-path=\"premium-courses/premium-course-structure.html\">\\n            \\n                <a href=\"premium-courses/premium-course-structure.html\">\\n            \\n                    \\n                    Course structure\\n            \\n                </a>\\n            \\n\\n            \\n        </li>\\n    \\n\\n    \\n\\n    <li class=\"divider\"></li>\\n\\n    <li>\\n        <a href=\"https://www.gitbook.com\" target=\"blank\" class=\"gitbook-link\">\\n            Published with GitBook\\n        </a>\\n    </li>\\n</ul>\\n\\n\\n                </nav>\\n            \\n        \\n    </div>\\n\\n    <div class=\"book-body\">\\n        \\n            <div class=\"body-inner\">\\n                \\n                    \\n\\n<div class=\"book-header\" role=\"navigation\">\\n    \\n\\n    <!-- Title -->\\n    <h1>\\n        <i class=\"fa fa-circle-o-notch fa-spin\"></i>\\n        <a href=\".\" >Welcome</a>\\n    </h1>\\n</div>\\n\\n\\n\\n\\n                    <div class=\"page-wrapper\" tabindex=\"-1\" role=\"main\">\\n                        <div class=\"page-inner\">\\n                            \\n<div id=\"book-search-results\">\\n    <div class=\"search-noresults\">\\n    \\n                                <section class=\"normal markdown-section\">\\n                                \\n                                <h1 id=\"welcome\">Welcome</h1>\\n<p>Anyone can create content for free using our authoring tools, then make that content available to others. This documentation will help you do that by explaining what our various tools do and what content they can be used to create.</p>\\n<p>If you&apos;d like to make your content freely available to the general public via the <a href=\"https://www.datacamp.com/community/\" target=\"_blank\">Community section</a> of our website, you can get started on your content right away and reach out to <a href=\"mailto:support@datacamp.com\" target=\"_blank\">support@datacamp.com</a> when it&apos;s done. </p>\\n<p>If you&apos;re interested in creating premium content on <a href=\"https://www.datacamp.com/\" target=\"_blank\">datacamp.com</a> available only to DataCamp subscribers, you can <a href=\"https://www.datacamp.com/create/\" target=\"_blank\">apply here</a> to be considered. If you are selected to create premium content, we will work closely with you to plan and develop the material so that it fits neatly among our other premium offerings.</p>\\n<h1 id=\"types-of-content\">Types of Content</h1>\\n<p>DataCamp supports several different types of training content, each serving a particular purpose: </p>\\n<ul>\\n<li><em>Courses</em> teach new data science material.</li>\\n<li><em>Challenges</em> allow students to practice what they&apos;ve learned in courses.</li>\\n<li><em>Projects</em> provide an opportunity to apply things in a real-world setting.</li>\\n</ul>\\n<h3 id=\"courses\">Courses</h3>\\n<p>The purpose of a DataCamp course is to teach students something new. For example, our <a href=\"https://www.datacamp.com/courses/intro-to-sql-for-data-science\" target=\"_blank\">Introduction to SQL for Data Science</a> course teaches students the basics of using SQL in a data science context, covering basic <code>SELECT</code> statements, filtering, aggregate functions, etc.</p>\\n<p><a href=\"https://campus.datacamp.com/courses/intro-to-sql-for-data-science/filtering-rows?ex=3\" target=\"_blank\"><img src=\"images/courses/intro-sql.png\" alt=\"Introduction to SQL for Data Science\"></a></p>\\n<p>Ready to create a course? <a href=\"courses/\">Get started now!</a></p>\\n<h3 id=\"challenges\">Challenges</h3>\\n<p>Challenges give students a chance to practice what they&apos;ve learned in courses. For example, our <a href=\"https://challenges.datacamp.com/practice/300\" target=\"_blank\">Pandas Foundations</a> challenges test students&apos; ability to perform basic tasks with the popular Python package introduced in <a href=\"https://www.datacamp.com/courses/pandas-foundations\" target=\"_blank\">our course</a> with the same name.</p>\\n<p><a href=\"https://challenges.datacamp.com/practice/300\" target=\"_blank\"><img src=\"images/challenges/pandas-challenge.png\" alt=\"pandas Foundations\"></a></p>\\n<!-- Ready to create some challenges? [Get started now!](challenges/README.md) -->\\n<div class=\"callout callout-info\"><h4 id=\"note\">Note</h4><div><p>Challenge authoring is only available to invited instructors at the moment, but should be available to everyone in the near future. If you&apos;re interested in creating some, please contact <a href=\"mailto:spencer@datacamp.com\" target=\"_blank\">spencer@datacamp.com</a> for more info!</p><p>In the meantime, you can browse the relevant <a href=\"challenges/\">documentation</a>.</p></div></div>\\n<h3 id=\"projects\">Projects</h3>\\n<p>Projects allow students to apply what they&apos;ve learned in a more open-ended and real-world data science context. For example, our project about <a href=\"https://www.datacamp.com/projects/20\" target=\"_blank\">Dr. Semmelweis and the discovery of handwashing</a> allows students to analyze data on the life-saving impact of handwashing in the 1800s.</p>\\n<p><a href=\"https://projects.datacamp.com/projects/20\" target=\"_blank\"><img src=\"images/projects/handwashing-project.png\" alt=\"Dr. Semmelweis and the discovery of handwashing\"></a></p>\\n<!-- Ready to create a project? **[Get started now!](projects/README.md)** -->\\n<div class=\"callout callout-info\"><h4 id=\"note\">Note</h4><div><p>Project authoring is only available to invited instructors at the moment, but should be available to everyone in the near future. If you&apos;re interested in creating a project, please contact <a href=\"mailto:rasmus@datacamp.com\" target=\"_blank\">rasmus@datacamp.com</a> for more info!</p><p>In the meantime, you can browse the relevant <a href=\"projects/\">documentation</a>.</p></div></div>\\n\\n                                \\n                                </section>\\n                            \\n    </div>\\n    <div class=\"search-results\">\\n        <div class=\"has-results\">\\n            \\n            <h1 class=\"search-results-title\"><span class=\\'search-results-count\\'></span> results matching \"<span class=\\'search-query\\'></span>\"</h1>\\n            <ul class=\"search-results-list\"></ul>\\n            \\n        </div>\\n        <div class=\"no-results\">\\n            \\n            <h1 class=\"search-results-title\">No results matching \"<span class=\\'search-query\\'></span>\"</h1>\\n            \\n        </div>\\n    </div>\\n</div>\\n\\n                        </div>\\n                    </div>\\n                \\n            </div>\\n\\n            \\n                \\n                \\n                <a href=\"welcome/getting-started.html\" class=\"navigation navigation-next navigation-unique\" aria-label=\"Next page: Getting started\">\\n                    <i class=\"fa fa-angle-right\"></i>\\n                </a>\\n                \\n            \\n        \\n    </div>\\n\\n    <script>\\n        var gitbook = gitbook || [];\\n        gitbook.push(function() {\\n            gitbook.page.hasChanged({\"page\":{\"title\":\"Welcome\",\"level\":\"1.1\",\"depth\":1,\"next\":{\"title\":\"Getting started\",\"level\":\"1.2\",\"depth\":1,\"path\":\"welcome/getting-started.md\",\"ref\":\"welcome/getting-started.md\",\"articles\":[]},\"dir\":\"ltr\"},\"config\":{\"plugins\":[\"bootstrap-callout\",\"expandable-chapters\",\"advanced-emoji\",\"videoclips\",\"copy-code-button\",\"codetabs\"],\"root\":\"docs/\",\"styles\":{\"website\":\"styles/website.css\",\"pdf\":\"styles/pdf.css\",\"epub\":\"styles/epub.css\",\"mobi\":\"styles/mobi.css\",\"ebook\":\"styles/ebook.css\",\"print\":\"styles/print.css\"},\"pluginsConfig\":{\"search\":{},\"videoclips\":{},\"codetabs\":{},\"lunr\":{\"maxIndexSize\":1000000,\"ignoreSpecialCharacters\":false},\"bootstrap-callout\":{},\"fontsettings\":{\"theme\":\"white\",\"family\":\"sans\",\"size\":2},\"highlight\":{},\"copy-code-button\":{},\"advanced-emoji\":{\"embedEmojis\":false},\"sharing\":{\"facebook\":true,\"twitter\":true,\"google\":false,\"weibo\":false,\"instapaper\":false,\"vk\":false,\"all\":[\"facebook\",\"google\",\"twitter\",\"weibo\",\"instapaper\"]},\"theme-default\":{\"styles\":{\"website\":\"styles/website.css\",\"pdf\":\"styles/pdf.css\",\"epub\":\"styles/epub.css\",\"mobi\":\"styles/mobi.css\",\"ebook\":\"styles/ebook.css\",\"print\":\"styles/print.css\"},\"showLevel\":false},\"expandable-chapters\":{}},\"theme\":\"default\",\"pdf\":{\"pageNumbers\":true,\"fontSize\":12,\"fontFamily\":\"Lato\",\"paperSize\":\"a4\",\"chapterMark\":\"pagebreak\",\"pageBreaksBefore\":\"/\",\"margin\":{\"right\":62,\"left\":62,\"top\":56,\"bottom\":56}},\"structure\":{\"langs\":\"LANGS.md\",\"readme\":\"README.md\",\"glossary\":\"GLOSSARY.md\",\"summary\":\"SUMMARY.md\"},\"variables\":{},\"title\":\"Authoring Content for DataCamp\",\"gitbook\":\"*\"},\"file\":{\"path\":\"README.md\",\"mtime\":\"2018-01-12T13:07:09.843Z\",\"type\":\"markdown\"},\"gitbook\":{\"version\":\"3.2.3\",\"time\":\"2018-01-26T18:44:36.465Z\"},\"basePath\":\".\",\"book\":{\"language\":\"\"}});\\n        });\\n    </script>\\n</div>\\n\\n        \\n    <script src=\"gitbook/gitbook.js\"></script>\\n    <script src=\"gitbook/theme.js\"></script>\\n    \\n        \\n        <script src=\"gitbook/gitbook-plugin-expandable-chapters/expandable-chapters.js\"></script>\\n        \\n    \\n        \\n        <script src=\"gitbook/gitbook-plugin-copy-code-button/toggle.js\"></script>\\n        \\n    \\n        \\n        <script src=\"gitbook/gitbook-plugin-codetabs/codetabs.js\"></script>\\n        \\n    \\n        \\n        <script src=\"gitbook/gitbook-plugin-search/search-engine.js\"></script>\\n        \\n    \\n        \\n        <script src=\"gitbook/gitbook-plugin-search/search.js\"></script>\\n        \\n    \\n        \\n        <script src=\"gitbook/gitbook-plugin-lunr/lunr.min.js\"></script>\\n        \\n    \\n        \\n        <script src=\"gitbook/gitbook-plugin-lunr/search-lunr.js\"></script>\\n        \\n    \\n        \\n        <script src=\"gitbook/gitbook-plugin-sharing/buttons.js\"></script>\\n        \\n    \\n        \\n        <script src=\"gitbook/gitbook-plugin-fontsettings/fontsettings.js\"></script>\\n        \\n    \\n\\n    </body>\\n</html>\\n\\n'\n"
     ]
    }
   ],
   "source": [
    "# Import packages\n",
    "from urllib.request import urlopen, Request\n",
    "\n",
    "# Specify the url\n",
    "url = \"http://www.datacamp.com/teach/documentation\"\n",
    "\n",
    "# This packages the request\n",
    "request = Request(url)\n",
    "\n",
    "# Sends the request and catches the response: response\n",
    "response=urlopen(request)\n",
    "\n",
    "# Extract the response: html\n",
    "html=response.read()\n",
    "\n",
    "# Print the html\n",
    "print(html)\n",
    "\n",
    "# Be polite and close the response!\n",
    "response.close()"
   ]
  },
  {
   "cell_type": "code",
   "execution_count": 15,
   "metadata": {},
   "outputs": [
    {
     "name": "stdout",
     "output_type": "stream",
     "text": [
      "\n",
      "<!DOCTYPE HTML>\n",
      "<html lang=\"\" >\n",
      "    <head>\n",
      "        <meta charset=\"UTF-8\">\n",
      "        <meta content=\"text/html; charset=utf-8\" http-equiv=\"Content-Type\">\n",
      "        <title>Welcome · Authoring Content for DataCamp</title>\n",
      "        <meta http-equiv=\"X-UA-Compatible\" content=\"IE=edge\" />\n",
      "        <meta name=\"description\" content=\"\">\n",
      "        <meta name=\"generator\" content=\"GitBook 3.2.3\">\n",
      "        \n",
      "        \n",
      "        \n",
      "    \n",
      "    <link rel=\"stylesheet\" href=\"gitbook/style.css\">\n",
      "\n",
      "    \n",
      "            \n",
      "                \n",
      "                <link rel=\"stylesheet\" href=\"gitbook/gitbook-plugin-bootstrap-callout/plugin.css\">\n",
      "                \n",
      "            \n",
      "                \n",
      "                <link rel=\"stylesheet\" href=\"gitbook/gitbook-plugin-expandable-chapters/expandable-chapters.css\">\n",
      "                \n",
      "            \n",
      "                \n",
      "                <link rel=\"stylesheet\" href=\"gitbook/gitbook-plugin-advanced-emoji/emoji-website.css\">\n",
      "                \n",
      "            \n",
      "                \n",
      "                <link rel=\"stylesheet\" href=\"gitbook/gitbook-plugin-codetabs/codetabs.css\">\n",
      "                \n",
      "            \n",
      "                \n",
      "                <link rel=\"stylesheet\" href=\"gitbook/gitbook-plugin-highlight/website.css\">\n",
      "                \n",
      "            \n",
      "                \n",
      "                <link rel=\"stylesheet\" href=\"gitbook/gitbook-plugin-search/search.css\">\n",
      "                \n",
      "            \n",
      "                \n",
      "                <link rel=\"stylesheet\" href=\"gitbook/gitbook-plugin-fontsettings/website.css\">\n",
      "                \n",
      "            \n",
      "        \n",
      "\n",
      "    \n",
      "\n",
      "    \n",
      "        \n",
      "    \n",
      "        \n",
      "    \n",
      "        \n",
      "    \n",
      "        \n",
      "    \n",
      "        \n",
      "    \n",
      "        \n",
      "    \n",
      "\n",
      "        \n",
      "    \n",
      "    \n",
      "    <meta name=\"HandheldFriendly\" content=\"true\"/>\n",
      "    <meta name=\"viewport\" content=\"width=device-width, initial-scale=1, user-scalable=no\">\n",
      "    <meta name=\"apple-mobile-web-app-capable\" content=\"yes\">\n",
      "    <meta name=\"apple-mobile-web-app-status-bar-style\" content=\"black\">\n",
      "    <link rel=\"apple-touch-icon-precomposed\" sizes=\"152x152\" href=\"gitbook/images/apple-touch-icon-precomposed-152.png\">\n",
      "    <link rel=\"shortcut icon\" href=\"gitbook/images/favicon.ico\" type=\"image/x-icon\">\n",
      "\n",
      "    \n",
      "    <link rel=\"next\" href=\"welcome/getting-started.html\" />\n",
      "    \n",
      "    \n",
      "\n",
      "    </head>\n",
      "    <body>\n",
      "        \n",
      "<div class=\"book\">\n",
      "    <div class=\"book-summary\">\n",
      "        \n",
      "            \n",
      "<div id=\"book-search-input\" role=\"search\">\n",
      "    <input type=\"text\" placeholder=\"Type to search\" />\n",
      "</div>\n",
      "\n",
      "            \n",
      "                <nav role=\"navigation\">\n",
      "                \n",
      "\n",
      "\n",
      "<ul class=\"summary\">\n",
      "    \n",
      "    \n",
      "\n",
      "    \n",
      "\n",
      "    \n",
      "        \n",
      "        <li class=\"header\">Introduction</li>\n",
      "        \n",
      "        \n",
      "    \n",
      "        <li class=\"chapter active\" data-level=\"1.1\" data-path=\"./\">\n",
      "            \n",
      "                <a href=\"./\">\n",
      "            \n",
      "                    \n",
      "                    Welcome\n",
      "            \n",
      "                </a>\n",
      "            \n",
      "\n",
      "            \n",
      "        </li>\n",
      "    \n",
      "        <li class=\"chapter \" data-level=\"1.2\" data-path=\"welcome/getting-started.html\">\n",
      "            \n",
      "                <a href=\"welcome/getting-started.html\">\n",
      "            \n",
      "                    \n",
      "                    Getting started\n",
      "            \n",
      "                </a>\n",
      "            \n",
      "\n",
      "            \n",
      "        </li>\n",
      "    \n",
      "\n",
      "    \n",
      "        \n",
      "        <li class=\"header\">Creating content</li>\n",
      "        \n",
      "        \n",
      "    \n",
      "        <li class=\"chapter \" data-level=\"2.1\" data-path=\"courses/\">\n",
      "            \n",
      "                <a href=\"courses/\">\n",
      "            \n",
      "                    \n",
      "                    Courses\n",
      "            \n",
      "                </a>\n",
      "            \n",
      "\n",
      "            \n",
      "            <ul class=\"articles\">\n",
      "                \n",
      "    \n",
      "        <li class=\"chapter \" data-level=\"2.1.1\" data-path=\"courses/repo-structure.html\">\n",
      "            \n",
      "                <a href=\"courses/repo-structure.html\">\n",
      "            \n",
      "                    \n",
      "                    Repo Structure\n",
      "            \n",
      "                </a>\n",
      "            \n",
      "\n",
      "            \n",
      "        </li>\n",
      "    \n",
      "        <li class=\"chapter \" data-level=\"2.1.2\" data-path=\"courses/exercises/\">\n",
      "            \n",
      "                <a href=\"courses/exercises/\">\n",
      "            \n",
      "                    \n",
      "                    Exercises\n",
      "            \n",
      "                </a>\n",
      "            \n",
      "\n",
      "            \n",
      "            <ul class=\"articles\">\n",
      "                \n",
      "    \n",
      "        <li class=\"chapter \" data-level=\"2.1.2.1\" data-path=\"courses/exercises/video-exercise.html\">\n",
      "            \n",
      "                <a href=\"courses/exercises/video-exercise.html\">\n",
      "            \n",
      "                    \n",
      "                    Video Exercise\n",
      "            \n",
      "                </a>\n",
      "            \n",
      "\n",
      "            \n",
      "        </li>\n",
      "    \n",
      "        <li class=\"chapter \" data-level=\"2.1.2.2\" data-path=\"courses/exercises/normal-exercise.html\">\n",
      "            \n",
      "                <a href=\"courses/exercises/normal-exercise.html\">\n",
      "            \n",
      "                    \n",
      "                    Normal Exercise\n",
      "            \n",
      "                </a>\n",
      "            \n",
      "\n",
      "            \n",
      "        </li>\n",
      "    \n",
      "        <li class=\"chapter \" data-level=\"2.1.2.3\" data-path=\"courses/exercises/multiple-choice-exercise.html\">\n",
      "            \n",
      "                <a href=\"courses/exercises/multiple-choice-exercise.html\">\n",
      "            \n",
      "                    \n",
      "                    Multiple Choice Exercise\n",
      "            \n",
      "                </a>\n",
      "            \n",
      "\n",
      "            \n",
      "        </li>\n",
      "    \n",
      "        <li class=\"chapter \" data-level=\"2.1.2.4\" data-path=\"courses/exercises/tab-exercise.html\">\n",
      "            \n",
      "                <a href=\"courses/exercises/tab-exercise.html\">\n",
      "            \n",
      "                    \n",
      "                    Tab Exercise\n",
      "            \n",
      "                </a>\n",
      "            \n",
      "\n",
      "            \n",
      "            <ul class=\"articles\">\n",
      "                \n",
      "    \n",
      "        <li class=\"chapter \" data-level=\"2.1.2.4.1\" data-path=\"courses/exercises/examples/md/sql/TabExercise.html\">\n",
      "            \n",
      "                <a href=\"courses/exercises/examples/md/sql/TabExercise.html\">\n",
      "            \n",
      "                    \n",
      "                    SQL Example\n",
      "            \n",
      "                </a>\n",
      "            \n",
      "\n",
      "            \n",
      "        </li>\n",
      "    \n",
      "        <li class=\"chapter \" data-level=\"2.1.2.4.2\" data-path=\"courses/exercises/examples/md/r/TabExercise.html\">\n",
      "            \n",
      "                <a href=\"courses/exercises/examples/md/r/TabExercise.html\">\n",
      "            \n",
      "                    \n",
      "                    R Example\n",
      "            \n",
      "                </a>\n",
      "            \n",
      "\n",
      "            \n",
      "        </li>\n",
      "    \n",
      "        <li class=\"chapter \" data-level=\"2.1.2.4.3\" data-path=\"courses/exercises/examples/md/python/TabExercise.html\">\n",
      "            \n",
      "                <a href=\"courses/exercises/examples/md/python/TabExercise.html\">\n",
      "            \n",
      "                    \n",
      "                    Python Example\n",
      "            \n",
      "                </a>\n",
      "            \n",
      "\n",
      "            \n",
      "        </li>\n",
      "    \n",
      "\n",
      "            </ul>\n",
      "            \n",
      "        </li>\n",
      "    \n",
      "        <li class=\"chapter \" data-level=\"2.1.2.5\" data-path=\"courses/exercises/bullet-exercise.html\">\n",
      "            \n",
      "                <a href=\"courses/exercises/bullet-exercise.html\">\n",
      "            \n",
      "                    \n",
      "                    Bullet Exercise\n",
      "            \n",
      "                </a>\n",
      "            \n",
      "\n",
      "            \n",
      "            <ul class=\"articles\">\n",
      "                \n",
      "    \n",
      "        <li class=\"chapter \" data-level=\"2.1.2.5.1\" data-path=\"courses/exercises/examples/md/sql/BulletExercise.html\">\n",
      "            \n",
      "                <a href=\"courses/exercises/examples/md/sql/BulletExercise.html\">\n",
      "            \n",
      "                    \n",
      "                    SQL Example\n",
      "            \n",
      "                </a>\n",
      "            \n",
      "\n",
      "            \n",
      "        </li>\n",
      "    \n",
      "        <li class=\"chapter \" data-level=\"2.1.2.5.2\" data-path=\"courses/exercises/examples/md/r/BulletExercise.html\">\n",
      "            \n",
      "                <a href=\"courses/exercises/examples/md/r/BulletExercise.html\">\n",
      "            \n",
      "                    \n",
      "                    R Example\n",
      "            \n",
      "                </a>\n",
      "            \n",
      "\n",
      "            \n",
      "        </li>\n",
      "    \n",
      "        <li class=\"chapter \" data-level=\"2.1.2.5.3\" data-path=\"courses/exercises/examples/md/python/BulletExercise.html\">\n",
      "            \n",
      "                <a href=\"courses/exercises/examples/md/python/BulletExercise.html\">\n",
      "            \n",
      "                    \n",
      "                    Python Example\n",
      "            \n",
      "                </a>\n",
      "            \n",
      "\n",
      "            \n",
      "        </li>\n",
      "    \n",
      "\n",
      "            </ul>\n",
      "            \n",
      "        </li>\n",
      "    \n",
      "\n",
      "            </ul>\n",
      "            \n",
      "        </li>\n",
      "    \n",
      "        <li class=\"chapter \" data-level=\"2.1.3\" data-path=\"courses/guidelines.html\">\n",
      "            \n",
      "                <a href=\"courses/guidelines.html\">\n",
      "            \n",
      "                    \n",
      "                    Guidelines\n",
      "            \n",
      "                </a>\n",
      "            \n",
      "\n",
      "            \n",
      "        </li>\n",
      "    \n",
      "        <li class=\"chapter \" data-level=\"2.1.4\" data-path=\"courses/xp.html\">\n",
      "            \n",
      "                <a href=\"courses/xp.html\">\n",
      "            \n",
      "                    \n",
      "                    XP\n",
      "            \n",
      "                </a>\n",
      "            \n",
      "\n",
      "            \n",
      "        </li>\n",
      "    \n",
      "        <li class=\"chapter \" data-level=\"2.1.5\" data-path=\"courses/assets.html\">\n",
      "            \n",
      "                <a href=\"courses/assets.html\">\n",
      "            \n",
      "                    \n",
      "                    Assets\n",
      "            \n",
      "                </a>\n",
      "            \n",
      "\n",
      "            \n",
      "        </li>\n",
      "    \n",
      "        <li class=\"chapter \" data-level=\"2.1.6\" data-path=\"courses/slides.html\">\n",
      "            \n",
      "                <a href=\"courses/slides.html\">\n",
      "            \n",
      "                    \n",
      "                    Slides\n",
      "            \n",
      "                </a>\n",
      "            \n",
      "\n",
      "            \n",
      "        </li>\n",
      "    \n",
      "        <li class=\"chapter \" data-level=\"2.1.7\" data-path=\"courses/guides/\">\n",
      "            \n",
      "                <a href=\"courses/guides/\">\n",
      "            \n",
      "                    \n",
      "                    Guides\n",
      "            \n",
      "                </a>\n",
      "            \n",
      "\n",
      "            \n",
      "            <ul class=\"articles\">\n",
      "                \n",
      "    \n",
      "        <li class=\"chapter \" data-level=\"2.1.7.1\" data-path=\"courses/guides/exports.html\">\n",
      "            \n",
      "                <a href=\"courses/guides/exports.html\">\n",
      "            \n",
      "                    \n",
      "                    Exports\n",
      "            \n",
      "                </a>\n",
      "            \n",
      "\n",
      "            \n",
      "        </li>\n",
      "    \n",
      "        <li class=\"chapter \" data-level=\"2.1.7.2\" data-path=\"courses/guides/unified-authoring-api.html\">\n",
      "            \n",
      "                <a href=\"courses/guides/unified-authoring-api.html\">\n",
      "            \n",
      "                    \n",
      "                    Unified Authoring API\n",
      "            \n",
      "                </a>\n",
      "            \n",
      "\n",
      "            \n",
      "        </li>\n",
      "    \n",
      "        <li class=\"chapter \" data-level=\"2.1.7.3\" data-path=\"courses/guides/tab-vs-bullet-exercises.html\">\n",
      "            \n",
      "                <a href=\"courses/guides/tab-vs-bullet-exercises.html\">\n",
      "            \n",
      "                    \n",
      "                    Tab vs. Bullet Exercises\n",
      "            \n",
      "                </a>\n",
      "            \n",
      "\n",
      "            \n",
      "        </li>\n",
      "    \n",
      "\n",
      "            </ul>\n",
      "            \n",
      "        </li>\n",
      "    \n",
      "        <li class=\"chapter \" data-level=\"2.1.8\" data-path=\"courses/design/\">\n",
      "            \n",
      "                <a href=\"courses/design/\">\n",
      "            \n",
      "                    \n",
      "                    Design\n",
      "            \n",
      "                </a>\n",
      "            \n",
      "\n",
      "            \n",
      "            <ul class=\"articles\">\n",
      "                \n",
      "    \n",
      "        <li class=\"chapter \" data-level=\"2.1.8.1\" data-path=\"courses/design/template.html\">\n",
      "            \n",
      "                <a href=\"courses/design/template.html\">\n",
      "            \n",
      "                    \n",
      "                    Design template\n",
      "            \n",
      "                </a>\n",
      "            \n",
      "\n",
      "            \n",
      "        </li>\n",
      "    \n",
      "        <li class=\"chapter \" data-level=\"2.1.8.2\" data-path=\"courses/design/personas.html\">\n",
      "            \n",
      "                <a href=\"courses/design/personas.html\">\n",
      "            \n",
      "                    \n",
      "                    Learner personas\n",
      "            \n",
      "                </a>\n",
      "            \n",
      "\n",
      "            \n",
      "        </li>\n",
      "    \n",
      "\n",
      "            </ul>\n",
      "            \n",
      "        </li>\n",
      "    \n",
      "        <li class=\"chapter \" data-level=\"2.1.9\" data-path=\"faq/\">\n",
      "            \n",
      "                <a href=\"faq/\">\n",
      "            \n",
      "                    \n",
      "                    FAQ\n",
      "            \n",
      "                </a>\n",
      "            \n",
      "\n",
      "            \n",
      "        </li>\n",
      "    \n",
      "\n",
      "            </ul>\n",
      "            \n",
      "        </li>\n",
      "    \n",
      "        <li class=\"chapter \" data-level=\"2.2\" data-path=\"challenges/\">\n",
      "            \n",
      "                <a href=\"challenges/\">\n",
      "            \n",
      "                    \n",
      "                    Challenges\n",
      "            \n",
      "                </a>\n",
      "            \n",
      "\n",
      "            \n",
      "            <ul class=\"articles\">\n",
      "                \n",
      "    \n",
      "        <li class=\"chapter \" data-level=\"2.2.1\" data-path=\"challenges/repo-structure.html\">\n",
      "            \n",
      "                <a href=\"challenges/repo-structure.html\">\n",
      "            \n",
      "                    \n",
      "                    Repo Structure\n",
      "            \n",
      "                </a>\n",
      "            \n",
      "\n",
      "            \n",
      "        </li>\n",
      "    \n",
      "        <li class=\"chapter \" data-level=\"2.2.2\" data-path=\"challenges/content/\">\n",
      "            \n",
      "                <a href=\"challenges/content/\">\n",
      "            \n",
      "                    \n",
      "                    Content\n",
      "            \n",
      "                </a>\n",
      "            \n",
      "\n",
      "            \n",
      "            <ul class=\"articles\">\n",
      "                \n",
      "    \n",
      "        <li class=\"chapter \" data-level=\"2.2.2.1\" data-path=\"challenges/content/output-challenge.html\">\n",
      "            \n",
      "                <a href=\"challenges/content/output-challenge.html\">\n",
      "            \n",
      "                    \n",
      "                    Output Challenge\n",
      "            \n",
      "                </a>\n",
      "            \n",
      "\n",
      "            \n",
      "        </li>\n",
      "    \n",
      "        <li class=\"chapter \" data-level=\"2.2.2.2\" data-path=\"challenges/content/multiple-choice-challenge.html\">\n",
      "            \n",
      "                <a href=\"challenges/content/multiple-choice-challenge.html\">\n",
      "            \n",
      "                    \n",
      "                    Multiple Choice Challenge\n",
      "            \n",
      "                </a>\n",
      "            \n",
      "\n",
      "            \n",
      "        </li>\n",
      "    \n",
      "        <li class=\"chapter \" data-level=\"2.2.2.3\" data-path=\"challenges/content/blanks-challenge.html\">\n",
      "            \n",
      "                <a href=\"challenges/content/blanks-challenge.html\">\n",
      "            \n",
      "                    \n",
      "                    Blanks Challenge\n",
      "            \n",
      "                </a>\n",
      "            \n",
      "\n",
      "            \n",
      "        </li>\n",
      "    \n",
      "\n",
      "            </ul>\n",
      "            \n",
      "        </li>\n",
      "    \n",
      "        <li class=\"chapter \" data-level=\"2.2.3\" data-path=\"challenges/guidelines.html\">\n",
      "            \n",
      "                <a href=\"challenges/guidelines.html\">\n",
      "            \n",
      "                    \n",
      "                    Guidelines\n",
      "            \n",
      "                </a>\n",
      "            \n",
      "\n",
      "            \n",
      "        </li>\n",
      "    \n",
      "        <li class=\"chapter \" data-level=\"2.2.4\" data-path=\"challenges/review-mode.html\">\n",
      "            \n",
      "                <a href=\"challenges/review-mode.html\">\n",
      "            \n",
      "                    \n",
      "                    Review Mode\n",
      "            \n",
      "                </a>\n",
      "            \n",
      "\n",
      "            \n",
      "        </li>\n",
      "    \n",
      "\n",
      "            </ul>\n",
      "            \n",
      "        </li>\n",
      "    \n",
      "        <li class=\"chapter \" data-level=\"2.3\" data-path=\"projects/\">\n",
      "            \n",
      "                <a href=\"projects/\">\n",
      "            \n",
      "                    \n",
      "                    Projects\n",
      "            \n",
      "                </a>\n",
      "            \n",
      "\n",
      "            \n",
      "            <ul class=\"articles\">\n",
      "                \n",
      "    \n",
      "        <li class=\"chapter \" data-level=\"2.3.1\" data-path=\"projects/projects-process.html\">\n",
      "            \n",
      "                <a href=\"projects/projects-process.html\">\n",
      "            \n",
      "                    \n",
      "                    Project Creation Process\n",
      "            \n",
      "                </a>\n",
      "            \n",
      "\n",
      "            \n",
      "        </li>\n",
      "    \n",
      "        <li class=\"chapter \" data-level=\"2.3.2\" data-path=\"projects/projects-format.html\">\n",
      "            \n",
      "                <a href=\"projects/projects-format.html\">\n",
      "            \n",
      "                    \n",
      "                    Project notebook format\n",
      "            \n",
      "                </a>\n",
      "            \n",
      "\n",
      "            \n",
      "            <ul class=\"articles\">\n",
      "                \n",
      "    \n",
      "        <li class=\"chapter \" data-level=\"2.3.2.1\" data-path=\"projects/projects-format.html\">\n",
      "            \n",
      "                <a href=\"projects/projects-format.html#overview\">\n",
      "            \n",
      "                    \n",
      "                    Overview\n",
      "            \n",
      "                </a>\n",
      "            \n",
      "\n",
      "            \n",
      "        </li>\n",
      "    \n",
      "        <li class=\"chapter \" data-level=\"2.3.2.2\" data-path=\"projects/projects-format.html\">\n",
      "            \n",
      "                <a href=\"projects/projects-format.html#notebooktask\">\n",
      "            \n",
      "                    \n",
      "                    type:NotebookTask\n",
      "            \n",
      "                </a>\n",
      "            \n",
      "\n",
      "            \n",
      "        </li>\n",
      "    \n",
      "        <li class=\"chapter \" data-level=\"2.3.2.3\" data-path=\"projects/projects-format.html\">\n",
      "            \n",
      "                <a href=\"projects/projects-format.html#context\">\n",
      "            \n",
      "                    \n",
      "                    @context\n",
      "            \n",
      "                </a>\n",
      "            \n",
      "\n",
      "            \n",
      "        </li>\n",
      "    \n",
      "        <li class=\"chapter \" data-level=\"2.3.2.4\" data-path=\"projects/projects-format.html\">\n",
      "            \n",
      "                <a href=\"projects/projects-format.html#instructions\">\n",
      "            \n",
      "                    \n",
      "                    @instructions\n",
      "            \n",
      "                </a>\n",
      "            \n",
      "\n",
      "            \n",
      "        </li>\n",
      "    \n",
      "        <li class=\"chapter \" data-level=\"2.3.2.5\" data-path=\"projects/projects-format.html\">\n",
      "            \n",
      "                <a href=\"projects/projects-format.html#hint\">\n",
      "            \n",
      "                    \n",
      "                    @hint\n",
      "            \n",
      "                </a>\n",
      "            \n",
      "\n",
      "            \n",
      "        </li>\n",
      "    \n",
      "        <li class=\"chapter \" data-level=\"2.3.2.6\" data-path=\"projects/projects-format.html\">\n",
      "            \n",
      "                <a href=\"projects/projects-format.html#sample-code\">\n",
      "            \n",
      "                    \n",
      "                    @sample_code\n",
      "            \n",
      "                </a>\n",
      "            \n",
      "\n",
      "            \n",
      "        </li>\n",
      "    \n",
      "        <li class=\"chapter \" data-level=\"2.3.2.7\" data-path=\"projects/projects-format.html\">\n",
      "            \n",
      "                <a href=\"projects/projects-format.html#solution\">\n",
      "            \n",
      "                    \n",
      "                    @solution\n",
      "            \n",
      "                </a>\n",
      "            \n",
      "\n",
      "            \n",
      "        </li>\n",
      "    \n",
      "        <li class=\"chapter \" data-level=\"2.3.2.8\" data-path=\"projects/projects-format.html\">\n",
      "            \n",
      "                <a href=\"projects/projects-format.html#tests\">\n",
      "            \n",
      "                    \n",
      "                    @tests\n",
      "            \n",
      "                </a>\n",
      "            \n",
      "\n",
      "            \n",
      "        </li>\n",
      "    \n",
      "        <li class=\"chapter \" data-level=\"2.3.2.9\" data-path=\"projects/projects-test-examples.html\">\n",
      "            \n",
      "                <a href=\"projects/projects-test-examples.html\">\n",
      "            \n",
      "                    \n",
      "                    Test examples\n",
      "            \n",
      "                </a>\n",
      "            \n",
      "\n",
      "            \n",
      "        </li>\n",
      "    \n",
      "\n",
      "            </ul>\n",
      "            \n",
      "        </li>\n",
      "    \n",
      "        <li class=\"chapter \" data-level=\"2.3.3\" data-path=\"projects/projects-repo-structure.html\">\n",
      "            \n",
      "                <a href=\"projects/projects-repo-structure.html\">\n",
      "            \n",
      "                    \n",
      "                    Project File Structure\n",
      "            \n",
      "                </a>\n",
      "            \n",
      "\n",
      "            \n",
      "        </li>\n",
      "    \n",
      "\n",
      "            </ul>\n",
      "            \n",
      "        </li>\n",
      "    \n",
      "\n",
      "    \n",
      "        \n",
      "        <li class=\"header\">Teach interface</li>\n",
      "        \n",
      "        \n",
      "    \n",
      "        <li class=\"chapter \" data-level=\"3.1\" data-path=\"interface/dashboard.html\">\n",
      "            \n",
      "                <a href=\"interface/dashboard.html\">\n",
      "            \n",
      "                    \n",
      "                    Teach Dashboard\n",
      "            \n",
      "                </a>\n",
      "            \n",
      "\n",
      "            \n",
      "            <ul class=\"articles\">\n",
      "                \n",
      "    \n",
      "        <li class=\"chapter \" data-level=\"3.1.1\" data-path=\"interface/create-content-dialog.html\">\n",
      "            \n",
      "                <a href=\"interface/create-content-dialog.html\">\n",
      "            \n",
      "                    \n",
      "                    Create content dialog\n",
      "            \n",
      "                </a>\n",
      "            \n",
      "\n",
      "            \n",
      "        </li>\n",
      "    \n",
      "        <li class=\"chapter \" data-level=\"3.1.2\" data-path=\"interface/content-overview.html\">\n",
      "            \n",
      "                <a href=\"interface/content-overview.html\">\n",
      "            \n",
      "                    \n",
      "                    Content overview\n",
      "            \n",
      "                </a>\n",
      "            \n",
      "\n",
      "            \n",
      "        </li>\n",
      "    \n",
      "\n",
      "            </ul>\n",
      "            \n",
      "        </li>\n",
      "    \n",
      "        <li class=\"chapter \" data-level=\"3.2\" data-path=\"interface/teach-editor.html\">\n",
      "            \n",
      "                <a href=\"interface/teach-editor.html\">\n",
      "            \n",
      "                    \n",
      "                    Teach Editor\n",
      "            \n",
      "                </a>\n",
      "            \n",
      "\n",
      "            \n",
      "        </li>\n",
      "    \n",
      "\n",
      "    \n",
      "        \n",
      "        <li class=\"header\">Premium courses</li>\n",
      "        \n",
      "        \n",
      "    \n",
      "        <li class=\"chapter \" data-level=\"4.1\" data-path=\"premium-courses/premium-course-process.html\">\n",
      "            \n",
      "                <a href=\"premium-courses/premium-course-process.html\">\n",
      "            \n",
      "                    \n",
      "                    Development process\n",
      "            \n",
      "                </a>\n",
      "            \n",
      "\n",
      "            \n",
      "            <ul class=\"articles\">\n",
      "                \n",
      "    \n",
      "        <li class=\"chapter \" data-level=\"4.1.1\" data-path=\"premium-courses/premium-course-process.html\">\n",
      "            \n",
      "                <a href=\"premium-courses/premium-course-process.html#course-specs\">\n",
      "            \n",
      "                    \n",
      "                    1. Course specs\n",
      "            \n",
      "                </a>\n",
      "            \n",
      "\n",
      "            \n",
      "        </li>\n",
      "    \n",
      "        <li class=\"chapter \" data-level=\"4.1.2\" data-path=\"premium-courses/premium-course-process.html\">\n",
      "            \n",
      "                <a href=\"premium-courses/premium-course-process.html#exercises\">\n",
      "            \n",
      "                    \n",
      "                    2. Exercises\n",
      "            \n",
      "                </a>\n",
      "            \n",
      "\n",
      "            \n",
      "        </li>\n",
      "    \n",
      "        <li class=\"chapter \" data-level=\"4.1.3\" data-path=\"premium-courses/premium-course-process.html\">\n",
      "            \n",
      "                <a href=\"premium-courses/premium-course-process.html#slides-scripts\">\n",
      "            \n",
      "                    \n",
      "                    3. Slides and scripts\n",
      "            \n",
      "                </a>\n",
      "            \n",
      "\n",
      "            \n",
      "        </li>\n",
      "    \n",
      "        <li class=\"chapter \" data-level=\"4.1.4\" data-path=\"premium-courses/premium-course-process.html\">\n",
      "            \n",
      "                <a href=\"premium-courses/premium-course-process.html#screencasts\">\n",
      "            \n",
      "                    \n",
      "                    4. Screencasts\n",
      "            \n",
      "                </a>\n",
      "            \n",
      "\n",
      "            \n",
      "        </li>\n",
      "    \n",
      "        <li class=\"chapter \" data-level=\"4.1.5\" data-path=\"premium-courses/premium-course-process.html\">\n",
      "            \n",
      "                <a href=\"premium-courses/premium-course-process.html#videos\">\n",
      "            \n",
      "                    \n",
      "                    5. Videos\n",
      "            \n",
      "                </a>\n",
      "            \n",
      "\n",
      "            \n",
      "        </li>\n",
      "    \n",
      "        <li class=\"chapter \" data-level=\"4.1.6\" data-path=\"premium-courses/premium-course-process.html\">\n",
      "            \n",
      "                <a href=\"premium-courses/premium-course-process.html#review-release\">\n",
      "            \n",
      "                    \n",
      "                    6. Review and release\n",
      "            \n",
      "                </a>\n",
      "            \n",
      "\n",
      "            \n",
      "        </li>\n",
      "    \n",
      "        <li class=\"chapter \" data-level=\"4.1.7\" data-path=\"premium-courses/premium-course-process.html\">\n",
      "            \n",
      "                <a href=\"premium-courses/premium-course-process.html#monitor-maintain\">\n",
      "            \n",
      "                    \n",
      "                    7. Monitor and maintain\n",
      "            \n",
      "                </a>\n",
      "            \n",
      "\n",
      "            \n",
      "        </li>\n",
      "    \n",
      "\n",
      "            </ul>\n",
      "            \n",
      "        </li>\n",
      "    \n",
      "        <li class=\"chapter \" data-level=\"4.2\" data-path=\"premium-courses/premium-course-structure.html\">\n",
      "            \n",
      "                <a href=\"premium-courses/premium-course-structure.html\">\n",
      "            \n",
      "                    \n",
      "                    Course structure\n",
      "            \n",
      "                </a>\n",
      "            \n",
      "\n",
      "            \n",
      "        </li>\n",
      "    \n",
      "\n",
      "    \n",
      "\n",
      "    <li class=\"divider\"></li>\n",
      "\n",
      "    <li>\n",
      "        <a href=\"https://www.gitbook.com\" target=\"blank\" class=\"gitbook-link\">\n",
      "            Published with GitBook\n",
      "        </a>\n",
      "    </li>\n",
      "</ul>\n",
      "\n",
      "\n",
      "                </nav>\n",
      "            \n",
      "        \n",
      "    </div>\n",
      "\n",
      "    <div class=\"book-body\">\n",
      "        \n",
      "            <div class=\"body-inner\">\n",
      "                \n",
      "                    \n",
      "\n",
      "<div class=\"book-header\" role=\"navigation\">\n",
      "    \n",
      "\n",
      "    <!-- Title -->\n",
      "    <h1>\n",
      "        <i class=\"fa fa-circle-o-notch fa-spin\"></i>\n",
      "        <a href=\".\" >Welcome</a>\n",
      "    </h1>\n",
      "</div>\n",
      "\n",
      "\n",
      "\n",
      "\n",
      "                    <div class=\"page-wrapper\" tabindex=\"-1\" role=\"main\">\n",
      "                        <div class=\"page-inner\">\n",
      "                            \n",
      "<div id=\"book-search-results\">\n",
      "    <div class=\"search-noresults\">\n",
      "    \n",
      "                                <section class=\"normal markdown-section\">\n",
      "                                \n",
      "                                <h1 id=\"welcome\">Welcome</h1>\n",
      "<p>Anyone can create content for free using our authoring tools, then make that content available to others. This documentation will help you do that by explaining what our various tools do and what content they can be used to create.</p>\n",
      "<p>If you&apos;d like to make your content freely available to the general public via the <a href=\"https://www.datacamp.com/community/\" target=\"_blank\">Community section</a> of our website, you can get started on your content right away and reach out to <a href=\"mailto:support@datacamp.com\" target=\"_blank\">support@datacamp.com</a> when it&apos;s done. </p>\n",
      "<p>If you&apos;re interested in creating premium content on <a href=\"https://www.datacamp.com/\" target=\"_blank\">datacamp.com</a> available only to DataCamp subscribers, you can <a href=\"https://www.datacamp.com/create/\" target=\"_blank\">apply here</a> to be considered. If you are selected to create premium content, we will work closely with you to plan and develop the material so that it fits neatly among our other premium offerings.</p>\n",
      "<h1 id=\"types-of-content\">Types of Content</h1>\n",
      "<p>DataCamp supports several different types of training content, each serving a particular purpose: </p>\n",
      "<ul>\n",
      "<li><em>Courses</em> teach new data science material.</li>\n",
      "<li><em>Challenges</em> allow students to practice what they&apos;ve learned in courses.</li>\n",
      "<li><em>Projects</em> provide an opportunity to apply things in a real-world setting.</li>\n",
      "</ul>\n",
      "<h3 id=\"courses\">Courses</h3>\n",
      "<p>The purpose of a DataCamp course is to teach students something new. For example, our <a href=\"https://www.datacamp.com/courses/intro-to-sql-for-data-science\" target=\"_blank\">Introduction to SQL for Data Science</a> course teaches students the basics of using SQL in a data science context, covering basic <code>SELECT</code> statements, filtering, aggregate functions, etc.</p>\n",
      "<p><a href=\"https://campus.datacamp.com/courses/intro-to-sql-for-data-science/filtering-rows?ex=3\" target=\"_blank\"><img src=\"images/courses/intro-sql.png\" alt=\"Introduction to SQL for Data Science\"></a></p>\n",
      "<p>Ready to create a course? <a href=\"courses/\">Get started now!</a></p>\n",
      "<h3 id=\"challenges\">Challenges</h3>\n",
      "<p>Challenges give students a chance to practice what they&apos;ve learned in courses. For example, our <a href=\"https://challenges.datacamp.com/practice/300\" target=\"_blank\">Pandas Foundations</a> challenges test students&apos; ability to perform basic tasks with the popular Python package introduced in <a href=\"https://www.datacamp.com/courses/pandas-foundations\" target=\"_blank\">our course</a> with the same name.</p>\n",
      "<p><a href=\"https://challenges.datacamp.com/practice/300\" target=\"_blank\"><img src=\"images/challenges/pandas-challenge.png\" alt=\"pandas Foundations\"></a></p>\n",
      "<!-- Ready to create some challenges? [Get started now!](challenges/README.md) -->\n",
      "<div class=\"callout callout-info\"><h4 id=\"note\">Note</h4><div><p>Challenge authoring is only available to invited instructors at the moment, but should be available to everyone in the near future. If you&apos;re interested in creating some, please contact <a href=\"mailto:spencer@datacamp.com\" target=\"_blank\">spencer@datacamp.com</a> for more info!</p><p>In the meantime, you can browse the relevant <a href=\"challenges/\">documentation</a>.</p></div></div>\n",
      "<h3 id=\"projects\">Projects</h3>\n",
      "<p>Projects allow students to apply what they&apos;ve learned in a more open-ended and real-world data science context. For example, our project about <a href=\"https://www.datacamp.com/projects/20\" target=\"_blank\">Dr. Semmelweis and the discovery of handwashing</a> allows students to analyze data on the life-saving impact of handwashing in the 1800s.</p>\n",
      "<p><a href=\"https://projects.datacamp.com/projects/20\" target=\"_blank\"><img src=\"images/projects/handwashing-project.png\" alt=\"Dr. Semmelweis and the discovery of handwashing\"></a></p>\n",
      "<!-- Ready to create a project? **[Get started now!](projects/README.md)** -->\n",
      "<div class=\"callout callout-info\"><h4 id=\"note\">Note</h4><div><p>Project authoring is only available to invited instructors at the moment, but should be available to everyone in the near future. If you&apos;re interested in creating a project, please contact <a href=\"mailto:rasmus@datacamp.com\" target=\"_blank\">rasmus@datacamp.com</a> for more info!</p><p>In the meantime, you can browse the relevant <a href=\"projects/\">documentation</a>.</p></div></div>\n",
      "\n",
      "                                \n",
      "                                </section>\n",
      "                            \n",
      "    </div>\n",
      "    <div class=\"search-results\">\n",
      "        <div class=\"has-results\">\n",
      "            \n",
      "            <h1 class=\"search-results-title\"><span class='search-results-count'></span> results matching \"<span class='search-query'></span>\"</h1>\n",
      "            <ul class=\"search-results-list\"></ul>\n",
      "            \n",
      "        </div>\n",
      "        <div class=\"no-results\">\n",
      "            \n",
      "            <h1 class=\"search-results-title\">No results matching \"<span class='search-query'></span>\"</h1>\n",
      "            \n",
      "        </div>\n",
      "    </div>\n",
      "</div>\n",
      "\n",
      "                        </div>\n",
      "                    </div>\n",
      "                \n",
      "            </div>\n",
      "\n",
      "            \n",
      "                \n",
      "                \n",
      "                <a href=\"welcome/getting-started.html\" class=\"navigation navigation-next navigation-unique\" aria-label=\"Next page: Getting started\">\n",
      "                    <i class=\"fa fa-angle-right\"></i>\n",
      "                </a>\n",
      "                \n",
      "            \n",
      "        \n",
      "    </div>\n",
      "\n",
      "    <script>\n",
      "        var gitbook = gitbook || [];\n",
      "        gitbook.push(function() {\n",
      "            gitbook.page.hasChanged({\"page\":{\"title\":\"Welcome\",\"level\":\"1.1\",\"depth\":1,\"next\":{\"title\":\"Getting started\",\"level\":\"1.2\",\"depth\":1,\"path\":\"welcome/getting-started.md\",\"ref\":\"welcome/getting-started.md\",\"articles\":[]},\"dir\":\"ltr\"},\"config\":{\"plugins\":[\"bootstrap-callout\",\"expandable-chapters\",\"advanced-emoji\",\"videoclips\",\"copy-code-button\",\"codetabs\"],\"root\":\"docs/\",\"styles\":{\"website\":\"styles/website.css\",\"pdf\":\"styles/pdf.css\",\"epub\":\"styles/epub.css\",\"mobi\":\"styles/mobi.css\",\"ebook\":\"styles/ebook.css\",\"print\":\"styles/print.css\"},\"pluginsConfig\":{\"search\":{},\"videoclips\":{},\"codetabs\":{},\"lunr\":{\"maxIndexSize\":1000000,\"ignoreSpecialCharacters\":false},\"bootstrap-callout\":{},\"fontsettings\":{\"theme\":\"white\",\"family\":\"sans\",\"size\":2},\"highlight\":{},\"copy-code-button\":{},\"advanced-emoji\":{\"embedEmojis\":false},\"sharing\":{\"facebook\":true,\"twitter\":true,\"google\":false,\"weibo\":false,\"instapaper\":false,\"vk\":false,\"all\":[\"facebook\",\"google\",\"twitter\",\"weibo\",\"instapaper\"]},\"theme-default\":{\"styles\":{\"website\":\"styles/website.css\",\"pdf\":\"styles/pdf.css\",\"epub\":\"styles/epub.css\",\"mobi\":\"styles/mobi.css\",\"ebook\":\"styles/ebook.css\",\"print\":\"styles/print.css\"},\"showLevel\":false},\"expandable-chapters\":{}},\"theme\":\"default\",\"pdf\":{\"pageNumbers\":true,\"fontSize\":12,\"fontFamily\":\"Lato\",\"paperSize\":\"a4\",\"chapterMark\":\"pagebreak\",\"pageBreaksBefore\":\"/\",\"margin\":{\"right\":62,\"left\":62,\"top\":56,\"bottom\":56}},\"structure\":{\"langs\":\"LANGS.md\",\"readme\":\"README.md\",\"glossary\":\"GLOSSARY.md\",\"summary\":\"SUMMARY.md\"},\"variables\":{},\"title\":\"Authoring Content for DataCamp\",\"gitbook\":\"*\"},\"file\":{\"path\":\"README.md\",\"mtime\":\"2018-01-12T13:07:09.843Z\",\"type\":\"markdown\"},\"gitbook\":{\"version\":\"3.2.3\",\"time\":\"2018-01-26T18:44:36.465Z\"},\"basePath\":\".\",\"book\":{\"language\":\"\"}});\n",
      "        });\n",
      "    </script>\n",
      "</div>\n",
      "\n",
      "        \n",
      "    <script src=\"gitbook/gitbook.js\"></script>\n",
      "    <script src=\"gitbook/theme.js\"></script>\n",
      "    \n",
      "        \n",
      "        <script src=\"gitbook/gitbook-plugin-expandable-chapters/expandable-chapters.js\"></script>\n",
      "        \n",
      "    \n",
      "        \n",
      "        <script src=\"gitbook/gitbook-plugin-copy-code-button/toggle.js\"></script>\n",
      "        \n",
      "    \n",
      "        \n",
      "        <script src=\"gitbook/gitbook-plugin-codetabs/codetabs.js\"></script>\n",
      "        \n",
      "    \n",
      "        \n",
      "        <script src=\"gitbook/gitbook-plugin-search/search-engine.js\"></script>\n",
      "        \n",
      "    \n",
      "        \n",
      "        <script src=\"gitbook/gitbook-plugin-search/search.js\"></script>\n",
      "        \n",
      "    \n",
      "        \n",
      "        <script src=\"gitbook/gitbook-plugin-lunr/lunr.min.js\"></script>\n",
      "        \n",
      "    \n",
      "        \n",
      "        <script src=\"gitbook/gitbook-plugin-lunr/search-lunr.js\"></script>\n",
      "        \n",
      "    \n",
      "        \n",
      "        <script src=\"gitbook/gitbook-plugin-sharing/buttons.js\"></script>\n",
      "        \n",
      "    \n",
      "        \n",
      "        <script src=\"gitbook/gitbook-plugin-fontsettings/fontsettings.js\"></script>\n",
      "        \n",
      "    \n",
      "\n",
      "    </body>\n",
      "</html>\n",
      "\n",
      "\n"
     ]
    }
   ],
   "source": [
    "# Import package\n",
    "import requests\n",
    "\n",
    "# Specify the url: url\n",
    "url='http://www.datacamp.com/teach/documentation'\n",
    "\n",
    "# Packages the request, send the request and catch the response: r\n",
    "r=requests.get(url)\n",
    "\n",
    "# Extract the response: text\n",
    "text=r.text\n",
    "\n",
    "# Print the html\n",
    "print(text)\n"
   ]
  },
  {
   "cell_type": "code",
   "execution_count": 16,
   "metadata": {},
   "outputs": [
    {
     "name": "stdout",
     "output_type": "stream",
     "text": [
      "<html>\n",
      " <head>\n",
      "  <title>\n",
      "   Guido's Personal Home Page\n",
      "  </title>\n",
      " </head>\n",
      " <body bgcolor=\"#FFFFFF\" text=\"#000000\">\n",
      "  <h1>\n",
      "   <a href=\"pics.html\">\n",
      "    <img border=\"0\" src=\"images/IMG_2192.jpg\"/>\n",
      "   </a>\n",
      "   Guido van Rossum - Personal Home Page\n",
      "  </h1>\n",
      "  <p>\n",
      "   <a href=\"http://www.washingtonpost.com/wp-srv/business/longterm/microsoft/stories/1998/raymond120398.htm\">\n",
      "    <i>\n",
      "     \"Gawky and proud of it.\"\n",
      "    </i>\n",
      "   </a>\n",
      "  </p>\n",
      "  <h3>\n",
      "   <a href=\"http://metalab.unc.edu/Dave/Dr-Fun/df200004/df20000406.jpg\">\n",
      "    Who\n",
      "I Am\n",
      "   </a>\n",
      "  </h3>\n",
      "  <p>\n",
      "   Read\n",
      "my\n",
      "   <a href=\"http://neopythonic.blogspot.com/2016/04/kings-day-speech.html\">\n",
      "    \"King's\n",
      "Day Speech\"\n",
      "   </a>\n",
      "   for some inspiration.\n",
      "  </p>\n",
      "  <p>\n",
      "   I am the author of the\n",
      "   <a href=\"http://www.python.org\">\n",
      "    Python\n",
      "   </a>\n",
      "   programming language.  See also my\n",
      "   <a href=\"Resume.html\">\n",
      "    resume\n",
      "   </a>\n",
      "   and my\n",
      "   <a href=\"Publications.html\">\n",
      "    publications list\n",
      "   </a>\n",
      "   , a\n",
      "   <a href=\"bio.html\">\n",
      "    brief bio\n",
      "   </a>\n",
      "   , assorted\n",
      "   <a href=\"http://legacy.python.org/doc/essays/\">\n",
      "    writings\n",
      "   </a>\n",
      "   ,\n",
      "   <a href=\"http://legacy.python.org/doc/essays/ppt/\">\n",
      "    presentations\n",
      "   </a>\n",
      "   and\n",
      "   <a href=\"interviews.html\">\n",
      "    interviews\n",
      "   </a>\n",
      "   (all about Python), some\n",
      "   <a href=\"pics.html\">\n",
      "    pictures of me\n",
      "   </a>\n",
      "   ,\n",
      "   <a href=\"http://neopythonic.blogspot.com\">\n",
      "    my new blog\n",
      "   </a>\n",
      "   , and\n",
      "my\n",
      "   <a href=\"http://www.artima.com/weblogs/index.jsp?blogger=12088\">\n",
      "    old\n",
      "blog\n",
      "   </a>\n",
      "   on Artima.com.  I am\n",
      "   <a href=\"https://twitter.com/gvanrossum\">\n",
      "    @gvanrossum\n",
      "   </a>\n",
      "   on Twitter.  I\n",
      "also have\n",
      "a\n",
      "   <a href=\"https://plus.google.com/u/0/115212051037621986145/posts\">\n",
      "    G+\n",
      "profile\n",
      "   </a>\n",
      "   .\n",
      "  </p>\n",
      "  <p>\n",
      "   In January 2013 I joined\n",
      "   <a href=\"http://www.dropbox.com\">\n",
      "    Dropbox\n",
      "   </a>\n",
      "   .  I work on various Dropbox\n",
      "products and have 50% for my Python work, no strings attached.\n",
      "Previously, I have worked for Google, Elemental Security, Zope\n",
      "Corporation, BeOpen.com, CNRI, CWI, and SARA.  (See\n",
      "my\n",
      "   <a href=\"Resume.html\">\n",
      "    resume\n",
      "   </a>\n",
      "   .)  I created Python while at CWI.\n",
      "  </p>\n",
      "  <h3>\n",
      "   How to Reach Me\n",
      "  </h3>\n",
      "  <p>\n",
      "   You can send email for me to guido (at) python.org.\n",
      "I read everything sent there, but if you ask\n",
      "me a question about using Python, it's likely that I won't have time\n",
      "to answer it, and will instead refer you to\n",
      "help (at) python.org,\n",
      "   <a href=\"http://groups.google.com/groups?q=comp.lang.python\">\n",
      "    comp.lang.python\n",
      "   </a>\n",
      "   or\n",
      "   <a href=\"http://stackoverflow.com\">\n",
      "    StackOverflow\n",
      "   </a>\n",
      "   .  If you need to\n",
      "talk to me on the phone or send me something by snail mail, send me an\n",
      "email and I'll gladly email you instructions on how to reach me.\n",
      "  </p>\n",
      "  <h3>\n",
      "   My Name\n",
      "  </h3>\n",
      "  <p>\n",
      "   My name often poses difficulties for Americans.\n",
      "  </p>\n",
      "  <p>\n",
      "   <b>\n",
      "    Pronunciation:\n",
      "   </b>\n",
      "   in Dutch, the \"G\" in Guido is a hard G,\n",
      "pronounced roughly like the \"ch\" in Scottish \"loch\".  (Listen to the\n",
      "   <a href=\"guido.au\">\n",
      "    sound clip\n",
      "   </a>\n",
      "   .)  However, if you're\n",
      "American, you may also pronounce it as the Italian \"Guido\".  I'm not\n",
      "too worried about the associations with mob assassins that some people\n",
      "have. :-)\n",
      "  </p>\n",
      "  <p>\n",
      "   <b>\n",
      "    Spelling:\n",
      "   </b>\n",
      "   my last name is two words, and I'd like to keep it\n",
      "that way, the spelling on some of my credit cards notwithstanding.\n",
      "Dutch spelling rules dictate that when used in combination with my\n",
      "first name, \"van\" is not capitalized: \"Guido van Rossum\".  But when my\n",
      "last name is used alone to refer to me, it is capitalized, for\n",
      "example: \"As usual, Van Rossum was right.\"\n",
      "  </p>\n",
      "  <p>\n",
      "   <b>\n",
      "    Alphabetization:\n",
      "   </b>\n",
      "   in America, I show up in the alphabet under\n",
      "\"V\".  But in Europe, I show up under \"R\".  And some of my friends put\n",
      "me under \"G\" in their address book...\n",
      "  </p>\n",
      "  <h3>\n",
      "   More Hyperlinks\n",
      "  </h3>\n",
      "  <ul>\n",
      "   <li>\n",
      "    Here's a collection of\n",
      "    <a href=\"http://legacy.python.org/doc/essays/\">\n",
      "     essays\n",
      "    </a>\n",
      "    relating to Python\n",
      "that I've written, including the foreword I wrote for Mark Lutz' book\n",
      "\"Programming Python\".\n",
      "    <p>\n",
      "    </p>\n",
      "   </li>\n",
      "   <li>\n",
      "    I own the official\n",
      "    <a href=\"images/license.jpg\">\n",
      "     <img align=\"center\" border=\"0\" height=\"75\" src=\"images/license_thumb.jpg\" width=\"100\"/>\n",
      "     Python license.\n",
      "    </a>\n",
      "    <p>\n",
      "    </p>\n",
      "   </li>\n",
      "  </ul>\n",
      "  <h3>\n",
      "   The Audio File Formats FAQ\n",
      "  </h3>\n",
      "  <p>\n",
      "   I was the original creator and maintainer of the Audio File Formats\n",
      "FAQ.  It is now maintained by Chris Bagwell\n",
      "at\n",
      "   <a href=\"http://www.cnpbagwell.com/audio-faq\">\n",
      "    http://www.cnpbagwell.com/audio-faq\n",
      "   </a>\n",
      "   .  And here is a link to\n",
      "   <a href=\"http://sox.sourceforge.net/\">\n",
      "    SOX\n",
      "   </a>\n",
      "   , to which I contributed\n",
      "some early code.\n",
      "  </p>\n",
      "  <hr/>\n",
      "  <a href=\"images/internetdog.gif\">\n",
      "   \"On the Internet, nobody knows you're\n",
      "a dog.\"\n",
      "  </a>\n",
      "  <hr/>\n",
      " </body>\n",
      "</html>\n"
     ]
    },
    {
     "name": "stderr",
     "output_type": "stream",
     "text": [
      "C:\\Users\\Anirban\\Anaconda3\\lib\\site-packages\\bs4\\__init__.py:181: UserWarning: No parser was explicitly specified, so I'm using the best available HTML parser for this system (\"lxml\"). This usually isn't a problem, but if you run this code on another system, or in a different virtual environment, it may use a different parser and behave differently.\n",
      "\n",
      "The code that caused this warning is on line 193 of the file C:\\Users\\Anirban\\Anaconda3\\lib\\runpy.py. To get rid of this warning, change code that looks like this:\n",
      "\n",
      " BeautifulSoup(YOUR_MARKUP})\n",
      "\n",
      "to this:\n",
      "\n",
      " BeautifulSoup(YOUR_MARKUP, \"lxml\")\n",
      "\n",
      "  markup_type=markup_type))\n"
     ]
    }
   ],
   "source": [
    "# Import packages\n",
    "import requests\n",
    "from bs4 import BeautifulSoup\n",
    "\n",
    "# Specify url: url\n",
    "url='https://www.python.org/~guido/'\n",
    "\n",
    "# Package the request, send the request and catch the response: r\n",
    "r=requests.get(url)\n",
    "\n",
    "# Extracts the response as html: html_doc\n",
    "html_doc=r.text\n",
    "\n",
    "# Create a BeautifulSoup object from the HTML: soup\n",
    "soup=BeautifulSoup(html_doc)\n",
    "\n",
    "# Prettify the BeautifulSoup object: pretty_soup\n",
    "pretty_soup=soup.prettify()\n",
    "\n",
    "# Print the response\n",
    "print(pretty_soup)\n"
   ]
  },
  {
   "cell_type": "code",
   "execution_count": 17,
   "metadata": {},
   "outputs": [
    {
     "name": "stdout",
     "output_type": "stream",
     "text": [
      "<title>Guido's Personal Home Page</title>\n",
      "\n",
      "\n",
      "Guido's Personal Home Page\n",
      "\n",
      "\n",
      "\n",
      "\n",
      "Guido van Rossum - Personal Home Page\n",
      "\"Gawky and proud of it.\"\n",
      "Who\n",
      "I Am\n",
      "Read\n",
      "my \"King's\n",
      "Day Speech\" for some inspiration.\n",
      "\n",
      "I am the author of the Python\n",
      "programming language.  See also my resume\n",
      "and my publications list, a brief bio, assorted writings, presentations and interviews (all about Python), some\n",
      "pictures of me,\n",
      "my new blog, and\n",
      "my old\n",
      "blog on Artima.com.  I am\n",
      "@gvanrossum on Twitter.  I\n",
      "also have\n",
      "a G+\n",
      "profile.\n",
      "\n",
      "In January 2013 I joined\n",
      "Dropbox.  I work on various Dropbox\n",
      "products and have 50% for my Python work, no strings attached.\n",
      "Previously, I have worked for Google, Elemental Security, Zope\n",
      "Corporation, BeOpen.com, CNRI, CWI, and SARA.  (See\n",
      "my resume.)  I created Python while at CWI.\n",
      "\n",
      "How to Reach Me\n",
      "You can send email for me to guido (at) python.org.\n",
      "I read everything sent there, but if you ask\n",
      "me a question about using Python, it's likely that I won't have time\n",
      "to answer it, and will instead refer you to\n",
      "help (at) python.org,\n",
      "comp.lang.python or\n",
      "StackOverflow.  If you need to\n",
      "talk to me on the phone or send me something by snail mail, send me an\n",
      "email and I'll gladly email you instructions on how to reach me.\n",
      "\n",
      "My Name\n",
      "My name often poses difficulties for Americans.\n",
      "\n",
      "Pronunciation: in Dutch, the \"G\" in Guido is a hard G,\n",
      "pronounced roughly like the \"ch\" in Scottish \"loch\".  (Listen to the\n",
      "sound clip.)  However, if you're\n",
      "American, you may also pronounce it as the Italian \"Guido\".  I'm not\n",
      "too worried about the associations with mob assassins that some people\n",
      "have. :-)\n",
      "\n",
      "Spelling: my last name is two words, and I'd like to keep it\n",
      "that way, the spelling on some of my credit cards notwithstanding.\n",
      "Dutch spelling rules dictate that when used in combination with my\n",
      "first name, \"van\" is not capitalized: \"Guido van Rossum\".  But when my\n",
      "last name is used alone to refer to me, it is capitalized, for\n",
      "example: \"As usual, Van Rossum was right.\"\n",
      "\n",
      "Alphabetization: in America, I show up in the alphabet under\n",
      "\"V\".  But in Europe, I show up under \"R\".  And some of my friends put\n",
      "me under \"G\" in their address book...\n",
      "\n",
      "\n",
      "More Hyperlinks\n",
      "\n",
      "Here's a collection of essays relating to Python\n",
      "that I've written, including the foreword I wrote for Mark Lutz' book\n",
      "\"Programming Python\".\n",
      "I own the official \n",
      "Python license.\n",
      "\n",
      "The Audio File Formats FAQ\n",
      "I was the original creator and maintainer of the Audio File Formats\n",
      "FAQ.  It is now maintained by Chris Bagwell\n",
      "at http://www.cnpbagwell.com/audio-faq.  And here is a link to\n",
      "SOX, to which I contributed\n",
      "some early code.\n",
      "\n",
      "\n",
      "\n",
      "\n",
      "\"On the Internet, nobody knows you're\n",
      "a dog.\"\n",
      "\n",
      "\n",
      "\n"
     ]
    },
    {
     "name": "stderr",
     "output_type": "stream",
     "text": [
      "C:\\Users\\Anirban\\Anaconda3\\lib\\site-packages\\bs4\\__init__.py:181: UserWarning: No parser was explicitly specified, so I'm using the best available HTML parser for this system (\"lxml\"). This usually isn't a problem, but if you run this code on another system, or in a different virtual environment, it may use a different parser and behave differently.\n",
      "\n",
      "The code that caused this warning is on line 193 of the file C:\\Users\\Anirban\\Anaconda3\\lib\\runpy.py. To get rid of this warning, change code that looks like this:\n",
      "\n",
      " BeautifulSoup(YOUR_MARKUP})\n",
      "\n",
      "to this:\n",
      "\n",
      " BeautifulSoup(YOUR_MARKUP, \"lxml\")\n",
      "\n",
      "  markup_type=markup_type))\n"
     ]
    }
   ],
   "source": [
    "# Import packages\n",
    "import requests\n",
    "from bs4 import BeautifulSoup\n",
    "\n",
    "# Specify url: url\n",
    "url = 'https://www.python.org/~guido/'\n",
    "\n",
    "# Package the request, send the request and catch the response: r\n",
    "r = requests.get(url)\n",
    "\n",
    "# Extract the response as html: html_doc\n",
    "html_doc = r.text\n",
    "\n",
    "# Create a BeautifulSoup object from the HTML: soup\n",
    "soup=BeautifulSoup(html_doc)\n",
    "\n",
    "# Get the title of Guido's webpage: guido_title\n",
    "guido_title=soup.title\n",
    "\n",
    "# Print the title of Guido's webpage to the shell\n",
    "print(guido_title)\n",
    "\n",
    "# Get Guido's text: guido_text\n",
    "guido_text=soup.get_text()\n",
    "\n",
    "# Print Guido's text to the shell\n",
    "print(guido_text)"
   ]
  },
  {
   "cell_type": "code",
   "execution_count": 18,
   "metadata": {},
   "outputs": [
    {
     "name": "stdout",
     "output_type": "stream",
     "text": [
      "<title>Guido's Personal Home Page</title>\n",
      "pics.html\n",
      "http://www.washingtonpost.com/wp-srv/business/longterm/microsoft/stories/1998/raymond120398.htm\n",
      "http://metalab.unc.edu/Dave/Dr-Fun/df200004/df20000406.jpg\n",
      "http://neopythonic.blogspot.com/2016/04/kings-day-speech.html\n",
      "http://www.python.org\n",
      "Resume.html\n",
      "Publications.html\n",
      "bio.html\n",
      "http://legacy.python.org/doc/essays/\n",
      "http://legacy.python.org/doc/essays/ppt/\n",
      "interviews.html\n",
      "pics.html\n",
      "http://neopythonic.blogspot.com\n",
      "http://www.artima.com/weblogs/index.jsp?blogger=12088\n",
      "https://twitter.com/gvanrossum\n",
      "https://plus.google.com/u/0/115212051037621986145/posts\n",
      "http://www.dropbox.com\n",
      "Resume.html\n",
      "http://groups.google.com/groups?q=comp.lang.python\n",
      "http://stackoverflow.com\n",
      "guido.au\n",
      "http://legacy.python.org/doc/essays/\n",
      "images/license.jpg\n",
      "http://www.cnpbagwell.com/audio-faq\n",
      "http://sox.sourceforge.net/\n",
      "images/internetdog.gif\n"
     ]
    },
    {
     "name": "stderr",
     "output_type": "stream",
     "text": [
      "C:\\Users\\Anirban\\Anaconda3\\lib\\site-packages\\bs4\\__init__.py:181: UserWarning: No parser was explicitly specified, so I'm using the best available HTML parser for this system (\"lxml\"). This usually isn't a problem, but if you run this code on another system, or in a different virtual environment, it may use a different parser and behave differently.\n",
      "\n",
      "The code that caused this warning is on line 193 of the file C:\\Users\\Anirban\\Anaconda3\\lib\\runpy.py. To get rid of this warning, change code that looks like this:\n",
      "\n",
      " BeautifulSoup(YOUR_MARKUP})\n",
      "\n",
      "to this:\n",
      "\n",
      " BeautifulSoup(YOUR_MARKUP, \"lxml\")\n",
      "\n",
      "  markup_type=markup_type))\n"
     ]
    }
   ],
   "source": [
    "# Import packages\n",
    "import requests\n",
    "from bs4 import BeautifulSoup\n",
    "\n",
    "# Specify url\n",
    "url = 'https://www.python.org/~guido/'\n",
    "\n",
    "# Package the request, send the request and catch the response: r\n",
    "r = requests.get(url)\n",
    "\n",
    "# Extracts the response as html: html_doc\n",
    "html_doc = r.text\n",
    "\n",
    "# create a BeautifulSoup object from the HTML: soup\n",
    "soup = BeautifulSoup(html_doc)\n",
    "\n",
    "# Print the title of Guido's webpage\n",
    "print(soup.title)\n",
    "\n",
    "# Find all 'a' tags (which define hyperlinks): a_tags\n",
    "a_tags = soup.find_all('a')\n",
    "\n",
    "# Print the URLs to the shell\n",
    "for link in a_tags:\n",
    "    print(link.get('href'))\n"
   ]
  },
  {
   "cell_type": "code",
   "execution_count": 19,
   "metadata": {},
   "outputs": [
    {
     "data": {
      "text/plain": [
       "'C:\\\\Users\\\\Anirban\\\\OneDrive\\\\IPYTHON'"
      ]
     },
     "execution_count": 19,
     "metadata": {},
     "output_type": "execute_result"
    }
   ],
   "source": [
    "# Load JSON: json_data\n",
    "with open(\"a_movie.json\") as json_file:\n",
    "    json_data = json.load(json_file)\n",
    "\n",
    "# Print each key-value pair in json_data\n",
    "for k in json_data.keys():\n",
    "    print(k + ': ', json_data[k])\n"
   ]
  },
  {
   "cell_type": "code",
   "execution_count": 25,
   "metadata": {},
   "outputs": [
    {
     "name": "stdout",
     "output_type": "stream",
     "text": [
      "{\"batchcomplete\":\"\",\"query\":{\"normalized\":[{\"from\":\"india\",\"to\":\"India\"}],\"pages\":{\"14533\":{\"pageid\":14533,\"ns\":0,\"title\":\"India\",\"extract\":\"<p><b>India</b>, officially the <b>Republic of India</b> (<i>Bh\\u0101rat Ga\\u1e47ar\\u0101jya</i>), is a country in South Asia. It is the seventh-largest country by area, the second-most populous country (with over 1.2 billion people), and the most populous democracy in the world. It is bounded by the Indian Ocean on the south, the Arabian Sea on the southwest, and the Bay of Bengal on the southeast. It shares land borders with Pakistan to the west; China, Nepal, and Bhutan to the northeast; and Myanmar (Burma) and Bangladesh to the east. In the Indian Ocean, India is in the vicinity of Sri Lanka and the Maldives. India's Andaman and Nicobar Islands share a maritime border with Thailand and Indonesia.</p>\\n<p>The Indian subcontinent was home to the urban Indus Valley Civilisation of the 3rd millennium BCE. In the following millennium, the oldest scriptures associated with Hinduism began to be composed. Social stratification, based on caste, emerged in the first millennium BCE, and Buddhism and Jainism arose. Early political consolidations took place under the Maurya and Gupta empires; the later peninsular Middle Kingdoms influenced cultures as far as Southeast Asia. In the medieval era, Judaism, Zoroastrianism, Christianity, and Islam arrived, and Sikhism emerged, all adding to the region's diverse culture. Much of the north fell to the Delhi sultanate; the south was united under the Vijayanagara Empire. The economy expanded in the 17th century in the Mughal Empire. In the mid-18th century, the subcontinent came under British East India Company rule, and in the mid-19th under British crown rule. A nationalist movement emerged in the late 19th century, which later, under Mahatma Gandhi, was noted for nonviolent resistance and led to India's independence in 1947.</p>\\n<p>In 2016, a survey on World Tourism rankings compiled by United Nations World Tourism Organization, the nation is visited by approximately 14.6 million tourists every year (2016), making it the 8th most visited country in the Asia-Pacific.</p>\\n<p>In 2017, the Indian economy was the world's sixth largest by nominal GDP and third largest by purchasing power parity. Following market-based economic reforms in 1991, India became one of the fastest-growing major economies and is considered a newly industrialised country. However, it continues to face the challenges of poverty, corruption, malnutrition, and inadequate public healthcare. A nuclear weapons state and regional power, it has the second largest standing army in the world and ranks fifth in military expenditure among nations. India is a federal republic governed under a parliamentary system and consists of 29 states and 7 union territories. India is widely recognized for its wide cinema, rich cuisine and lush wildlife and vegetation. It is a pluralistic, multilingual and multi-ethnic society and is also home to a diversity of wildlife in a variety of protected habitats.</p>\"}}}}\n"
     ]
    }
   ],
   "source": [
    "# Import requests package\n",
    "import requests\n",
    "\n",
    "# Assign URL to variable: url\n",
    "url='https://en.wikipedia.org/w/api.php?action=query&prop=extracts&format=json&exintro=&titles=india'\n",
    "\n",
    "# Package the request, send the request and catch the response: r\n",
    "r = requests.get(url)\n",
    "\n",
    "# Print the text of the response\n",
    "print(r.text)\n"
   ]
  },
  {
   "cell_type": "code",
   "execution_count": 24,
   "metadata": {},
   "outputs": [
    {
     "name": "stdout",
     "output_type": "stream",
     "text": [
      "batchcomplete:  \n",
      "query:  {'normalized': [{'from': 'pizza', 'to': 'Pizza'}], 'pages': {'24768': {'pageid': 24768, 'ns': 0, 'title': 'Pizza', 'extract': '<p><b>Pizza</b> is a traditional Italian dish consisting of a yeasted flatbread typically topped with tomato sauce and cheese and baked in an oven. It can also be topped with additional vegetables, meats, and condiments, and can be made without cheese.</p>\\n<p>The term <i>pizza</i> was first recorded in the 10th century, in a Latin manuscript from the Southern Italy town of Gaeta in Lazio, on the border with Campania. Modern pizza was invented in Naples, and the dish and its variants have since become popular and common in many areas of the world. In 2009, upon Italy\\'s request, Neapolitan pizza was registered with the European Union as a Traditional Speciality Guaranteed dish. <i>Associazione Verace Pizza Napoletana</i> (True Neapolitan Pizza Association), a non-profit organization founded in 1984 with headquarters in Naples, aims to \"promote and protect... the true Neapolitan pizza\".</p>\\n<p>Pizza is one of the most popular foods in the world and common fast food item in Europe and North America. Many independent or chain restaurants, cafes, and fast food outlets offer pizza. Restaurants or chains specializing in pizza are pizzerias. Pizza delivery is common in some parts of the world.</p>\\n<p>Pizza is sold fresh or frozen, either whole or in portions. Various types of ovens are used to cook them and many varieties exist. Several similar dishes are prepared from ingredients commonly used in pizza preparation, such as calzone and stromboli. In the United States, pizza is usually eaten out of hand after dividing into slices from a large pizza or small pizzetta as a whole. In Italy, pizza is eaten with a fork and knife in restaurants, but is also sold to take away and eaten out of hand. Frozen pizza became popular in the late 20th century.</p>'}}}\n"
     ]
    }
   ],
   "source": [
    "# Import package\n",
    "import requests\n",
    "\n",
    "# Assign URL to variable: url\n",
    "url = 'https://en.wikipedia.org/w/api.php?action=query&prop=extracts&format=json&exintro=&titles=pizza'\n",
    "\n",
    "# Package the request, send the request and catch the response: r\n",
    "r=requests.get(url)\n",
    "\n",
    "# Decode the JSON data into a dictionary: json_data\n",
    "json_data=r.json()\n",
    "\n",
    "# Print each key-value pair in json_data\n",
    "for k in json_data.keys():\n",
    "    print(k + ': ', json_data[k])"
   ]
  },
  {
   "cell_type": "code",
   "execution_count": 23,
   "metadata": {},
   "outputs": [
    {
     "name": "stdout",
     "output_type": "stream",
     "text": [
      "<p><b>Pizza</b> is a traditional Italian dish consisting of a yeasted flatbread typically topped with tomato sauce and cheese and baked in an oven. It can also be topped with additional vegetables, meats, and condiments, and can be made without cheese.</p>\n",
      "<p>The term <i>pizza</i> was first recorded in the 10th century, in a Latin manuscript from the Southern Italy town of Gaeta in Lazio, on the border with Campania. Modern pizza was invented in Naples, and the dish and its variants have since become popular and common in many areas of the world. In 2009, upon Italy's request, Neapolitan pizza was registered with the European Union as a Traditional Speciality Guaranteed dish. <i>Associazione Verace Pizza Napoletana</i> (True Neapolitan Pizza Association), a non-profit organization founded in 1984 with headquarters in Naples, aims to \"promote and protect... the true Neapolitan pizza\".</p>\n",
      "<p>Pizza is one of the most popular foods in the world and common fast food item in Europe and North America. Many independent or chain restaurants, cafes, and fast food outlets offer pizza. Restaurants or chains specializing in pizza are pizzerias. Pizza delivery is common in some parts of the world.</p>\n",
      "<p>Pizza is sold fresh or frozen, either whole or in portions. Various types of ovens are used to cook them and many varieties exist. Several similar dishes are prepared from ingredients commonly used in pizza preparation, such as calzone and stromboli. In the United States, pizza is usually eaten out of hand after dividing into slices from a large pizza or small pizzetta as a whole. In Italy, pizza is eaten with a fork and knife in restaurants, but is also sold to take away and eaten out of hand. Frozen pizza became popular in the late 20th century.</p>\n"
     ]
    }
   ],
   "source": [
    "# Import package\n",
    "import requests\n",
    "\n",
    "# Assign URL to variable: url\n",
    "url='https://en.wikipedia.org/w/api.php?action=query&prop=extracts&format=json&exintro=&titles=pizza'\n",
    "\n",
    "# Package the request, send the request and catch the response: r\n",
    "r = requests.get(url)\n",
    "\n",
    "# Decode the JSON data into a dictionary: json_data\n",
    "json_data=r.json()\n",
    "\n",
    "# Print the Wikipedia page extract\n",
    "pizza_extract = json_data['query']['pages']['24768']['extract']\n",
    "print(pizza_extract)"
   ]
  },
  {
   "cell_type": "code",
   "execution_count": null,
   "metadata": {
    "collapsed": true
   },
   "outputs": [],
   "source": [
    "'''\n",
    "# Store OAuth authentication credentials in relevant variables\n",
    "access_token = \"1092294848-aHN7DcRP9B4VMTQIhwqOYiB14YkW92fFO8k8EPy\"\n",
    "access_token_secret = \"X4dHmhPfaksHcQ7SCbmZa2oYBBVSD2g8uIHXsp5CTaksx\"\n",
    "consumer_key = \"nZ6EA0FxZ293SxGNg8g8aP0HM\"\n",
    "consumer_secret = \"fJGEodwe3KiKUnsYJC3VRndj7jevVvXbK2D5EiJ2nehafRgA6i\"\n",
    "\n",
    "# Pass OAuth details to tweepy's OAuth handler\n",
    "auth = tweepy.OAuthHandler(consumer_key,consumer_secret)\n",
    "auth.set_access_token(access_token,access_token_secret)\n",
    "# Initialize Stream listener\n",
    "l = MyStreamListener()\n",
    "\n",
    "# Create you Stream object with authentication\n",
    "stream = tweepy.Stream(auth, l)\n",
    "\n",
    "\n",
    "# Filter Twitter Streams to capture data by the keywords:\n",
    "stream.filter(track=['clinton', 'trump', 'sanders', 'cruz'])\n",
    "'''"
   ]
  },
  {
   "cell_type": "code",
   "execution_count": null,
   "metadata": {
    "collapsed": true
   },
   "outputs": [],
   "source": [
    "# Import package\n",
    "import json\n",
    "\n",
    "# String of path to file: tweets_data_path\n",
    "tweets_data_path='tweets.txt'\n",
    "\n",
    "# Initialize empty list to store tweets: tweets_data\n",
    "tweets_data=[]\n",
    "\n",
    "# Open connection to file\n",
    "tweets_file = open(tweets_data_path, \"r\")\n",
    "\n",
    "# Read in tweets and store in list: tweets_data\n",
    "for line in tweets_file:\n",
    "    tweet=json.loads(line)\n",
    "    tweets_data.append(tweet)\n",
    "\n",
    "# Close connection to file\n",
    "tweets_file.close()\n",
    "\n",
    "# Print the keys of the first tweet dict\n",
    "print(tweets_data[0].keys())"
   ]
  },
  {
   "cell_type": "code",
   "execution_count": null,
   "metadata": {
    "collapsed": true
   },
   "outputs": [],
   "source": [
    "# Import package\n",
    "import pandas as pd\n",
    "\n",
    "# Build DataFrame of tweet texts and languages\n",
    "df = pd.DataFrame(tweets_data, columns=['text', 'lang'])\n",
    "\n",
    "# Print head of DataFrame\n",
    "print(df.head())"
   ]
  },
  {
   "cell_type": "code",
   "execution_count": null,
   "metadata": {
    "collapsed": true
   },
   "outputs": [],
   "source": [
    "# Initialize list to store tweet counts\n",
    "[clinton, trump, sanders, cruz] = [0, 0, 0, 0]\n",
    "\n",
    "# Iterate through df, counting the number of tweets in which\n",
    "# each candidate is mentioned\n",
    "for index, row in df.iterrows():\n",
    "    clinton += word_in_text('clinton', row['text'])\n",
    "    trump += word_in_text('trump',row['text'])\n",
    "    sanders += word_in_text('sanders',row['text'])\n",
    "    cruz += word_in_text('cruz',row['text'])\n"
   ]
  },
  {
   "cell_type": "code",
   "execution_count": null,
   "metadata": {
    "collapsed": true
   },
   "outputs": [],
   "source": [
    "# Import packages\n",
    "import seaborn as sns\n",
    "import matplotlib.pyplot as plt\n",
    "\n",
    "# Set seaborn style\n",
    "sns.set(color_codes=True)\n",
    "\n",
    "# Create a list of labels:cd\n",
    "cd = ['clinton', 'trump', 'sanders', 'cruz']\n",
    "\n",
    "# Plot histogram\n",
    "ax = sns.barplot(cd,[clinton, trump, sanders, cruz])\n",
    "ax.set(ylabel=\"count\")\n",
    "plt.show()"
   ]
  },
  {
   "cell_type": "code",
   "execution_count": null,
   "metadata": {
    "collapsed": true
   },
   "outputs": [],
   "source": [
    "# Print the value counts for 'Borough'\n",
    "print(df['Borough'].value_counts(dropna=False))\n",
    "\n",
    "# Print the value_counts for 'State'\n",
    "print(df.State.value_counts(dropna=False))\n",
    "\n",
    "# Print the value counts for 'Site Fill'\n",
    "print(df['Site Fill'].value_counts(dropna=False))\n",
    "    "
   ]
  },
  {
   "cell_type": "code",
   "execution_count": 1,
   "metadata": {},
   "outputs": [
    {
     "ename": "SyntaxError",
     "evalue": "invalid syntax (<ipython-input-1-7308ee39d63f>, line 1)",
     "output_type": "error",
     "traceback": [
      "\u001b[1;36m  File \u001b[1;32m\"<ipython-input-1-7308ee39d63f>\"\u001b[1;36m, line \u001b[1;32m1\u001b[0m\n\u001b[1;33m    MANHATTAN        6310\u001b[0m\n\u001b[1;37m                        ^\u001b[0m\n\u001b[1;31mSyntaxError\u001b[0m\u001b[1;31m:\u001b[0m invalid syntax\n"
     ]
    }
   ],
   "source": [
    "MANHATTAN        6310\n",
    "BROOKLYN         2866\n",
    "QUEENS           2121\n",
    "BRONX             974\n",
    "STATEN ISLAND     575\n",
    "Name: Borough, dtype: int64\n",
    "NY    12391\n",
    "NJ      241\n",
    "PA       38\n",
    "CA       20\n",
    "OH       19\n",
    "IL       17\n",
    "FL       17\n",
    "CT       16\n",
    "TX       13\n",
    "TN       10\n",
    "MD        7\n",
    "DC        7\n",
    "KS        6\n",
    "GA        6\n",
    "MA        6\n",
    "VA        5\n",
    "CO        4\n",
    "MN        3\n",
    "AZ        3\n",
    "WI        3\n",
    "SC        3\n",
    "RI        2\n",
    "NC        2\n",
    "UT        2\n",
    "MI        1\n",
    "VT        1\n",
    "NM        1\n",
    "IN        1\n",
    "WA        1\n",
    "Name: State, dtype: int64\n",
    "NOT APPLICABLE                              7806\n",
    "NaN                                         4205\n",
    "ON-SITE                                      519\n",
    "OFF-SITE                                     186\n",
    "USE UNDER 300 CU.YD                          130\n",
    "Name: Site Fill, dtype: int64"
   ]
  },
  {
   "cell_type": "code",
   "execution_count": null,
   "metadata": {
    "collapsed": true
   },
   "outputs": [],
   "source": [
    "# Import matplotlib.pyplot\n",
    "import matplotlib.pyplot as plt\n",
    "\n",
    "# Plot the histogram\n",
    "df['Existing Zoning Sqft'].plot(kind='hist', rot=70, logx=True, logy=True)\n",
    "\n",
    "# Display the histogram\n",
    "plt.show()\n"
   ]
  },
  {
   "cell_type": "code",
   "execution_count": null,
   "metadata": {
    "collapsed": true
   },
   "outputs": [],
   "source": [
    "# Import necessary modules\n",
    "import pandas as pd\n",
    "import matplotlib.pyplot as plt\n",
    "\n",
    "# Create the boxplot\n",
    "df.boxplot(column='initial_cost', by=\"total_est_fee\", rot=90)\n",
    "\n",
    "# Display the plot\n",
    "plt.show()"
   ]
  },
  {
   "cell_type": "code",
   "execution_count": null,
   "metadata": {
    "collapsed": true
   },
   "outputs": [],
   "source": [
    "# Import necessary modules\n",
    "import pandas as pd\n",
    "import matplotlib.pyplot as plt\n",
    "\n",
    "# Create and display the first scatter plot\n",
    "df.plot(kind='scatter', x='initial_cost', y='total_est_fee', rot=70)\n",
    "plt.show()\n",
    "\n",
    "# Create and display the second scatter plot\n",
    "df_subset.plot(kind='scatter',x='initial_cost',y='total_est_fee',rot=90)"
   ]
  },
  {
   "cell_type": "code",
   "execution_count": null,
   "metadata": {
    "collapsed": true
   },
   "outputs": [],
   "source": [
    "# Print the head of airquality\n",
    "print(airquality.head())\n",
    "\n",
    "# Melt airquality: airquality_melt\n",
    "airquality_melt = pd.melt(frame=airquality ,id_vars=['Month','Day'])\n",
    "\n",
    "# Print the head of airquality_melt\n",
    "print(airquality_melt.head())\n"
   ]
  },
  {
   "cell_type": "code",
   "execution_count": null,
   "metadata": {
    "collapsed": true
   },
   "outputs": [],
   "source": [
    "# Print the head of airquality\n",
    "print(airquality.head())\n",
    "\n",
    "# Melt airquality: airquality_melt\n",
    "airquality_melt = pd.melt(frame=airquality,id_vars=['Month', 'Day'], var_name='measurement', value_name='reading')\n",
    "\n",
    "# Print the head of airquality_melt\n",
    "print(airquality_melt.head())\n"
   ]
  },
  {
   "cell_type": "code",
   "execution_count": null,
   "metadata": {
    "collapsed": true
   },
   "outputs": [],
   "source": [
    "# Print the head of airquality_melt\n",
    "print(airquality_melt.head())\n",
    "\n",
    "# Pivot airquality_melt: airquality_pivot\n",
    "airquality_pivot = airquality_melt.pivot_table(index=['Month','Day'], columns=['measurement'], values='reading')\n",
    "\n",
    "# Print the head of airquality_pivot\n",
    "print(airquality_pivot.head())"
   ]
  },
  {
   "cell_type": "code",
   "execution_count": null,
   "metadata": {
    "collapsed": true
   },
   "outputs": [],
   "source": []
  }
 ],
 "metadata": {
  "kernelspec": {
   "display_name": "Python 3",
   "language": "python",
   "name": "python3"
  },
  "language_info": {
   "codemirror_mode": {
    "name": "ipython",
    "version": 3
   },
   "file_extension": ".py",
   "mimetype": "text/x-python",
   "name": "python",
   "nbconvert_exporter": "python",
   "pygments_lexer": "ipython3",
   "version": "3.6.3"
  }
 },
 "nbformat": 4,
 "nbformat_minor": 2
}
